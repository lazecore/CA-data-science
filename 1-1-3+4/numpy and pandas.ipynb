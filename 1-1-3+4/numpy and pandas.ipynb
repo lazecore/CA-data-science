{
 "cells": [
  {
   "attachments": {},
   "cell_type": "markdown",
   "metadata": {},
   "source": [
    "# Sprint 3 Epic 1: Basics of Statistics\n",
    "\n",
    "https://lms.codeacademyberlin.com/content/data/Module-1/Project-1/Sprint-3"
   ]
  },
  {
   "attachments": {},
   "cell_type": "markdown",
   "metadata": {},
   "source": [
    "Exercise 1 \n",
    "\n",
    "Given, there are 5 numbers in the data set: (8, 12, 16, 24, 4).\n",
    "\n",
    "What is the standard deviation?\n",
    "* 6.88 (2dp)\n",
    "\n",
    "And, what will be the sum of deviations of individual data points from their mean?\n",
    "* 47.36"
   ]
  },
  {
   "attachments": {},
   "cell_type": "markdown",
   "metadata": {},
   "source": [
    "Exercise 2\n",
    "\n",
    "If some outliers are introduced to the dataset, what will happen to the Standard Deviation? Will it increase, decrease or remain the same?\n",
    "* Increase"
   ]
  },
  {
   "attachments": {},
   "cell_type": "markdown",
   "metadata": {},
   "source": [
    "Exercise 3 - no Numpy\n",
    "\n",
    "Suppose the below positively skewed distribution has a median of 30, which of the following statement is true?\n",
    "\n",
    "A) Mean is greater than 30\n",
    "D) Mode is less than 30\n",
    "\n",
    "* E) Both A and D\n"
   ]
  },
  {
   "attachments": {},
   "cell_type": "markdown",
   "metadata": {},
   "source": [
    "Exercise 4\n",
    "\n",
    "Which value can be the possible value for the median of the below distribution?\n",
    "* 27 ?\n",
    "\n",
    "Assume the data are distributed as follows:"
   ]
  },
  {
   "cell_type": "code",
   "execution_count": 1,
   "metadata": {},
   "outputs": [
    {
     "ename": "ModuleNotFoundError",
     "evalue": "No module named 'numpy'",
     "output_type": "error",
     "traceback": [
      "\u001b[0;31m---------------------------------------------------------------------------\u001b[0m",
      "\u001b[0;31mModuleNotFoundError\u001b[0m                       Traceback (most recent call last)",
      "Cell \u001b[0;32mIn[1], line 1\u001b[0m\n\u001b[0;32m----> 1\u001b[0m \u001b[39mimport\u001b[39;00m \u001b[39mnumpy\u001b[39;00m \u001b[39mas\u001b[39;00m \u001b[39mnp\u001b[39;00m\n\u001b[1;32m      3\u001b[0m random_arr \u001b[39m=\u001b[39m np\u001b[39m.\u001b[39marray([\u001b[39m10\u001b[39m, \u001b[39m10\u001b[39m, \u001b[39m10\u001b[39m, \u001b[39m10\u001b[39m, \u001b[39m11\u001b[39m, \u001b[39m11\u001b[39m, \u001b[39m12\u001b[39m, \u001b[39m13\u001b[39m, \u001b[39m14\u001b[39m ],\n\u001b[1;32m      4\u001b[0m [\u001b[39m15\u001b[39m, \u001b[39m15\u001b[39m, \u001b[39m15\u001b[39m, \u001b[39m16\u001b[39m, \u001b[39m16\u001b[39m, \u001b[39m16\u001b[39m, \u001b[39m16\u001b[39m, \u001b[39m16\u001b[39m, \u001b[39m17\u001b[39m, \u001b[39m18\u001b[39m, \u001b[39m19\u001b[39m, \u001b[39m19\u001b[39m],\n\u001b[1;32m      5\u001b[0m [\u001b[39m20\u001b[39m, \u001b[39m20\u001b[39m, \u001b[39m20\u001b[39m, \u001b[39m21\u001b[39m, \u001b[39m21\u001b[39m, \u001b[39m21\u001b[39m, \u001b[39m21\u001b[39m, \u001b[39m21\u001b[39m, \u001b[39m22\u001b[39m, \u001b[39m22\u001b[39m, \u001b[39m22\u001b[39m, \u001b[39m23\u001b[39m, \u001b[39m23\u001b[39m, \u001b[39m23\u001b[39m, \u001b[39m24\u001b[39m, \u001b[39m24\u001b[39m, \u001b[39m24\u001b[39m],\n\u001b[0;32m   (...)\u001b[0m\n\u001b[1;32m     10\u001b[0m [\u001b[39m46\u001b[39m, \u001b[39m46\u001b[39m, \u001b[39m46\u001b[39m, \u001b[39m47\u001b[39m, \u001b[39m49\u001b[39m],\n\u001b[1;32m     11\u001b[0m [\u001b[39m52\u001b[39m, \u001b[39m53\u001b[39m, \u001b[39m54\u001b[39m])\n\u001b[1;32m     13\u001b[0m \u001b[39mprint\u001b[39m(random_arr)\n",
      "\u001b[0;31mModuleNotFoundError\u001b[0m: No module named 'numpy'"
     ]
    }
   ],
   "source": [
    "import numpy as np\n",
    "\n",
    "random_arr = np.array([10, 10, 10, 10, 11, 11, 12, 13, 14 ],\n",
    "[15, 15, 15, 16, 16, 16, 16, 16, 17, 18, 19, 19],\n",
    "[20, 20, 20, 21, 21, 21, 21, 21, 22, 22, 22, 23, 23, 23, 24, 24, 24],\n",
    "[26, 26, 26, 26, 26, 26, 26, 27, 27, 27, 27, 29, 29, 29, 29, 29, 29, 29, 29, 29],\n",
    "[30, 30, 30, 30, 30, 31, 31, 32, 32, 33, 33, 34, 34],\n",
    "[35, 35, 35, 37, 37, 37, 37, 39, 39, 39],\n",
    "[40, 40, 43, 43, 44, 44],\n",
    "[46, 46, 46, 47, 49],\n",
    "[52, 53, 54])\n",
    "\n",
    "print(random_arr)"
   ]
  },
  {
   "attachments": {},
   "cell_type": "markdown",
   "metadata": {},
   "source": [
    "Exercise 5-6-7 (no Numpy)\n",
    "\n",
    "Given the following distribution:\n",
    "What is the shape of the distribution? \n",
    "* Positive skewed unimodal\n",
    "\n",
    "What would you consider to be the most appropriate measure of the center for this data?\n",
    "* Mode, because ???\n",
    "\n",
    "If Y axis represents the number of individuals and X axis – salary of the individual in thousands. How many individuals have salary less than 10 thousands? (no Numpy)\n",
    "* 35"
   ]
  },
  {
   "cell_type": "markdown",
   "metadata": {},
   "source": [
    "Exercise 8\n",
    "We have a set of positive numbers. If a single value of the set is altered what must change?\n",
    "\n",
    "A) Mean\n",
    "B) Median\n",
    "C) Mode\n",
    "D) All of these\n",
    "\n",
    "Hint: try to create a Numpy array and calculate mean median and mode, then alter it and see what changes\n",
    "\n",
    "Exercise 9\n",
    "The chart shows hourly consultancy rate of 10 people.\n",
    "\n",
    "Calculate the standard deviation of the salaries of the 10 employees.\n",
    "\n",
    "stat 5\n",
    "\n",
    "Exercise 10 (no Numpy)\n",
    "Which of the following random variables is discrete?\n",
    "\n",
    "A) the length of time a battery lasts\n",
    "B) the number of pens purchased by a student in a year\n",
    "C) the percentage of cows in a cattle firm that have been vaccinated\n",
    "D) the distance between a pair of towns\n",
    "\n",
    "Exercise 11 (no Numpy)\n",
    "Which of the below normal distributions will have the greatest spread?\n",
    "\n",
    "A) mu=5, sigma =1.5\n",
    "B) mu=10, sigma =1.0\n",
    "C) mu=5, sigma =1.65\n",
    "D) mu=8, sigma =1.2\n",
    "E) mu=10, sigma =1.6\n",
    "\n",
    "Other Exercise\n",
    "Here you will find a list of 100 Numpy exercises to do: https://github.com/rougier/numpy-100/blob/master/100_Numpy_exercises.md"
   ]
  }
 ],
 "metadata": {
  "kernelspec": {
   "display_name": "Python 3",
   "language": "python",
   "name": "python3"
  },
  "language_info": {
   "codemirror_mode": {
    "name": "ipython",
    "version": 3
   },
   "file_extension": ".py",
   "mimetype": "text/x-python",
   "name": "python",
   "nbconvert_exporter": "python",
   "pygments_lexer": "ipython3",
   "version": "3.9.16"
  },
  "orig_nbformat": 4
 },
 "nbformat": 4,
 "nbformat_minor": 2
}
