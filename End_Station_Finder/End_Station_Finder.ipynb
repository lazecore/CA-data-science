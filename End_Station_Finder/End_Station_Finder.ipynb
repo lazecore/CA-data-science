{
 "cells": [
  {
   "attachments": {},
   "cell_type": "markdown",
   "metadata": {},
   "source": [
    "# End Station Finder"
   ]
  },
  {
   "attachments": {},
   "cell_type": "markdown",
   "metadata": {},
   "source": [
    "## The challenge:\n",
    "My friend Lou has a project. They want to visit all the end stations on the Berlin S-Bahn and U-Bahn system. However, to count as a truly satisfying end station, the station must not only be at the end of its own line, but must also lack an interchange to another line. Lou wants only the end-iest of end stations."
   ]
  },
  {
   "attachments": {},
   "cell_type": "markdown",
   "metadata": {},
   "source": [
    "## The data:\n",
    "\n",
    "Berlin provides transport data in GTFS (General Transit Feed Specification) format. This encompasses two types of data: live, and static. \n",
    "\n",
    "- The live data is what drives our transport apps (pun intended) and notifies us of delays and changes.\n",
    "- The static data tells us and our apps how all the points on the network are linked together. It is this second type of GTFS data which can help us identify our stations."
   ]
  },
  {
   "attachments": {},
   "cell_type": "markdown",
   "metadata": {},
   "source": [
    "### Static GTFS data format\n",
    "GTFS data is technically its own data format, but it is very readable as it is merely a ZIP comprised of CSV (as TXT) files:\n",
    "-  agency.txt\n",
    "-  pathways.txt\n",
    "-  levels.txt\n",
    "-  frequencies.txt\n",
    "-  transfers.txt\n",
    "-  stops.txt\n",
    "-  shapes.txt\n",
    "-  calendar.txt\n",
    "-  calendar_dates.txt\n",
    "-  trips.txt\n",
    "-  stop_times.txt\n",
    "-  routes.txt\n",
    "\n",
    "I will use the following tables:\n",
    "stops.txt for the stop IDs and names\n",
    "- \"stop_id\" (primary key)\n",
    "- \"stop_name\"\n",
    "- \"stop_lon\"\n",
    "- \"stop_lat\"\n",
    "\n",
    "transfers.txt for the transfers (or lack thereof)\n",
    "- \"from_stop_id\"\n",
    "- \"to_stop_id\"\n",
    "- \"transfer_type\"\n",
    "- \"min_transfer_time\"\n",
    "- \"from_route_id\"\n",
    "- \"to_route_id\"\n",
    "- \"from_trip_id\"\n",
    "- \"to_trip_id\"\n",
    "\n",
    "GTFS does not contain a list of stops on a route. Instead, sequences of stops are associated with individual trips. But trips.txt only contains trip IDs, so we need to supplement it with the giant stop_times.txt.\n",
    "\n",
    "trips.txt for the trip IDs\n",
    "- \"route_id\"\n",
    "- \"service_id\"\n",
    "- \"trip_id\"\n",
    "- \"trip_headsign\"\n",
    "- \"trip_short_name\"\n",
    "- \"direction_id\"\n",
    "- \"block_id\"\n",
    "- \"shape_id\"\n",
    "- \"wheelchair_accessible\"\n",
    "- \"bikes_allowed\"\n",
    "\n",
    "stop_times.txt for the sequence of stops\n",
    "- \"trip_id\"\n",
    "- \"arrival_time\"\n",
    "- \"departure_time\"\n",
    "- \"stop_id\"\n",
    "- \"stop_sequence\"\n",
    "- \"pickup_type\"\n",
    "- \"drop_off_type\"\n",
    "- \"stop_headsign\"\n"
   ]
  }
 ],
 "metadata": {
  "language_info": {
   "name": "python"
  },
  "orig_nbformat": 4
 },
 "nbformat": 4,
 "nbformat_minor": 2
}
