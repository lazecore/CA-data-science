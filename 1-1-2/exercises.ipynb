{
 "cells": [
  {
   "attachments": {},
   "cell_type": "markdown",
   "metadata": {},
   "source": [
    "Variables"
   ]
  },
  {
   "cell_type": "code",
   "execution_count": 1,
   "metadata": {},
   "outputs": [
    {
     "name": "stdout",
     "output_type": "stream",
     "text": [
      "sian\n"
     ]
    }
   ],
   "source": [
    "# Exercise 1\n",
    "## create a variable called my_name with your name as the value inside string quotes, e.g., \"my name\". \n",
    "## add a line of code to print the variable name. Save your file in your editor and run the cell\n",
    "\n",
    "my_name = \"sian\"\n",
    "print(my_name)"
   ]
  },
  {
   "cell_type": "code",
   "execution_count": 18,
   "metadata": {},
   "outputs": [
    {
     "name": "stdout",
     "output_type": "stream",
     "text": [
      "99\n"
     ]
    }
   ],
   "source": [
    "# Exercise 2\n",
    "## Create a variable called age with a number that is your age. Do not use string quotes for numbers.\n",
    "## Add a line to print that variable. Save the file and run the cell.\n",
    "\n",
    "age = 99\n",
    "print (age)"
   ]
  },
  {
   "cell_type": "code",
   "execution_count": 5,
   "metadata": {},
   "outputs": [
    {
     "name": "stdout",
     "output_type": "stream",
     "text": [
      "67 years\n"
     ]
    }
   ],
   "source": [
    "# Exercise 3\n",
    "## Create a variable called julia_age with a value 32.\n",
    "julia_age = 32\n",
    "## Create another variable called age_diff and set it to an expression that calculates your age minus Julias's age. \n",
    "age_diff = age - 32\n",
    "## Print the value of age_diff. Save the file and run the cell. If you are younger than Julia, you should see a negative number.\n",
    "print(age_diff, \"years\")"
   ]
  },
  {
   "attachments": {},
   "cell_type": "markdown",
   "metadata": {},
   "source": [
    "Conditionals"
   ]
  },
  {
   "cell_type": "code",
   "execution_count": 12,
   "metadata": {},
   "outputs": [
    {
     "name": "stdout",
     "output_type": "stream",
     "text": [
      "You are older than 21\n"
     ]
    }
   ],
   "source": [
    "# Exercise 4\n",
    "## Write a conditional that compares the variable holding your age with the number 21. It should print either \"You are older than 21\" or \"You are not older than 21\" \n",
    "## Try changing your age in the file to make sure the other message prints when it should.\n",
    "\n",
    "if age > 21: print(\"You are older than 21\")\n",
    "else: print(\"You are not older than 21\")"
   ]
  },
  {
   "cell_type": "code",
   "execution_count": 17,
   "metadata": {},
   "outputs": [
    {
     "name": "stdout",
     "output_type": "stream",
     "text": [
      "Julia is older than you\n"
     ]
    }
   ],
   "source": [
    "# Exercise 5\n",
    "## Write a conditional that compares your age with Julia's age. This conditional will need to test if you are older, younger, or the same age\n",
    "## print either \"Julia is older than you\", Julia is younger than you\", or \"You have the same age as Julia\".\n",
    "if age > julia_age: print(\"Julia is younger than you\")\n",
    "elif age == julia_age: print(\"Julia is the same age as you\")\n",
    "else: print(\"Julia is older than you\")"
   ]
  },
  {
   "attachments": {},
   "cell_type": "markdown",
   "metadata": {},
   "source": [
    "Lists and Loops"
   ]
  },
  {
   "cell_type": "code",
   "execution_count": 54,
   "metadata": {},
   "outputs": [
    {
     "name": "stdout",
     "output_type": "stream",
     "text": [
      "1. First and Last:\n",
      "Arjun\n",
      "Tanusree\n",
      "\n",
      "2. All:\n",
      "Arjun\n",
      "Carmen\n",
      "Killian\n",
      "Natalie\n",
      "Nestor\n",
      "Max\n",
      "Sergio\n",
      "Sian\n",
      "Tanusree\n"
     ]
    }
   ],
   "source": [
    "# Exercise 6\n",
    "## Create a list with all the names of your class (including mentors). Sort the list alphabetically. \n",
    "data_science_humans = [\"Arjun\", \"Carmen\", \"Killian\", \"Natalie\", \"Nestor\", \"Max\", \"Sergio\", \"Sian\", \"Tanusree\"]\n",
    "## print the first element of the list. \n",
    "print(\"1. First and Last:\")\n",
    "print(data_science_humans[0])\n",
    "## On the next line, print the last element of the list. \n",
    "print(data_science_humans[-1])\n",
    "## On the next line, print all the elements of the list (use a \"for\" loop).\n",
    "print(\"\\n2. All:\")\n",
    "for n in data_science_humans: print(n)\n",
    "# Save the file and run the cell. You should see the first element of the sorted list, the last element of the sorted list, and all the elements in order in the list."
   ]
  },
  {
   "cell_type": "code",
   "execution_count": 35,
   "metadata": {},
   "outputs": [
    {
     "name": "stdout",
     "output_type": "stream",
     "text": [
      "All ages:\n",
      "67\n",
      "25\n",
      "34\n",
      "28\n",
      "50\n",
      "12\n",
      "37\n",
      "99\n",
      "32\n",
      "Even ages only:\n",
      "34\n",
      "28\n",
      "50\n",
      "12\n",
      "32\n"
     ]
    }
   ],
   "source": [
    "# Exercise 7\n",
    "## Create a list with all the ages of the students in your class.\n",
    "data_science_ages  = [67, 25, 34, 28, 50, 12, 37, 99, 32]\n",
    "## Iterate through the list using a for loop, and then print every age.\n",
    "print(\"All ages:\")\n",
    "for n in data_science_ages: print(n)\n",
    "## Add a conditional inside the loop to only print even numbers.\n",
    "print(\"Even ages only:\")\n",
    "for n in data_science_ages: \n",
    "    if (n) % 2 == 0: \n",
    "        print(n)\n",
    "# Save your changes and run the cell. You should see every age printed, then only the even numbers printed."
   ]
  },
  {
   "cell_type": "code",
   "execution_count": 48,
   "metadata": {},
   "outputs": [
    {
     "name": "stdout",
     "output_type": "stream",
     "text": [
      "1\n",
      "97\n"
     ]
    }
   ],
   "source": [
    "# Exercise 8\n",
    "# Write a list containing numbers and print the lowest number.\n",
    "# Exercise 9\n",
    "# Write a list containing numbers and print the highest number.\n",
    "primelist = [2, 3, 5, 7, 11, 13, 17, 19, 23, 29, 31, 37, 41, 43, 47, 53, 59, 61, 67, 71, 73, 79, 83, 89, 97, 1]\n",
    "print(min(primelist))\n",
    "print(max(primelist))"
   ]
  },
  {
   "cell_type": "code",
   "execution_count": 31,
   "metadata": {},
   "outputs": [
    {
     "name": "stdout",
     "output_type": "stream",
     "text": [
      "Bob\n",
      "24\n",
      "Jack\n",
      "28\n",
      "Lisa\n",
      "18\n",
      "Maria\n",
      "13\n",
      "Ben\n",
      "16\n",
      "Emma\n",
      "17\n",
      "Oscar\n",
      "29\n",
      "Amy\n",
      "27\n",
      "Paul\n",
      "44\n",
      "Etta\n",
      "15\n"
     ]
    }
   ],
   "source": [
    "# Exercise 11\n",
    "# Given below is a list of 10 customers with name and year of birth, however, the list can be as large as several thousands of customers.\n",
    "customer_list = [\n",
    "                    {\"name\": \"Bob\", \"age\": 1999},\n",
    "                    {\"name\": \"Jack\", \"age\": 1995},\n",
    "                    {\"name\": \"Lisa\", \"age\": 2005},\n",
    "                    {\"name\": \"Maria\", \"age\": 2010},\n",
    "                    {\"name\": \"Ben\", \"age\": 2007},\n",
    "                    {\"name\": \"Emma\", \"age\": 2006},\n",
    "                    {\"name\": \"Oscar\", \"age\": 1994},\n",
    "                    {\"name\": \"Amy\", \"age\": 1996},\n",
    "                    {\"name\": \"Paul\", \"age\": 1979},\n",
    "                    {\"name\": \"Etta\", \"age\": 2008}\n",
    "                ]\n",
    "### don't know what kind of structure this is?? list of dictionaries?\n",
    "### sanity check: just retrieve anything\n",
    "#print(customer_list[0][\"name\"]) ### success!\n",
    "\n",
    "## Use a loop to iterate over the list and print the name and age of each customer.\n",
    "#for i in customer_list: \n",
    "# print(customer_list[i]['name'])\n",
    "for k in customer_list: \n",
    "    print(k[\"name\"])\n",
    "    print(2023 - k[\"age\"]) ### success!"
   ]
  },
  {
   "cell_type": "code",
   "execution_count": 103,
   "metadata": {},
   "outputs": [
    {
     "name": "stdout",
     "output_type": "stream",
     "text": [
      "Bob is 24 years old\n",
      "Jack is 28 years old\n",
      "Lisa is 18 years old\n",
      "Maria is 13 years old\n",
      "Ben is 16 years old\n",
      "Emma is 17 years old\n",
      "Oscar is 29 years old\n",
      "Amy is 27 years old\n",
      "Paul is 44 years old\n",
      "Etta is 15 years old\n"
     ]
    }
   ],
   "source": [
    "## for each customer try to print the sentence \"customer_name is customer_age years old\".\n",
    "##.format example from tutorial: hw12 = '{} {} {}'.format(hello, world, 12)\n",
    "\n",
    "# for k in customer_list: \n",
    "#     print(\"{} {}\".format(k[\"name\"], k[\"age\"])   ### fail\n",
    "\n",
    "for j in customer_list:\n",
    "    # get current year to calculate current age\n",
    "    import datetime\n",
    "    today = datetime.datetime.now()\n",
    "    yearnow = today.year\n",
    "\n",
    "    customer_name = j[\"name\"]\n",
    "    customer_age = yearnow- j[\"age\"]\n",
    "    # print(customer_name)\n",
    "    # print(customer_age)\n",
    "    print(\"{} is {} years old\".format(customer_name, customer_age))\n"
   ]
  },
  {
   "cell_type": "code",
   "execution_count": 7,
   "metadata": {},
   "outputs": [
    {
     "name": "stdout",
     "output_type": "stream",
     "text": [
      "[11, 12, 13, 14, 20, 23, 24, 25]\n"
     ]
    }
   ],
   "source": [
    "# Exercise 12\n",
    "# Given a list of ages, remove the youngest and the oldest person. For this exercise try not to use the max() and min() methods.\n",
    "ages = [20, 24, 14, 9, 12, 13, 25, 23, 40, 11]\n",
    "ages2 = sorted(ages)\n",
    "del ages2[0]\n",
    "del ages2[-1]\n",
    "print(ages2)"
   ]
  },
  {
   "cell_type": "code",
   "execution_count": 8,
   "metadata": {},
   "outputs": [
    {
     "name": "stdout",
     "output_type": "stream",
     "text": [
      "[15, 13, 16, 18, 19, 10]\n"
     ]
    }
   ],
   "source": [
    "# Exercise 13\n",
    "# You have two lists with ages of customers from different cities. create another list of the common ages.\n",
    "berlin = [15, 13, 16, 18, 19, 10, 12 ]\n",
    "munich = [7, 13, 15, 20, 19, 18, 10, 16]\n",
    "\n",
    "common = [age for age in berlin if age in munich]\n",
    "print(common)"
   ]
  },
  {
   "cell_type": "code",
   "execution_count": 13,
   "metadata": {},
   "outputs": [
    {
     "name": "stdout",
     "output_type": "stream",
     "text": [
      "{10, 13, 15, 16, 18, 19}\n"
     ]
    }
   ],
   "source": [
    "# Exercise 14\n",
    "# You have a list with ages. Remove the duplicates.\n",
    "age_list = [15,13,16,18,19,15,10]\n",
    "\n",
    "# unique = []\n",
    "# unique = [age for age in age_list if age not in unique]\n",
    "# print(unique)  ###failed\n",
    "\n",
    "print(set(age_list))  ## convert to set because sets are unique. success!?\n"
   ]
  },
  {
   "attachments": {},
   "cell_type": "markdown",
   "metadata": {},
   "source": [
    "# Functions"
   ]
  },
  {
   "cell_type": "code",
   "execution_count": 22,
   "metadata": {},
   "outputs": [
    {
     "name": "stdout",
     "output_type": "stream",
     "text": [
      "Welcome ggg, have a nice day!\n"
     ]
    }
   ],
   "source": [
    "# Exercise 15\n",
    "# Write a function that works like below:\n",
    "    # Function name: welcome\n",
    "    # welcome('Evelyn') would print- 'Welcome Evelyn, have a nice day!'\n",
    "    # welcome('Jost'), it would print - 'Welcome Jost, have a nice day!'\n",
    "\n",
    "#define funtion and args\n",
    "def welcomer(name):\n",
    "    print(\"Welcome \" + name + \", have a nice day!\")\n",
    "\n",
    "#call function (here with input field for name directly as the input instead of an extra external variable)\n",
    "welcomer(input(\"Hi, what's your name?\"))"
   ]
  },
  {
   "cell_type": "code",
   "execution_count": 23,
   "metadata": {},
   "outputs": [
    {
     "name": "stdout",
     "output_type": "stream",
     "text": [
      "7\n"
     ]
    }
   ],
   "source": [
    "# Exercise 16\n",
    "# Write a function that takes a string as input and calculates the length.\n",
    "    # Function name: get_length\n",
    "    # get_length('Hello') would print / return 5.\n",
    "    # get_length('Hi') would print / return 2.\n",
    "\n",
    "def get_length(word):\n",
    "    length = len(word)\n",
    "    return length\n",
    "\n",
    "print(get_length(input(\"Enter a word to get the length:\"))) ## omg so much nesting! translation: print the return of function get_length once you've asked for input to word variable\n"
   ]
  },
  {
   "cell_type": "code",
   "execution_count": 26,
   "metadata": {},
   "outputs": [
    {
     "name": "stdout",
     "output_type": "stream",
     "text": [
      "Yes\n"
     ]
    }
   ],
   "source": [
    "# Exercise 17\n",
    "# Write a function which checks whether a number is even. Hint: Think about the modulus operator\n",
    "    # Function name: check_even\n",
    "    # check_even(6) would print / return 'Yes'\n",
    "    # check_even(5) would print / return 'No'\n",
    "\n",
    "def check_even(num):\n",
    "    if (num) % 2 == 0:\n",
    "        print(\"Yes\")\n",
    "    else: \n",
    "        print(\"No\")\n",
    "\n",
    "check_even(30)"
   ]
  },
  {
   "cell_type": "code",
   "execution_count": 30,
   "metadata": {},
   "outputs": [
    {
     "name": "stdout",
     "output_type": "stream",
     "text": [
      "Bob : 24\n",
      "Jack : 28\n",
      "Lisa : 18\n",
      "Maria : 13\n",
      "Ben : 16\n",
      "Emma : 17\n",
      "Oscar : 29\n",
      "Amy : 27\n",
      "Paul : 44\n",
      "Etta : 15\n"
     ]
    }
   ],
   "source": [
    "# Exercise 18\n",
    "# Rewrite exercises 11, 12, 13, 14, 15 (sic) in a function.\n",
    "\n",
    "#18.11 ## Use a loop to iterate over the list and print the name and age of each customer.\n",
    "customer_list = [\n",
    "                    {\"name\": \"Bob\", \"age\": 1999},\n",
    "                    {\"name\": \"Jack\", \"age\": 1995},\n",
    "                    {\"name\": \"Lisa\", \"age\": 2005},\n",
    "                    {\"name\": \"Maria\", \"age\": 2010},\n",
    "                    {\"name\": \"Ben\", \"age\": 2007},\n",
    "                    {\"name\": \"Emma\", \"age\": 2006},\n",
    "                    {\"name\": \"Oscar\", \"age\": 1994},\n",
    "                    {\"name\": \"Amy\", \"age\": 1996},\n",
    "                    {\"name\": \"Paul\", \"age\": 1979},\n",
    "                    {\"name\": \"Etta\", \"age\": 2008}\n",
    "                ]\n",
    "\n",
    "## define function with inputs as list and current year\n",
    "def print_name_and_age(list, yearnow):\n",
    "    for k in list: \n",
    "        print(k[\"name\"],\":\", yearnow - k[\"age\"])\n",
    "\n",
    "print_name_and_age(customer_list, 2023)"
   ]
  },
  {
   "cell_type": "code",
   "execution_count": 33,
   "metadata": {},
   "outputs": [
    {
     "name": "stdout",
     "output_type": "stream",
     "text": [
      "[11, 12, 13, 14, 20, 23, 24, 25]\n"
     ]
    }
   ],
   "source": [
    "#18.12 # Given a list of ages, remove the youngest and the oldest person. For this exercise try not to use the max() and min() methods.\n",
    "ages = [20, 24, 14, 9, 12, 13, 25, 23, 40, 11]\n",
    "\n",
    "def rm_old_young(list):\n",
    "    ages2 = sorted(list)\n",
    "    del ages2[0]\n",
    "    del ages2[-1]\n",
    "    print(ages2)\n",
    "\n",
    "rm_old_young(ages)"
   ]
  },
  {
   "cell_type": "code",
   "execution_count": 35,
   "metadata": {},
   "outputs": [
    {
     "name": "stdout",
     "output_type": "stream",
     "text": [
      "[15, 13, 16, 18, 19, 10]\n"
     ]
    }
   ],
   "source": [
    "#18.13 # You have two lists with ages of customers from different cities. create another list of the common ages.\n",
    "berlin = [15, 13, 16, 18, 19, 10, 12 ]\n",
    "munich = [7, 13, 15, 20, 19, 18, 10, 16]\n",
    "\n",
    "def get_common(list1, list2):\n",
    "    common = [age for age in list1 if age in list2]\n",
    "    print(common)\n",
    "\n",
    "get_common(berlin, munich)"
   ]
  },
  {
   "cell_type": "code",
   "execution_count": 38,
   "metadata": {},
   "outputs": [
    {
     "name": "stdout",
     "output_type": "stream",
     "text": [
      "[15, 13, 16, 18, 19, 10]\n"
     ]
    }
   ],
   "source": [
    "#18.14 # You have a list with ages. Remove the duplicates.\n",
    "age_list = [15,13,16,18,19,15,10]\n",
    "\n",
    "def rm_duplicates(list):\n",
    "    cleaned_list = []\n",
    "    [cleaned_list.append(age) for age in list if age not in cleaned_list] ### re-did the function using list comprehension - it didn't work list time bc i forgot to use append\n",
    "    print(cleaned_list)\n",
    "\n",
    "rm_duplicates(age_list)"
   ]
  },
  {
   "cell_type": "code",
   "execution_count": 46,
   "metadata": {},
   "outputs": [
    {
     "name": "stdout",
     "output_type": "stream",
     "text": [
      "52 is present in the list\n"
     ]
    }
   ],
   "source": [
    "# Exercise 19\n",
    "# Write a function that takes an input list and value of age to find as input and return true or false if the age value is present or not in the list.\n",
    "\n",
    "mylist = [23, 45, 56, 52, 23, 74, 12, 76, 15, 78, 96, 50, 37, 41, 83]\n",
    "\n",
    "def is_age_present(list, age):\n",
    "    if list.count(age) == 0:\n",
    "        print(age, \"is not present in the list\")\n",
    "    else:\n",
    "        print(age, \"is present in the list\")\n",
    "\n",
    "is_age_present(mylist, 52)"
   ]
  }
 ],
 "metadata": {
  "kernelspec": {
   "display_name": "Python 3",
   "language": "python",
   "name": "python3"
  },
  "language_info": {
   "codemirror_mode": {
    "name": "ipython",
    "version": 3
   },
   "file_extension": ".py",
   "mimetype": "text/x-python",
   "name": "python",
   "nbconvert_exporter": "python",
   "pygments_lexer": "ipython3",
   "version": "3.10.9"
  },
  "orig_nbformat": 4
 },
 "nbformat": 4,
 "nbformat_minor": 2
}
