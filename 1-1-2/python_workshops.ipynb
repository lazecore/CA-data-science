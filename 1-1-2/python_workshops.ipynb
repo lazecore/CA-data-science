{
 "cells": [
  {
   "attachments": {},
   "cell_type": "markdown",
   "metadata": {},
   "source": [
    "Intermediate Level \n",
    "https://dsft.code-data-ai.com/python-workshops/"
   ]
  },
  {
   "attachments": {},
   "cell_type": "markdown",
   "metadata": {},
   "source": [
    "SET 1"
   ]
  },
  {
   "cell_type": "code",
   "execution_count": 7,
   "metadata": {},
   "outputs": [
    {
     "name": "stdout",
     "output_type": "stream",
     "text": [
      "The integer list is mainly even. The odd outlier is:\n",
      "11\n"
     ]
    }
   ],
   "source": [
    "# 1. You are given an array (which will have a length of at least 3, but could be very large) containing integers. \n",
    "# The array is either entirely comprised of odd integers or entirely comprised of even integers except for a single integer N.\n",
    "## Write a method that takes the array as an argument and returns this “outlier” N.\n",
    "\n",
    "# Sample test cases:\n",
    "list0 = [2, 4, 0, 100, 4, 11, 2602, 36] # Should return: 11 (the only odd number)\n",
    "list1 = [160, 3, 1719, 19, 11, 13, -21] # Should return: 160 (the only even number)\n",
    "\n",
    "# find_outlier([2, 4, 6, 8, 10, 3]) # Should return: 3\n",
    "\n",
    "def find_outlier(list):\n",
    "    mod_list = []\n",
    "    [mod_list.append(n % 2) for n in list] ## make a list of modulo 2 values for each item in the list. even becomes 0 and odd becomes 1\n",
    "    if(sum(mod_list)) == 1: \n",
    "        listindex = mod_list.index(1)  ## use the index of the odd one out in mod_list, in this case the 1, to index back into list\n",
    "        print(\"The integer list is mainly even. The odd outlier is:\") \n",
    "        print(list[listindex])\n",
    "    else:\n",
    "        listindex = mod_list.index(0)\n",
    "        print(\"The integer list is mainly odd. The even outlier is:\") ## use the index of the odd one out in mod_list, in this case the 0, to index back into list\n",
    "        print(list[listindex])\n",
    "\n",
    "find_outlier(list0)"
   ]
  },
  {
   "cell_type": "code",
   "execution_count": 15,
   "metadata": {},
   "outputs": [
    {
     "data": {
      "text/plain": [
       "[1, 3, 5, 7, 9]"
      ]
     },
     "execution_count": 15,
     "metadata": {},
     "output_type": "execute_result"
    }
   ],
   "source": [
    "# 2. Implement a difference function, which subtracts one list from another and returns the result.\n",
    "# It should remove all values from list a, which are present in list b.\n",
    "#Lets call the function array_diff ( a , b )\n",
    "\n",
    "# Sample test cases:\n",
    "# array_diff([1,2],[1]) will return [2]\n",
    "# array_diff([1,2,2], [2]) will return [1]\n",
    "\n",
    "array1 = [1, 2, 3, 4, 5, 6, 7, 8, 9, 10]\n",
    "array2 = [2, 4, 6, 8, 10]\n",
    "\n",
    "def array_diff ( a , b ):    ##function input, two lists\n",
    "    new_array = []\n",
    "    [new_array.append(array_value) for array_value in a if array_value not in b]\n",
    "    return new_array\n",
    "\n",
    "array_diff(array1, array2)"
   ]
  },
  {
   "cell_type": "code",
   "execution_count": 52,
   "metadata": {},
   "outputs": [
    {
     "data": {
      "text/plain": [
       "'Bart, Lisa & Maggie'"
      ]
     },
     "execution_count": 52,
     "metadata": {},
     "output_type": "execute_result"
    }
   ],
   "source": [
    "# 3. Given: an array containing hashes of names\n",
    "# Return: a string formatted as a list of names separated by commas \n",
    "# except for the last two names, which should be separated by an ampersand.\n",
    "\n",
    "# Example:\n",
    "# namelist([ {\"name\": \"Bart\"}, {\"name\": \"Lisa\"}, {\"name\": \"Maggie\"} ])   ## returns \"Bart, Lisa & Maggie\"\n",
    "# namelist([ {\"name\": \"Bart\"}, {\"name\": \"Lisa\"} ])    ## returns \"Bart & Lisa\"\n",
    "# namelist([ {\"name\": \"Bart\"} ])     ## returns \"Bart\"\n",
    "# namelist([])    ## returns ”\n",
    "\n",
    "## review: stripping the names out of tuple array was a puzzle. also would have liked a way to separate\n",
    "\n",
    "simpsons_name_array = [ {\"name\": \"Bart\"}, {\"name\": \"Lisa\"}, {\"name\": \"Maggie\"}]\n",
    "\n",
    "def add_comma_ampersand(name_array):\n",
    "    only_names_list = []  ## make a simple list without key/value pairs to store only the names\n",
    "    \n",
    "    for i in name_array:\n",
    "        only_names_list.append(i['name'])  ## loop over the array and grab the data from the key called \"name\"\n",
    "    \n",
    "    #print(only_names_list)       ## used this to check the list was populating properly\n",
    "\n",
    "    if len(only_names_list) == 1:\n",
    "        namestring = (only_names_list[-1])  ## fringe case 1: deal with single-name lists so they don't get an &\n",
    "    elif len(only_names_list) == 0:\n",
    "        namestring = \"\"                     ## fringe case 2: empty lists produce an empty string\n",
    "    else:\n",
    "        namestring = ', '.join(only_names_list[0:-1]) + \" & \" + only_names_list[-1]    \n",
    "        ## join the list into a string with comma separation, slicing at penultimate value. then add & and the final value\n",
    "    \n",
    "    return namestring\n",
    "\n",
    "add_comma_ampersand(simpsons_name_array)"
   ]
  },
  {
   "cell_type": "code",
   "execution_count": 53,
   "metadata": {},
   "outputs": [
    {
     "data": {
      "text/plain": [
       "[1, 2, 123]"
      ]
     },
     "execution_count": 53,
     "metadata": {},
     "output_type": "execute_result"
    }
   ],
   "source": [
    "# 4. Create a function that takes a list of non-negative integers and strings and returns a new list with the strings filtered out.\n",
    "\n",
    "# Example\n",
    "# filter_list([1,2,\"a\",\"b\"]) == [1,2]\n",
    "# filter_list([1,\"a\",\"b\",0,15]) == [1,0,15]\n",
    "# filter_list([1,2,\"aasf\",\"1\",\"123\",123]) == [1,2,123]\n",
    "\n",
    "mixedlist = [1,2,\"aasf\",\"1\",\"123\",123]\n",
    "\n",
    "def nostrings(list):\n",
    "    nostrings = []  ##fresh empty list for results\n",
    "    [nostrings.append(n) for n in list if type(n) == int]\n",
    "    return nostrings\n",
    "\n",
    "nostrings(mixedlist)"
   ]
  },
  {
   "cell_type": "code",
   "execution_count": 78,
   "metadata": {},
   "outputs": [
    {
     "data": {
      "text/plain": [
       "5"
      ]
     },
     "execution_count": 78,
     "metadata": {},
     "output_type": "execute_result"
    }
   ],
   "source": [
    "# 5. Given an array, find the int that appears an odd number of times.\n",
    "# There will always be only one integer that appears an odd number of times.\n",
    "# Example\n",
    "find_it = [20,1,-1,2,-2,3,3,5,5,1,2,4,20,4,-1,-2,5]   # returns 5\n",
    "#find_it = [20,1,-1,2,-2,3,3,5,5,1,2,4,20,4,-1,-2, 1, 1, 1]\n",
    "\n",
    "def odd_occur(intarray):\n",
    "    i = 0                           ## set counter\n",
    "    for n in intarray:              ## iterate over whole list:\n",
    "        # current_int = intarray[i]     ### used this variable to check value from the list we are currently looking at\n",
    "        # print(current_int)            ### used this to check list accessed properly\n",
    "        count_of_int = intarray.count(intarray[i])\n",
    "        # print(count_of_int)           ### used this to check occurences counted properly\n",
    "        if count_of_int % 2 == 1:   ## if the number of occurences is odd, return the value at the current index and stop\n",
    "            return intarray[i]\n",
    "        i += 1                      ## increment counter\n",
    "\n",
    "odd_occur(find_it)"
   ]
  },
  {
   "cell_type": "code",
   "execution_count": 89,
   "metadata": {},
   "outputs": [
    {
     "name": "stdout",
     "output_type": "stream",
     "text": [
      "True\n"
     ]
    }
   ],
   "source": [
    "# 6. Check to see if a string has the same amount of ’x’s and ’o’s. \n",
    "# The method must return a boolean and be case insensitive. The string can contain any char.\n",
    "\n",
    "# Examples input/output:\n",
    "# XO(“ooxx”) => true\n",
    "# XO(“xooxx”) => false\n",
    "# XO(“ooxXm”) => true\n",
    "# XO(“zpzpzpp”) => true // when no ‘x’ and ‘o’ is present should return true\n",
    "# XO(“zzoo”) => false\n",
    "\n",
    "def x_equal_o(xostring):\n",
    "    c_x = 0                         ## a variable to count x/X\n",
    "    c_o = 0                         ## a variable to count o/O\n",
    "    for letter in xostring.lower(): ## look in lowercase version of string for case insensitivity\n",
    "        if letter == \"x\":\n",
    "            c_x += 1                ## if you see an x, count it\n",
    "        elif letter == \"o\":\n",
    "            c_o += 1                ## if you see an o, count it\n",
    "        else:\n",
    "            continue                ## ignore any other chars and keep loopin\n",
    "    print(bool(c_x == c_o))         ## print whether count is equal\n",
    "\n",
    "x_equal_o(\"oXOxxOxojj!!!j\")"
   ]
  },
  {
   "cell_type": "code",
   "execution_count": 96,
   "metadata": {},
   "outputs": [
    {
     "name": "stdout",
     "output_type": "stream",
     "text": [
      "False\n"
     ]
    }
   ],
   "source": [
    "# 7. ATM PIN codes can only have exactly 4 digits or exactly 6 digits.\n",
    "# If the function is passed a valid PIN string, return true, else return false.\n",
    "\n",
    "# eg:\n",
    "# validate_pin(“1234”) == True\n",
    "# validate_pin(“12345′′) == False\n",
    "# validate_pin(“a234”) == False\n",
    "\n",
    "def validate_pin(pin):\n",
    "    print(bool((len(pin) == 4 or len(pin) == 6)) and pin.isnumeric())\n",
    "\n",
    "validate_pin(\"1234898\")"
   ]
  },
  {
   "cell_type": "code",
   "execution_count": 1,
   "metadata": {},
   "outputs": [
    {
     "name": "stdout",
     "output_type": "stream",
     "text": [
      "3\n"
     ]
    }
   ],
   "source": [
    "# 8. Given a string of words, return the length of the shortest word(s). String will never be empty and you do not need to account for different data types.\n",
    "\n",
    "def find_shortest(inputstring):\n",
    "    word_list =  inputstring.split()                        ## convert string to list\n",
    "    length_list = []                                        ## make a second list containing word lengths\n",
    "    [length_list.append(len(word)) for word in word_list]\n",
    "    ##print(length_list)                                    ### used to check list exists/works\n",
    "    ##print(len(length_list))\n",
    "    print(min(length_list))                                 ## print lowest value\n",
    "\n",
    "find_shortest(\"hello how are you today i000 don't know thanks elephant catamaran bridges\")"
   ]
  },
  {
   "cell_type": "code",
   "execution_count": 24,
   "metadata": {},
   "outputs": [
    {
     "ename": "NameError",
     "evalue": "name 'ascii_letters' is not defined",
     "output_type": "error",
     "traceback": [
      "\u001b[0;31m---------------------------------------------------------------------------\u001b[0m",
      "\u001b[0;31mNameError\u001b[0m                                 Traceback (most recent call last)",
      "Cell \u001b[0;32mIn[24], line 11\u001b[0m\n\u001b[1;32m      8\u001b[0m ex1 \u001b[39m=\u001b[39m [\u001b[39m\"\u001b[39m\u001b[39mO\u001b[39m\u001b[39m\"\u001b[39m,\u001b[39m\"\u001b[39m\u001b[39mQ\u001b[39m\u001b[39m\"\u001b[39m,\u001b[39m\"\u001b[39m\u001b[39mR\u001b[39m\u001b[39m\"\u001b[39m,\u001b[39m\"\u001b[39m\u001b[39mS\u001b[39m\u001b[39m\"\u001b[39m] \u001b[39m#-> \"P\"\u001b[39;00m\n\u001b[1;32m     10\u001b[0m \u001b[39mimport\u001b[39;00m \u001b[39mstring\u001b[39;00m                           \u001b[39m# import string module to get a pre-made alphabet string\u001b[39;00m\n\u001b[0;32m---> 11\u001b[0m alphabet \u001b[39m=\u001b[39m string[ascii_letters]         \u001b[39m# use mixed case alphabet string to deal with upper and lower case sequences simultaneously\u001b[39;00m\n\u001b[1;32m     13\u001b[0m \u001b[39mdef\u001b[39;00m \u001b[39mfind_missing_letter\u001b[39m(letterarray):\n\u001b[1;32m     14\u001b[0m     i \u001b[39m=\u001b[39m \u001b[39m0\u001b[39m                                   \u001b[39m# set counter for input array iteration\u001b[39;00m\n",
      "\u001b[0;31mNameError\u001b[0m: name 'ascii_letters' is not defined"
     ]
    }
   ],
   "source": [
    "# 9. Find the missing letter: Write a method that takes an array of consecutive (increasing) letters as input and\n",
    "# that returns the missing letter in the array.\n",
    "# You will always get an valid array, with length at least 2, with exactly one letter missing.\n",
    "# The array will always contain letters in only one case.(Use the English alphabet with 26 letters )\n",
    "\n",
    "# Example:#\n",
    "#ex1 = [\"a\",\"b\",\"c\",\"d\",\"f\"] #-> \"e\"\n",
    "ex1 = [\"O\",\"Q\",\"R\",\"S\"] #-> \"P\"\n",
    "\n",
    "import string                           # import string module to get a pre-made alphabet string\n",
    "alphabet = string.ascii_letters         # use mixed case alphabet string to deal with upper and lower case sequences simultaneously\n",
    "\n",
    "def find_missing_letter(letterarray):\n",
    "    i = 0                                   # set counter for input array iteration\n",
    "    j = alphabet.index(letterarray[0])      # set counter for alphabet as the list position of the first letter in the input\n",
    "    \n",
    "    for letter in letterarray:              # iterate input array looking for deviations from alphabet\n",
    "        if letterarray[i] != alphabet[j]:   # when letters don't match, return missing letter from alphabet array\n",
    "            return alphabet[j]\n",
    "        else:\n",
    "            ##checks:\n",
    "            # print(\"letter and index from array:\")\n",
    "            # print(letterarray[i], i)\n",
    "            # print(\"letter and index from alphabet\")\n",
    "            # print(alphabet[j], j)\n",
    "            ##end checks##\n",
    "            i +=1                           #otherwise increment the counters and keep looking/looping\n",
    "            j +=1\n",
    "            continue\n",
    "        \n",
    "find_missing_letter(ex1)\n"
   ]
  },
  {
   "attachments": {},
   "cell_type": "markdown",
   "metadata": {},
   "source": [
    "SET 2"
   ]
  },
  {
   "cell_type": "code",
   "execution_count": 26,
   "metadata": {},
   "outputs": [
    {
     "name": "stdout",
     "output_type": "stream",
     "text": [
      "[['a', 5], ['b', 2], ['r', 2], ['c', 1], ['d', 1]]\n"
     ]
    }
   ],
   "source": [
    "# 1. Count the number of occurrences of each character and return it as a list of tuples in order of appearance.\n",
    "# Example: ordered_count(“abracadabra”) == [(‘a’, 5), (‘b’, 2), (‘r’, 2), (‘c’, 1), (‘d’, 1)]\n",
    "\n",
    "def ordered_count(string): # list all letters in word and their counts, once (if not already in list)\n",
    "    letters = []\n",
    "    [letters.append([letter, string.count(letter)]) for letter in string if [letter, string.count(letter)] not in letters] \n",
    "    print(letters)\n",
    "    \n",
    "ordered_count(\"abracadabra\")"
   ]
  },
  {
   "cell_type": "code",
   "execution_count": 49,
   "metadata": {},
   "outputs": [
    {
     "name": "stdout",
     "output_type": "stream",
     "text": [
      "[1, 6, 3, 4]\n",
      "[1, 1296, 81, 256]\n"
     ]
    },
    {
     "data": {
      "text/plain": [
       "True"
      ]
     },
     "execution_count": 49,
     "metadata": {},
     "output_type": "execute_result"
    }
   ],
   "source": [
    "# 2. A Narcissistic Number is a number which is the sum of its own digits, each raised to the power of \n",
    "# the number of digits, in a given base. In this problem, we will restrict ourselves to decimal (base 10).\n",
    "\n",
    "# For example, take 153 (3 digits):\n",
    "# 1^3 + 5^3 + 3^3 = 1 + 125 + 27 = 153\n",
    "\n",
    "# and 1634 (4 digits):\n",
    "# 1^4 + 6^4 + 3^4 + 4^4 = 1 + 1296 + 81 + 256 = 1634\n",
    "\n",
    "# Your code must return true or false depending upon whether the given number is a\n",
    "# narcissistic number in base 10. Error checking for text strings or other invalid inputs is\n",
    "# not required, only valid integers will be passed into the function.\n",
    "\n",
    "def is_narc(number):\n",
    "    ## review: this looks very inefficient! but the solution without casting looks very complicated.\n",
    "    num_digits = int(len(str(number)))      # count digits, as string chars\n",
    "    list_digits = []                        # make a list for the digits\n",
    "    [list_digits.append(int(digit)) for digit in str(number)] # change digits back into ints as they get added to the list\n",
    "    ## checks\n",
    "    #print(type(list_digits[0]))\n",
    "    print(list_digits)\n",
    "    ## end checks\n",
    "    # raise all list items to appropriate power (# of digits)\n",
    "    list_powers = [x ** num_digits for x in list_digits]\n",
    "    ## checks\n",
    "    print(list_powers)\n",
    "    ## end checks\n",
    "    calc_result = sum(list_powers)          # sum all the powers to complete the calculation\n",
    "    return number == calc_result            # return bool true or false depending on whether the calculation matches the input.\n",
    "         \n",
    "is_narc(1634)"
   ]
  },
  {
   "cell_type": "code",
   "execution_count": 13,
   "metadata": {},
   "outputs": [
    {
     "data": {
      "text/plain": [
       "True"
      ]
     },
     "execution_count": 13,
     "metadata": {},
     "output_type": "execute_result"
    }
   ],
   "source": [
    "# 3. A pangram is a sentence that contains every single letter of the alphabet at least once. For\n",
    "# example, the sentence “The quick brown fox jumps over the lazy dog” is a pangram, because it\n",
    "# uses the letters A-Z at least once (case is irrelevant).\n",
    "\n",
    "# Given a string, detect whether or not it is a pangram. Ignore numbers and punctuation.\n",
    "# Return True if it is, False if not.\n",
    "\n",
    "fox = \"The quick brown fox jumps over the lazy dog\"\n",
    "\n",
    "def is_pangram(string1):\n",
    "    import string                               # import string module to get a pre-made alphabet string\n",
    "    alphabet_lower = string.ascii_lowercase\n",
    "    string1_lower = string1.lower()\n",
    "    for letter in alphabet_lower:               # go through lowercase alphabet and check if all letters in string\n",
    "        if letter not in string1_lower:\n",
    "            return False                        # as soon as a letter is missing, it's not a pangram, so return false    \n",
    "        else:\n",
    "            continue\n",
    "    return True                                 # if the loop runs to the end without returning, return True\n",
    "\n",
    "is_pangram(fox)      "
   ]
  },
  {
   "cell_type": "code",
   "execution_count": null,
   "metadata": {},
   "outputs": [],
   "source": [
    "## this was a totally mad way of trying to solve ex 3. preserving it here for interest\n",
    "# def is_pangram(string1):\n",
    "#     import string                               # import string module to get a pre-made alphabet string\n",
    "#     alphabet_lower = string.ascii_lowercase\n",
    "#     alphabet_upper = string.ascii_uppercase     # use separated case alphabet strings to deal with upper and lower case interchangeably\n",
    "#     for letter in alphabet_lower:               # go through lowercase alphabet and check if all letters in string\n",
    "#         if letter not in string1:\n",
    "#             lowerbool = False                            # first condition to be met (in the ned both should be 0/False for a False)\n",
    "#     for letter in alphabet_upper:               # go through lowercase alphabet and check if all letters in string\n",
    "#         if letter not in string1:\n",
    "#             lowerbool = False                            # first condition to be met (in the ned both should be 0/False for a False)    \n",
    "    "
   ]
  },
  {
   "cell_type": "code",
   "execution_count": 23,
   "metadata": {},
   "outputs": [
    {
     "data": {
      "text/plain": [
       "False"
      ]
     },
     "execution_count": 23,
     "metadata": {},
     "output_type": "execute_result"
    }
   ],
   "source": [
    "# 4. In the city of Cartesia, all roads are laid out in a perfect grid. \n",
    "# Every time you press the button, the Walk Generating App sends an array \n",
    "# of one-letter strings representing directions to walk (e.g. [\"n\", \"s\", \"w\", \"e\"]). \n",
    "## You always walk only a single block in a direction and you know it takes you one minute to traverse one city block.\n",
    "## You will always receive a valid array of direction letters (\"n\", \"s\", \"e\", or \"w\" only)\n",
    "\n",
    "# Create a function that will return True if the walk will:\n",
    "## take exactly ten minutes and \n",
    "## return to your starting point.\n",
    "# Return False otherwise.\n",
    "\n",
    "# Examples: \n",
    "walk1 = [\"n\", \"e\", \"e\", \"n\", \"e\", \"w\", \"n\", \"n\", \"s\", \"e\"] # False\n",
    "walk2 = [\"e\", \"n\", \"w\", \"e\", \"e\", \"s\", \"n\", \"s\", \"e\", \"n\", \"n\", \"s\", \"n\", \"e\", \"w\", \"n\", \"n\", \"n\", \"s\"] #False\n",
    "walk3 = [\"s\", \"e\", \"s\", \"n\", \"s\", \"s\", \"s\", \"w\", \"e\", \"e\", \"e\", \"w\", \"s\"] #False\n",
    "walk4 = [\"e\", \"w\", \"e\", \"n\", \"s\"] #False\n",
    "walk5 = [\"s\", \"e\", \"w\", \"n\", \"n\", \"s\", \"e\", \"w\", \"n\", \"s\"] #True\n",
    "\n",
    "def check_walk(dir_array):\n",
    "    # the route must have 10 moves and directions must balance out\n",
    "    if len(dir_array) == 10 and dir_array.count(\"n\") == dir_array.count(\"s\") \\\n",
    "        and dir_array.count(\"e\") == dir_array.count(\"w\"): ## break long line with \\\n",
    "        return True\n",
    "    else:\n",
    "        return False\n",
    "\n",
    "check_walk(walk1)"
   ]
  },
  {
   "attachments": {},
   "cell_type": "markdown",
   "metadata": {},
   "source": [
    "Set 3"
   ]
  },
  {
   "cell_type": "code",
   "execution_count": null,
   "metadata": {},
   "outputs": [],
   "source": [
    "# 1. Given an array of strings, and an integer, k, return the longest string made of a combination of k consecutive strings in the array.\n",
    "\n",
    "# Example:\n",
    "# longest_consec([“zone”, “abigail”, “theta”, “form”, “libe”, “zas”, “theta”, “abigail”], 2) # returns “abigailtheta”\n",
    "\n",
    "# n being the length of the string array, if n = 0 or k > n or k <= 0 return “”.\n",
    "\n",
    "### this was so poorly written. re-written verision above"
   ]
  }
 ],
 "metadata": {
  "kernelspec": {
   "display_name": "base",
   "language": "python",
   "name": "python3"
  },
  "language_info": {
   "codemirror_mode": {
    "name": "ipython",
    "version": 3
   },
   "file_extension": ".py",
   "mimetype": "text/x-python",
   "name": "python",
   "nbconvert_exporter": "python",
   "pygments_lexer": "ipython3",
   "version": "3.9.13"
  },
  "orig_nbformat": 4
 },
 "nbformat": 4,
 "nbformat_minor": 2
}
