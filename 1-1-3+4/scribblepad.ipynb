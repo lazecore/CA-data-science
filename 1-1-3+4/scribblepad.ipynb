{
 "cells": [
  {
   "cell_type": "code",
   "execution_count": 4,
   "metadata": {},
   "outputs": [
    {
     "name": "stdout",
     "output_type": "stream",
     "text": [
      "1.23.5\n"
     ]
    }
   ],
   "source": [
    "import numpy as np\n",
    "print(np.__version__)"
   ]
  },
  {
   "attachments": {},
   "cell_type": "markdown",
   "metadata": {},
   "source": [
    "Understand: difference between in-place modification and function returns, direct dot action if not modifying in place (eg immutable) as opposed to arg in brackets plus return\n",
    "and if it makes any difference having the immutable object passed as an arg in brackets if you have to store it to a new variable anyway...\n",
    "also what is numpy \"printing\" when you do something like np.random.rand(3,3) with no variable?\n",
    "\n",
    "https://www.w3schools.com/python/python_ref_functions.asp list of bult in functions\n",
    "https://www.w3schools.com/python/python_ref_string.asp    list of string methods\n",
    "\n",
    "examples of confusing equivalents\n",
    "format  - string method   //  format - gen function\n",
    "count - string method     //  count - list method\n",
    "index - string method     //  index - list method \n",
    "remove - list method      //  delattr - gen function\n",
    "reverse - list method     //  reversed - gen function\n",
    "sort - list method        //  sorted - gen function"
   ]
  },
  {
   "cell_type": "code",
   "execution_count": 11,
   "metadata": {},
   "outputs": [
    {
     "name": "stdout",
     "output_type": "stream",
     "text": [
      "YOU WILL SEE THAT WHEN YOU DOWNLOAD, INSTALLING AND IMPORTING DIFFERENT PYTHON LIBRARIES, THEY WILL COME WITH EXTRA FUNCTIONS AND METHODS AS WELL\n",
      "145\n"
     ]
    }
   ],
   "source": [
    "my_string = \"you will see that when you download, installing and importing different Python libraries, they will come with extra functions and methods as well\"\n",
    "#function\n",
    "##(none)\n",
    "#method\n",
    "print(my_string.upper())\n",
    "\n",
    "#function\n",
    "print(len(my_string))\n",
    "#method"
   ]
  },
  {
   "cell_type": "code",
   "execution_count": null,
   "metadata": {},
   "outputs": [],
   "source": []
  },
  {
   "cell_type": "markdown",
   "metadata": {},
   "source": [
    "why is my empy array not full or garbage? https://numpy.org/doc/stable/reference/generated/numpy.empty.html"
   ]
  },
  {
   "cell_type": "code",
   "execution_count": 5,
   "metadata": {},
   "outputs": [
    {
     "name": "stdout",
     "output_type": "stream",
     "text": [
      "\n",
      "Empty vector:  [4.21685029e-320 0.00000000e+000 0.00000000e+000 0.00000000e+000\n",
      " 6.94338243e-310 4.01595295e-057 9.04749859e-043 4.95820321e-090\n",
      " 1.90353502e+185 6.07793172e+172]\n",
      "<class 'numpy.ndarray'>\n",
      "float64\n",
      "<class 'numpy.float64'>\n",
      "<memory at 0x7fd1e2c4b700>\n",
      "10\n"
     ]
    }
   ],
   "source": [
    "## I used numpy empty as 0 is not null in Python, yet it still displays as zeros (?) https://numpy.org/doc/stable/reference/generated/numpy.empty.html\n",
    "## note: the dots indicate it is type 'float'\n",
    "null_vector_empty = np.empty(10)\n",
    "\n",
    "print(\"\\nEmpty vector: \",null_vector_empty)\n",
    "print(type(null_vector_empty))\n",
    "print(null_vector_empty.dtype)\n",
    "print(type(null_vector_empty[0]))\n",
    "print(null_vector_empty.data)\n",
    "print(null_vector_empty.size)"
   ]
  }
 ],
 "metadata": {
  "kernelspec": {
   "display_name": "stats_env",
   "language": "python",
   "name": "python3"
  },
  "language_info": {
   "codemirror_mode": {
    "name": "ipython",
    "version": 3
   },
   "file_extension": ".py",
   "mimetype": "text/x-python",
   "name": "python",
   "nbconvert_exporter": "python",
   "pygments_lexer": "ipython3",
   "version": "3.9.16"
  },
  "orig_nbformat": 4
 },
 "nbformat": 4,
 "nbformat_minor": 2
}
