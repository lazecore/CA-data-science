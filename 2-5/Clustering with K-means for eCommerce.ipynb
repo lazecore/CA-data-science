{
 "cells": [
  {
   "attachments": {},
   "cell_type": "markdown",
   "metadata": {},
   "source": [
    "# Clustering with K-means for eCommerce\n",
    "## [RFM Analysis](https://medium.com/mlearning-ai/crm-analytics-customer-segmentation-customer-lifetime-value-prediction-1163fa6e4ae9)\n",
    "Understand customers' buying patterns using 3 'customer lifetime value' metrics: \n",
    "- Recency (how many days ago was their last purchase?)\n",
    "- Frequency (how many times did they purchase?) \n",
    "- Monetary (how much money did they spend?)\n"
   ]
  },
  {
   "attachments": {},
   "cell_type": "markdown",
   "metadata": {},
   "source": [
    "## 1. Import modules and data"
   ]
  },
  {
   "cell_type": "code",
   "execution_count": 1,
   "metadata": {},
   "outputs": [],
   "source": [
    "import pandas as pd\n",
    "import numpy as np\n",
    "import datetime as dt\n",
    "import matplotlib.pyplot as plt\n",
    "import seaborn as sns\n",
    "\n",
    "from sklearn import preprocessing, metrics, cluster\n",
    "from sklearn.cluster import KMeans\n"
   ]
  },
  {
   "cell_type": "code",
   "execution_count": 2,
   "metadata": {},
   "outputs": [
    {
     "data": {
      "text/html": [
       "<div>\n",
       "<style scoped>\n",
       "    .dataframe tbody tr th:only-of-type {\n",
       "        vertical-align: middle;\n",
       "    }\n",
       "\n",
       "    .dataframe tbody tr th {\n",
       "        vertical-align: top;\n",
       "    }\n",
       "\n",
       "    .dataframe thead th {\n",
       "        text-align: right;\n",
       "    }\n",
       "</style>\n",
       "<table border=\"1\" class=\"dataframe\">\n",
       "  <thead>\n",
       "    <tr style=\"text-align: right;\">\n",
       "      <th></th>\n",
       "      <th>row_id</th>\n",
       "      <th>order_id</th>\n",
       "      <th>order_date</th>\n",
       "      <th>ship_date</th>\n",
       "      <th>customer_id</th>\n",
       "      <th>segment</th>\n",
       "      <th>product_id</th>\n",
       "      <th>category</th>\n",
       "      <th>subcategory</th>\n",
       "      <th>product_name</th>\n",
       "      <th>quantity</th>\n",
       "      <th>discount_perc</th>\n",
       "      <th>sale_price_agg</th>\n",
       "      <th>profit_agg</th>\n",
       "      <th>sale_price_per_item</th>\n",
       "      <th>profit_per_item</th>\n",
       "      <th>base_price_per_item</th>\n",
       "    </tr>\n",
       "  </thead>\n",
       "  <tbody>\n",
       "    <tr>\n",
       "      <th>0</th>\n",
       "      <td>1</td>\n",
       "      <td>CA-2016-152156</td>\n",
       "      <td>11/8/2016</td>\n",
       "      <td>11/11/2016</td>\n",
       "      <td>CG-12520</td>\n",
       "      <td>Consumer</td>\n",
       "      <td>FUR-BO-10001798</td>\n",
       "      <td>Furniture</td>\n",
       "      <td>Bookcases</td>\n",
       "      <td>Bush Somerset Collection Bookcase</td>\n",
       "      <td>2</td>\n",
       "      <td>0.00</td>\n",
       "      <td>261.9600</td>\n",
       "      <td>41.9136</td>\n",
       "      <td>130.9800</td>\n",
       "      <td>20.9568</td>\n",
       "      <td>130.98</td>\n",
       "    </tr>\n",
       "    <tr>\n",
       "      <th>1</th>\n",
       "      <td>2</td>\n",
       "      <td>CA-2016-152156</td>\n",
       "      <td>11/8/2016</td>\n",
       "      <td>11/11/2016</td>\n",
       "      <td>CG-12520</td>\n",
       "      <td>Consumer</td>\n",
       "      <td>FUR-CH-10000454</td>\n",
       "      <td>Furniture</td>\n",
       "      <td>Chairs</td>\n",
       "      <td>Hon Deluxe Fabric Upholstered Stacking Chairs,...</td>\n",
       "      <td>3</td>\n",
       "      <td>0.00</td>\n",
       "      <td>731.9400</td>\n",
       "      <td>219.5820</td>\n",
       "      <td>243.9800</td>\n",
       "      <td>73.1940</td>\n",
       "      <td>243.98</td>\n",
       "    </tr>\n",
       "    <tr>\n",
       "      <th>2</th>\n",
       "      <td>3</td>\n",
       "      <td>CA-2016-138688</td>\n",
       "      <td>6/12/2016</td>\n",
       "      <td>6/16/2016</td>\n",
       "      <td>DV-13045</td>\n",
       "      <td>Corporate</td>\n",
       "      <td>OFF-LA-10000240</td>\n",
       "      <td>Office Supplies</td>\n",
       "      <td>Labels</td>\n",
       "      <td>Self-Adhesive Address Labels for Typewriters b...</td>\n",
       "      <td>2</td>\n",
       "      <td>0.00</td>\n",
       "      <td>14.6200</td>\n",
       "      <td>6.8714</td>\n",
       "      <td>7.3100</td>\n",
       "      <td>3.4357</td>\n",
       "      <td>7.31</td>\n",
       "    </tr>\n",
       "    <tr>\n",
       "      <th>3</th>\n",
       "      <td>4</td>\n",
       "      <td>US-2015-108966</td>\n",
       "      <td>10/11/2015</td>\n",
       "      <td>10/18/2015</td>\n",
       "      <td>SO-20335</td>\n",
       "      <td>Consumer</td>\n",
       "      <td>FUR-TA-10000577</td>\n",
       "      <td>Furniture</td>\n",
       "      <td>Tables</td>\n",
       "      <td>Bretford CR4500 Series Slim Rectangular Table</td>\n",
       "      <td>5</td>\n",
       "      <td>0.45</td>\n",
       "      <td>957.5775</td>\n",
       "      <td>-383.0310</td>\n",
       "      <td>191.5155</td>\n",
       "      <td>-76.6062</td>\n",
       "      <td>348.21</td>\n",
       "    </tr>\n",
       "    <tr>\n",
       "      <th>4</th>\n",
       "      <td>5</td>\n",
       "      <td>US-2015-108966</td>\n",
       "      <td>10/11/2015</td>\n",
       "      <td>10/18/2015</td>\n",
       "      <td>SO-20335</td>\n",
       "      <td>Consumer</td>\n",
       "      <td>OFF-ST-10000760</td>\n",
       "      <td>Office Supplies</td>\n",
       "      <td>Storage</td>\n",
       "      <td>Eldon Fold 'N Roll Cart System</td>\n",
       "      <td>2</td>\n",
       "      <td>0.20</td>\n",
       "      <td>22.3680</td>\n",
       "      <td>2.5164</td>\n",
       "      <td>11.1840</td>\n",
       "      <td>1.2582</td>\n",
       "      <td>13.98</td>\n",
       "    </tr>\n",
       "  </tbody>\n",
       "</table>\n",
       "</div>"
      ],
      "text/plain": [
       "   row_id        order_id  order_date   ship_date customer_id    segment  \\\n",
       "0       1  CA-2016-152156   11/8/2016  11/11/2016    CG-12520   Consumer   \n",
       "1       2  CA-2016-152156   11/8/2016  11/11/2016    CG-12520   Consumer   \n",
       "2       3  CA-2016-138688   6/12/2016   6/16/2016    DV-13045  Corporate   \n",
       "3       4  US-2015-108966  10/11/2015  10/18/2015    SO-20335   Consumer   \n",
       "4       5  US-2015-108966  10/11/2015  10/18/2015    SO-20335   Consumer   \n",
       "\n",
       "        product_id         category subcategory  \\\n",
       "0  FUR-BO-10001798        Furniture   Bookcases   \n",
       "1  FUR-CH-10000454        Furniture      Chairs   \n",
       "2  OFF-LA-10000240  Office Supplies      Labels   \n",
       "3  FUR-TA-10000577        Furniture      Tables   \n",
       "4  OFF-ST-10000760  Office Supplies     Storage   \n",
       "\n",
       "                                        product_name  quantity  discount_perc  \\\n",
       "0                  Bush Somerset Collection Bookcase         2           0.00   \n",
       "1  Hon Deluxe Fabric Upholstered Stacking Chairs,...         3           0.00   \n",
       "2  Self-Adhesive Address Labels for Typewriters b...         2           0.00   \n",
       "3      Bretford CR4500 Series Slim Rectangular Table         5           0.45   \n",
       "4                     Eldon Fold 'N Roll Cart System         2           0.20   \n",
       "\n",
       "   sale_price_agg  profit_agg  sale_price_per_item  profit_per_item  \\\n",
       "0        261.9600     41.9136             130.9800          20.9568   \n",
       "1        731.9400    219.5820             243.9800          73.1940   \n",
       "2         14.6200      6.8714               7.3100           3.4357   \n",
       "3        957.5775   -383.0310             191.5155         -76.6062   \n",
       "4         22.3680      2.5164              11.1840           1.2582   \n",
       "\n",
       "   base_price_per_item  \n",
       "0               130.98  \n",
       "1               243.98  \n",
       "2                 7.31  \n",
       "3               348.21  \n",
       "4                13.98  "
      ]
     },
     "execution_count": 2,
     "metadata": {},
     "output_type": "execute_result"
    }
   ],
   "source": [
    "# load csv\n",
    "dataset = pd.read_csv('./Data/Sample-Superstore-cleaner.csv')\n",
    "\n",
    "df = dataset.copy() # keep dataset as a backup copy, use df for transformations\n",
    "\n",
    "df.head() # check it's there and properly separated into columns"
   ]
  },
  {
   "attachments": {},
   "cell_type": "markdown",
   "metadata": {},
   "source": [
    "### Transform into an aggregated DataFrame \n",
    "Form one table storing Recency (today - order date, in days) Frequency (count of unique order ids) and Monetary (sum of sales) for each Customer ID "
   ]
  },
  {
   "attachments": {},
   "cell_type": "markdown",
   "metadata": {},
   "source": [
    "First we need to make sure we have the right datatype for `order_date` in order to perform arithmetic on the field:"
   ]
  },
  {
   "cell_type": "code",
   "execution_count": 3,
   "metadata": {},
   "outputs": [
    {
     "name": "stdout",
     "output_type": "stream",
     "text": [
      "row_id                   int64\n",
      "order_id                object\n",
      "order_date              object\n",
      "ship_date               object\n",
      "customer_id             object\n",
      "segment                 object\n",
      "product_id              object\n",
      "category                object\n",
      "subcategory             object\n",
      "product_name            object\n",
      "quantity                 int64\n",
      "discount_perc          float64\n",
      "sale_price_agg         float64\n",
      "profit_agg             float64\n",
      "sale_price_per_item    float64\n",
      "profit_per_item        float64\n",
      "base_price_per_item    float64\n",
      "dtype: object\n"
     ]
    }
   ],
   "source": [
    "print(df.dtypes)"
   ]
  },
  {
   "attachments": {},
   "cell_type": "markdown",
   "metadata": {},
   "source": [
    "The datatype needs to be converted:"
   ]
  },
  {
   "cell_type": "code",
   "execution_count": 4,
   "metadata": {},
   "outputs": [],
   "source": [
    "df.order_date = pd.to_datetime(df.order_date)\n",
    "print(df.dtypes)"
   ]
  },
  {
   "cell_type": "code",
   "execution_count": 5,
   "metadata": {},
   "outputs": [
    {
     "name": "stdout",
     "output_type": "stream",
     "text": [
      "row_id                          int64\n",
      "order_id                       object\n",
      "order_date             datetime64[ns]\n",
      "ship_date                      object\n",
      "customer_id                    object\n",
      "segment                        object\n",
      "product_id                     object\n",
      "category                       object\n",
      "subcategory                    object\n",
      "product_name                   object\n",
      "quantity                        int64\n",
      "discount_perc                 float64\n",
      "sale_price_agg                float64\n",
      "profit_agg                    float64\n",
      "sale_price_per_item           float64\n",
      "profit_per_item               float64\n",
      "base_price_per_item           float64\n",
      "dtype: object\n"
     ]
    }
   ],
   "source": []
  },
  {
   "attachments": {},
   "cell_type": "markdown",
   "metadata": {},
   "source": [
    "Because this data is old, we will on this occasion take \"today\" to be the last day in the data set (rather than using `datetime`'s handy `date.today` method)"
   ]
  },
  {
   "cell_type": "code",
   "execution_count": 6,
   "metadata": {},
   "outputs": [],
   "source": [
    "today_date = df.order_date.max()"
   ]
  },
  {
   "attachments": {},
   "cell_type": "markdown",
   "metadata": {},
   "source": [
    "Now to transform into a df containing only: | Customer ID | Recency | Frequency | Monetary |"
   ]
  },
  {
   "cell_type": "code",
   "execution_count": 7,
   "metadata": {},
   "outputs": [],
   "source": [
    "rfm = df.groupby('customer_id').agg({'order_date': lambda order_date: (today_date - order_date.max()).days, #note: max of the dates per customer\n",
    "                                    'order_id': lambda order_id: order_id.nunique(),\n",
    "                                    'sale_price_agg': lambda sale_price_agg: sale_price_agg.sum()})\n",
    "\n",
    "rfm.columns = ['recency','frequency','monetary']\n",
    "\n",
    "rfm.head()"
   ]
  },
  {
   "cell_type": "code",
   "execution_count": 8,
   "metadata": {},
   "outputs": [
    {
     "data": {
      "text/html": [
       "<div>\n",
       "<style scoped>\n",
       "    .dataframe tbody tr th:only-of-type {\n",
       "        vertical-align: middle;\n",
       "    }\n",
       "\n",
       "    .dataframe tbody tr th {\n",
       "        vertical-align: top;\n",
       "    }\n",
       "\n",
       "    .dataframe thead th {\n",
       "        text-align: right;\n",
       "    }\n",
       "</style>\n",
       "<table border=\"1\" class=\"dataframe\">\n",
       "  <thead>\n",
       "    <tr style=\"text-align: right;\">\n",
       "      <th></th>\n",
       "      <th>recency</th>\n",
       "      <th>frequency</th>\n",
       "      <th>monetary</th>\n",
       "    </tr>\n",
       "    <tr>\n",
       "      <th>customer_id</th>\n",
       "      <th></th>\n",
       "      <th></th>\n",
       "      <th></th>\n",
       "    </tr>\n",
       "  </thead>\n",
       "  <tbody>\n",
       "    <tr>\n",
       "      <th>AA-10315</th>\n",
       "      <td>184</td>\n",
       "      <td>5</td>\n",
       "      <td>5563.560</td>\n",
       "    </tr>\n",
       "    <tr>\n",
       "      <th>AA-10375</th>\n",
       "      <td>19</td>\n",
       "      <td>9</td>\n",
       "      <td>1056.390</td>\n",
       "    </tr>\n",
       "    <tr>\n",
       "      <th>AA-10480</th>\n",
       "      <td>259</td>\n",
       "      <td>4</td>\n",
       "      <td>1790.512</td>\n",
       "    </tr>\n",
       "    <tr>\n",
       "      <th>AA-10645</th>\n",
       "      <td>55</td>\n",
       "      <td>6</td>\n",
       "      <td>5086.935</td>\n",
       "    </tr>\n",
       "    <tr>\n",
       "      <th>AB-10015</th>\n",
       "      <td>415</td>\n",
       "      <td>3</td>\n",
       "      <td>886.156</td>\n",
       "    </tr>\n",
       "  </tbody>\n",
       "</table>\n",
       "</div>"
      ],
      "text/plain": [
       "             recency  frequency  monetary\n",
       "customer_id                              \n",
       "AA-10315         184          5  5563.560\n",
       "AA-10375          19          9  1056.390\n",
       "AA-10480         259          4  1790.512\n",
       "AA-10645          55          6  5086.935\n",
       "AB-10015         415          3   886.156"
      ]
     },
     "execution_count": 8,
     "metadata": {},
     "output_type": "execute_result"
    }
   ],
   "source": []
  },
  {
   "attachments": {},
   "cell_type": "markdown",
   "metadata": {},
   "source": [
    "## 2. Initial data exploration\n",
    "Now let's look at the descriptive statistics and compare them to the KMeans model's requirements and assumptions"
   ]
  },
  {
   "cell_type": "code",
   "execution_count": 9,
   "metadata": {},
   "outputs": [
    {
     "data": {
      "text/html": [
       "<div>\n",
       "<style scoped>\n",
       "    .dataframe tbody tr th:only-of-type {\n",
       "        vertical-align: middle;\n",
       "    }\n",
       "\n",
       "    .dataframe tbody tr th {\n",
       "        vertical-align: top;\n",
       "    }\n",
       "\n",
       "    .dataframe thead th {\n",
       "        text-align: right;\n",
       "    }\n",
       "</style>\n",
       "<table border=\"1\" class=\"dataframe\">\n",
       "  <thead>\n",
       "    <tr style=\"text-align: right;\">\n",
       "      <th></th>\n",
       "      <th>recency</th>\n",
       "      <th>frequency</th>\n",
       "      <th>monetary</th>\n",
       "    </tr>\n",
       "  </thead>\n",
       "  <tbody>\n",
       "    <tr>\n",
       "      <th>count</th>\n",
       "      <td>793.000000</td>\n",
       "      <td>793.000000</td>\n",
       "      <td>793.000000</td>\n",
       "    </tr>\n",
       "    <tr>\n",
       "      <th>mean</th>\n",
       "      <td>146.802018</td>\n",
       "      <td>6.316520</td>\n",
       "      <td>2896.848500</td>\n",
       "    </tr>\n",
       "    <tr>\n",
       "      <th>std</th>\n",
       "      <td>186.211051</td>\n",
       "      <td>2.550885</td>\n",
       "      <td>2628.670117</td>\n",
       "    </tr>\n",
       "    <tr>\n",
       "      <th>min</th>\n",
       "      <td>0.000000</td>\n",
       "      <td>1.000000</td>\n",
       "      <td>4.833000</td>\n",
       "    </tr>\n",
       "    <tr>\n",
       "      <th>25%</th>\n",
       "      <td>30.000000</td>\n",
       "      <td>5.000000</td>\n",
       "      <td>1146.050000</td>\n",
       "    </tr>\n",
       "    <tr>\n",
       "      <th>50%</th>\n",
       "      <td>75.000000</td>\n",
       "      <td>6.000000</td>\n",
       "      <td>2256.394000</td>\n",
       "    </tr>\n",
       "    <tr>\n",
       "      <th>75%</th>\n",
       "      <td>183.000000</td>\n",
       "      <td>8.000000</td>\n",
       "      <td>3785.276000</td>\n",
       "    </tr>\n",
       "    <tr>\n",
       "      <th>max</th>\n",
       "      <td>1165.000000</td>\n",
       "      <td>17.000000</td>\n",
       "      <td>25043.050000</td>\n",
       "    </tr>\n",
       "  </tbody>\n",
       "</table>\n",
       "</div>"
      ],
      "text/plain": [
       "           recency   frequency      monetary\n",
       "count   793.000000  793.000000    793.000000\n",
       "mean    146.802018    6.316520   2896.848500\n",
       "std     186.211051    2.550885   2628.670117\n",
       "min       0.000000    1.000000      4.833000\n",
       "25%      30.000000    5.000000   1146.050000\n",
       "50%      75.000000    6.000000   2256.394000\n",
       "75%     183.000000    8.000000   3785.276000\n",
       "max    1165.000000   17.000000  25043.050000"
      ]
     },
     "execution_count": 9,
     "metadata": {},
     "output_type": "execute_result"
    }
   ],
   "source": [
    "rfm.describe()"
   ]
  },
  {
   "attachments": {},
   "cell_type": "markdown",
   "metadata": {},
   "source": [
    "#### Distributions:"
   ]
  },
  {
   "cell_type": "code",
   "execution_count": 10,
   "metadata": {},
   "outputs": [
    {
     "data": {
      "text/plain": [
       "recency      2.276395\n",
       "frequency    0.362409\n",
       "monetary     2.476555\n",
       "dtype: float64"
      ]
     },
     "execution_count": 10,
     "metadata": {},
     "output_type": "execute_result"
    }
   ],
   "source": [
    "rfm.skew()"
   ]
  },
  {
   "attachments": {},
   "cell_type": "markdown",
   "metadata": {},
   "source": [
    "All three have positive skewness, with two being over the threshold of 1."
   ]
  },
  {
   "cell_type": "code",
   "execution_count": 11,
   "metadata": {},
   "outputs": [
    {
     "data": {
      "text/plain": [
       "recency       5.823354\n",
       "frequency    -0.025969\n",
       "monetary     10.658932\n",
       "dtype: float64"
      ]
     },
     "execution_count": 11,
     "metadata": {},
     "output_type": "execute_result"
    }
   ],
   "source": [
    "rfm.kurt()"
   ]
  },
  {
   "attachments": {},
   "cell_type": "markdown",
   "metadata": {},
   "source": [
    "Two have high excess kurtosis. Note that Pandas reports excess kurtosis by subtracting 3, meaning a normal distribution is adjusted to 0 instead of 3."
   ]
  },
  {
   "cell_type": "code",
   "execution_count": 12,
   "metadata": {},
   "outputs": [
    {
     "data": {
      "image/png": "[encoded data removed]",
      "text/plain": [
       "<Figure size 1000x300 with 3 Axes>"
      ]
     },
     "metadata": {},
     "output_type": "display_data"
    }
   ],
   "source": [
    "fig, ax = plt.subplots(1, 3, figsize=(10, 3), layout=\"constrained\")\n",
    "fig.suptitle('Distributions: Recency, Frequency, Monetary')\n",
    "\n",
    "sns.kdeplot(rfm.recency, ax=ax[0],)\n",
    "ax[0].set_box_aspect(1)\n",
    "sns.kdeplot(rfm.frequency, ax=ax[1])\n",
    "ax[1].set_box_aspect(1)\n",
    "sns.kdeplot(rfm.monetary, ax=ax[2])\n",
    "ax[2].set_box_aspect(1)\n",
    "\n",
    "# plt.axvline(rfm.recency.mean(), c='gray')\n",
    "# plt.axvline(rfm.recency.median())\n"
   ]
  },
  {
   "attachments": {},
   "cell_type": "markdown",
   "metadata": {},
   "source": [
    "Above we see the tall thin skewed distributions with possible outliers. Below we can see the outliers more clearly:"
   ]
  },
  {
   "cell_type": "code",
   "execution_count": 13,
   "metadata": {},
   "outputs": [
    {
     "data": {
      "image/png": "[encoded data removed]",
      "text/plain": [
       "<Figure size 1000x500 with 3 Axes>"
      ]
     },
     "metadata": {},
     "output_type": "display_data"
    }
   ],
   "source": [
    "fig, ax = plt.subplots(1, 3, figsize=(10, 5), layout=\"constrained\")\n",
    "fig.suptitle('Boxplots: Recency, Frequency, Monetary')\n",
    "\n",
    "sns.boxplot(rfm.recency, ax=ax[0],)\n",
    "ax[0].set_box_aspect(2)\n",
    "sns.boxplot(rfm.frequency, ax=ax[1])\n",
    "ax[1].set_box_aspect(2)\n",
    "sns.boxplot(rfm.monetary, ax=ax[2])\n",
    "ax[2].set_box_aspect(2)"
   ]
  },
  {
   "attachments": {},
   "cell_type": "markdown",
   "metadata": {},
   "source": [
    "#### Null values and datatypes:"
   ]
  },
  {
   "cell_type": "code",
   "execution_count": 14,
   "metadata": {},
   "outputs": [
    {
     "name": "stdout",
     "output_type": "stream",
     "text": [
      "recency      0\n",
      "frequency    0\n",
      "monetary     0\n",
      "dtype: int64\n"
     ]
    }
   ],
   "source": [
    "print(rfm.isnull().sum())"
   ]
  },
  {
   "cell_type": "code",
   "execution_count": 15,
   "metadata": {},
   "outputs": [
    {
     "data": {
      "text/plain": [
       "recency        int64\n",
       "frequency      int64\n",
       "monetary     float64\n",
       "dtype: object"
      ]
     },
     "execution_count": 15,
     "metadata": {},
     "output_type": "execute_result"
    }
   ],
   "source": [
    "rfm.dtypes"
   ]
  },
  {
   "attachments": {},
   "cell_type": "markdown",
   "metadata": {},
   "source": [
    "#### Summary and requirements:"
   ]
  },
  {
   "attachments": {},
   "cell_type": "markdown",
   "metadata": {},
   "source": [
    "We can see that:\n",
    "- The distribution is positively skewed (especially for recency and monetary data) and unimodal\n",
    "- The fields all have very different scales\n",
    "- Outliers are present\n",
    "- There are no customers with missing or negative values\n",
    "- The datatypes are correct\n",
    "\n",
    "Note that this is for our aggregated data, so anomolies such as individual negative values would be hidden. We may wish to clean unaggregated data first in the event of poor convergence.  \n",
    "\n",
    "KMeans:\n",
    "- Works best with normal distribution\n",
    "- Assumes data is all on a similar scale (because the algorithm is distance-based)\n",
    "\n",
    "Before preprocessing the data, let's run the model to see how it deals with the imperfections."
   ]
  },
  {
   "attachments": {},
   "cell_type": "markdown",
   "metadata": {},
   "source": [
    "## 3. Run K-Means model on unprocessed data"
   ]
  },
  {
   "attachments": {},
   "cell_type": "markdown",
   "metadata": {},
   "source": [
    "### Initialise first K-Means model"
   ]
  },
  {
   "cell_type": "code",
   "execution_count": 16,
   "metadata": {},
   "outputs": [
    {
     "name": "stderr",
     "output_type": "stream",
     "text": [
      "/home/sian/anaconda3/envs/stats_env/lib/python3.9/site-packages/sklearn/cluster/_kmeans.py:870: FutureWarning: The default value of `n_init` will change from 10 to 'auto' in 1.4. Set the value of `n_init` explicitly to suppress the warning\n",
      "  warnings.warn(\n",
      "Exception ignored on calling ctypes callback function: <function _ThreadpoolInfo._find_modules_with_dl_iterate_phdr.<locals>.match_module_callback at 0x7fb9a39eaaf0>\n",
      "Traceback (most recent call last):\n",
      "  File \"/home/sian/anaconda3/envs/stats_env/lib/python3.9/site-packages/threadpoolctl.py\", line 400, in match_module_callback\n",
      "    self._make_module_from_path(filepath)\n",
      "  File \"/home/sian/anaconda3/envs/stats_env/lib/python3.9/site-packages/threadpoolctl.py\", line 515, in _make_module_from_path\n",
      "    module = module_class(filepath, prefix, user_api, internal_api)\n",
      "  File \"/home/sian/anaconda3/envs/stats_env/lib/python3.9/site-packages/threadpoolctl.py\", line 606, in __init__\n",
      "    self.version = self.get_version()\n",
      "  File \"/home/sian/anaconda3/envs/stats_env/lib/python3.9/site-packages/threadpoolctl.py\", line 646, in get_version\n",
      "    config = get_config().split()\n",
      "AttributeError: 'NoneType' object has no attribute 'split'\n",
      "Exception ignored on calling ctypes callback function: <function _ThreadpoolInfo._find_modules_with_dl_iterate_phdr.<locals>.match_module_callback at 0x7fb9a39eaaf0>\n",
      "Traceback (most recent call last):\n",
      "  File \"/home/sian/anaconda3/envs/stats_env/lib/python3.9/site-packages/threadpoolctl.py\", line 400, in match_module_callback\n",
      "    self._make_module_from_path(filepath)\n",
      "  File \"/home/sian/anaconda3/envs/stats_env/lib/python3.9/site-packages/threadpoolctl.py\", line 515, in _make_module_from_path\n",
      "    module = module_class(filepath, prefix, user_api, internal_api)\n",
      "  File \"/home/sian/anaconda3/envs/stats_env/lib/python3.9/site-packages/threadpoolctl.py\", line 606, in __init__\n",
      "    self.version = self.get_version()\n",
      "  File \"/home/sian/anaconda3/envs/stats_env/lib/python3.9/site-packages/threadpoolctl.py\", line 646, in get_version\n",
      "    config = get_config().split()\n",
      "AttributeError: 'NoneType' object has no attribute 'split'\n",
      "Exception ignored on calling ctypes callback function: <function _ThreadpoolInfo._find_modules_with_dl_iterate_phdr.<locals>.match_module_callback at 0x7fb9a39eaaf0>\n",
      "Traceback (most recent call last):\n",
      "  File \"/home/sian/anaconda3/envs/stats_env/lib/python3.9/site-packages/threadpoolctl.py\", line 400, in match_module_callback\n",
      "    self._make_module_from_path(filepath)\n",
      "  File \"/home/sian/anaconda3/envs/stats_env/lib/python3.9/site-packages/threadpoolctl.py\", line 515, in _make_module_from_path\n",
      "    module = module_class(filepath, prefix, user_api, internal_api)\n",
      "  File \"/home/sian/anaconda3/envs/stats_env/lib/python3.9/site-packages/threadpoolctl.py\", line 606, in __init__\n",
      "    self.version = self.get_version()\n",
      "  File \"/home/sian/anaconda3/envs/stats_env/lib/python3.9/site-packages/threadpoolctl.py\", line 646, in get_version\n",
      "    config = get_config().split()\n",
      "AttributeError: 'NoneType' object has no attribute 'split'\n",
      "Exception ignored on calling ctypes callback function: <function _ThreadpoolInfo._find_modules_with_dl_iterate_phdr.<locals>.match_module_callback at 0x7fb9a39eaaf0>\n",
      "Traceback (most recent call last):\n",
      "  File \"/home/sian/anaconda3/envs/stats_env/lib/python3.9/site-packages/threadpoolctl.py\", line 400, in match_module_callback\n",
      "    self._make_module_from_path(filepath)\n",
      "  File \"/home/sian/anaconda3/envs/stats_env/lib/python3.9/site-packages/threadpoolctl.py\", line 515, in _make_module_from_path\n",
      "    module = module_class(filepath, prefix, user_api, internal_api)\n",
      "  File \"/home/sian/anaconda3/envs/stats_env/lib/python3.9/site-packages/threadpoolctl.py\", line 606, in __init__\n",
      "    self.version = self.get_version()\n",
      "  File \"/home/sian/anaconda3/envs/stats_env/lib/python3.9/site-packages/threadpoolctl.py\", line 646, in get_version\n",
      "    config = get_config().split()\n",
      "AttributeError: 'NoneType' object has no attribute 'split'\n",
      "Exception ignored on calling ctypes callback function: <function _ThreadpoolInfo._find_modules_with_dl_iterate_phdr.<locals>.match_module_callback at 0x7fb9a39eaaf0>\n",
      "Traceback (most recent call last):\n",
      "  File \"/home/sian/anaconda3/envs/stats_env/lib/python3.9/site-packages/threadpoolctl.py\", line 400, in match_module_callback\n",
      "    self._make_module_from_path(filepath)\n",
      "  File \"/home/sian/anaconda3/envs/stats_env/lib/python3.9/site-packages/threadpoolctl.py\", line 515, in _make_module_from_path\n",
      "    module = module_class(filepath, prefix, user_api, internal_api)\n",
      "  File \"/home/sian/anaconda3/envs/stats_env/lib/python3.9/site-packages/threadpoolctl.py\", line 606, in __init__\n",
      "    self.version = self.get_version()\n",
      "  File \"/home/sian/anaconda3/envs/stats_env/lib/python3.9/site-packages/threadpoolctl.py\", line 646, in get_version\n",
      "    config = get_config().split()\n",
      "AttributeError: 'NoneType' object has no attribute 'split'\n",
      "Exception ignored on calling ctypes callback function: <function _ThreadpoolInfo._find_modules_with_dl_iterate_phdr.<locals>.match_module_callback at 0x7fb9a39eaaf0>\n",
      "Traceback (most recent call last):\n",
      "  File \"/home/sian/anaconda3/envs/stats_env/lib/python3.9/site-packages/threadpoolctl.py\", line 400, in match_module_callback\n",
      "    self._make_module_from_path(filepath)\n",
      "  File \"/home/sian/anaconda3/envs/stats_env/lib/python3.9/site-packages/threadpoolctl.py\", line 515, in _make_module_from_path\n",
      "    module = module_class(filepath, prefix, user_api, internal_api)\n",
      "  File \"/home/sian/anaconda3/envs/stats_env/lib/python3.9/site-packages/threadpoolctl.py\", line 606, in __init__\n",
      "    self.version = self.get_version()\n",
      "  File \"/home/sian/anaconda3/envs/stats_env/lib/python3.9/site-packages/threadpoolctl.py\", line 646, in get_version\n",
      "    config = get_config().split()\n",
      "AttributeError: 'NoneType' object has no attribute 'split'\n",
      "Exception ignored on calling ctypes callback function: <function _ThreadpoolInfo._find_modules_with_dl_iterate_phdr.<locals>.match_module_callback at 0x7fb9a39eaaf0>\n",
      "Traceback (most recent call last):\n",
      "  File \"/home/sian/anaconda3/envs/stats_env/lib/python3.9/site-packages/threadpoolctl.py\", line 400, in match_module_callback\n",
      "    self._make_module_from_path(filepath)\n",
      "  File \"/home/sian/anaconda3/envs/stats_env/lib/python3.9/site-packages/threadpoolctl.py\", line 515, in _make_module_from_path\n",
      "    module = module_class(filepath, prefix, user_api, internal_api)\n",
      "  File \"/home/sian/anaconda3/envs/stats_env/lib/python3.9/site-packages/threadpoolctl.py\", line 606, in __init__\n",
      "    self.version = self.get_version()\n",
      "  File \"/home/sian/anaconda3/envs/stats_env/lib/python3.9/site-packages/threadpoolctl.py\", line 646, in get_version\n",
      "    config = get_config().split()\n",
      "AttributeError: 'NoneType' object has no attribute 'split'\n",
      "Exception ignored on calling ctypes callback function: <function _ThreadpoolInfo._find_modules_with_dl_iterate_phdr.<locals>.match_module_callback at 0x7fb9a39eaaf0>\n",
      "Traceback (most recent call last):\n",
      "  File \"/home/sian/anaconda3/envs/stats_env/lib/python3.9/site-packages/threadpoolctl.py\", line 400, in match_module_callback\n",
      "    self._make_module_from_path(filepath)\n",
      "  File \"/home/sian/anaconda3/envs/stats_env/lib/python3.9/site-packages/threadpoolctl.py\", line 515, in _make_module_from_path\n",
      "    module = module_class(filepath, prefix, user_api, internal_api)\n",
      "  File \"/home/sian/anaconda3/envs/stats_env/lib/python3.9/site-packages/threadpoolctl.py\", line 606, in __init__\n",
      "    self.version = self.get_version()\n",
      "  File \"/home/sian/anaconda3/envs/stats_env/lib/python3.9/site-packages/threadpoolctl.py\", line 646, in get_version\n",
      "    config = get_config().split()\n",
      "AttributeError: 'NoneType' object has no attribute 'split'\n",
      "Exception ignored on calling ctypes callback function: <function _ThreadpoolInfo._find_modules_with_dl_iterate_phdr.<locals>.match_module_callback at 0x7fb9ac284430>\n",
      "Traceback (most recent call last):\n",
      "  File \"/home/sian/anaconda3/envs/stats_env/lib/python3.9/site-packages/threadpoolctl.py\", line 400, in match_module_callback\n",
      "    self._make_module_from_path(filepath)\n",
      "  File \"/home/sian/anaconda3/envs/stats_env/lib/python3.9/site-packages/threadpoolctl.py\", line 515, in _make_module_from_path\n",
      "    module = module_class(filepath, prefix, user_api, internal_api)\n",
      "  File \"/home/sian/anaconda3/envs/stats_env/lib/python3.9/site-packages/threadpoolctl.py\", line 606, in __init__\n",
      "    self.version = self.get_version()\n",
      "  File \"/home/sian/anaconda3/envs/stats_env/lib/python3.9/site-packages/threadpoolctl.py\", line 646, in get_version\n",
      "    config = get_config().split()\n",
      "AttributeError: 'NoneType' object has no attribute 'split'\n",
      "Exception ignored on calling ctypes callback function: <function _ThreadpoolInfo._find_modules_with_dl_iterate_phdr.<locals>.match_module_callback at 0x7fb9a39eaaf0>\n",
      "Traceback (most recent call last):\n",
      "  File \"/home/sian/anaconda3/envs/stats_env/lib/python3.9/site-packages/threadpoolctl.py\", line 400, in match_module_callback\n",
      "    self._make_module_from_path(filepath)\n",
      "  File \"/home/sian/anaconda3/envs/stats_env/lib/python3.9/site-packages/threadpoolctl.py\", line 515, in _make_module_from_path\n",
      "    module = module_class(filepath, prefix, user_api, internal_api)\n",
      "  File \"/home/sian/anaconda3/envs/stats_env/lib/python3.9/site-packages/threadpoolctl.py\", line 606, in __init__\n",
      "    self.version = self.get_version()\n",
      "  File \"/home/sian/anaconda3/envs/stats_env/lib/python3.9/site-packages/threadpoolctl.py\", line 646, in get_version\n",
      "    config = get_config().split()\n",
      "AttributeError: 'NoneType' object has no attribute 'split'\n",
      "Exception ignored on calling ctypes callback function: <function _ThreadpoolInfo._find_modules_with_dl_iterate_phdr.<locals>.match_module_callback at 0x7fb9ac284430>\n",
      "Traceback (most recent call last):\n",
      "  File \"/home/sian/anaconda3/envs/stats_env/lib/python3.9/site-packages/threadpoolctl.py\", line 400, in match_module_callback\n",
      "    self._make_module_from_path(filepath)\n",
      "  File \"/home/sian/anaconda3/envs/stats_env/lib/python3.9/site-packages/threadpoolctl.py\", line 515, in _make_module_from_path\n",
      "    module = module_class(filepath, prefix, user_api, internal_api)\n",
      "  File \"/home/sian/anaconda3/envs/stats_env/lib/python3.9/site-packages/threadpoolctl.py\", line 606, in __init__\n",
      "    self.version = self.get_version()\n",
      "  File \"/home/sian/anaconda3/envs/stats_env/lib/python3.9/site-packages/threadpoolctl.py\", line 646, in get_version\n",
      "    config = get_config().split()\n",
      "AttributeError: 'NoneType' object has no attribute 'split'\n"
     ]
    },
    {
     "data": {
      "text/html": [
       "<style>#sk-container-id-1 {color: black;background-color: white;}#sk-container-id-1 pre{padding: 0;}#sk-container-id-1 div.sk-toggleable {background-color: white;}#sk-container-id-1 label.sk-toggleable__label {cursor: pointer;display: block;width: 100%;margin-bottom: 0;padding: 0.3em;box-sizing: border-box;text-align: center;}#sk-container-id-1 label.sk-toggleable__label-arrow:before {content: \"▸\";float: left;margin-right: 0.25em;color: #696969;}#sk-container-id-1 label.sk-toggleable__label-arrow:hover:before {color: black;}#sk-container-id-1 div.sk-estimator:hover label.sk-toggleable__label-arrow:before {color: black;}#sk-container-id-1 div.sk-toggleable__content {max-height: 0;max-width: 0;overflow: hidden;text-align: left;background-color: #f0f8ff;}#sk-container-id-1 div.sk-toggleable__content pre {margin: 0.2em;color: black;border-radius: 0.25em;background-color: #f0f8ff;}#sk-container-id-1 input.sk-toggleable__control:checked~div.sk-toggleable__content {max-height: 200px;max-width: 100%;overflow: auto;}#sk-container-id-1 input.sk-toggleable__control:checked~label.sk-toggleable__label-arrow:before {content: \"▾\";}#sk-container-id-1 div.sk-estimator input.sk-toggleable__control:checked~label.sk-toggleable__label {background-color: #d4ebff;}#sk-container-id-1 div.sk-label input.sk-toggleable__control:checked~label.sk-toggleable__label {background-color: #d4ebff;}#sk-container-id-1 input.sk-hidden--visually {border: 0;clip: rect(1px 1px 1px 1px);clip: rect(1px, 1px, 1px, 1px);height: 1px;margin: -1px;overflow: hidden;padding: 0;position: absolute;width: 1px;}#sk-container-id-1 div.sk-estimator {font-family: monospace;background-color: #f0f8ff;border: 1px dotted black;border-radius: 0.25em;box-sizing: border-box;margin-bottom: 0.5em;}#sk-container-id-1 div.sk-estimator:hover {background-color: #d4ebff;}#sk-container-id-1 div.sk-parallel-item::after {content: \"\";width: 100%;border-bottom: 1px solid gray;flex-grow: 1;}#sk-container-id-1 div.sk-label:hover label.sk-toggleable__label {background-color: #d4ebff;}#sk-container-id-1 div.sk-serial::before {content: \"\";position: absolute;border-left: 1px solid gray;box-sizing: border-box;top: 0;bottom: 0;left: 50%;z-index: 0;}#sk-container-id-1 div.sk-serial {display: flex;flex-direction: column;align-items: center;background-color: white;padding-right: 0.2em;padding-left: 0.2em;position: relative;}#sk-container-id-1 div.sk-item {position: relative;z-index: 1;}#sk-container-id-1 div.sk-parallel {display: flex;align-items: stretch;justify-content: center;background-color: white;position: relative;}#sk-container-id-1 div.sk-item::before, #sk-container-id-1 div.sk-parallel-item::before {content: \"\";position: absolute;border-left: 1px solid gray;box-sizing: border-box;top: 0;bottom: 0;left: 50%;z-index: -1;}#sk-container-id-1 div.sk-parallel-item {display: flex;flex-direction: column;z-index: 1;position: relative;background-color: white;}#sk-container-id-1 div.sk-parallel-item:first-child::after {align-self: flex-end;width: 50%;}#sk-container-id-1 div.sk-parallel-item:last-child::after {align-self: flex-start;width: 50%;}#sk-container-id-1 div.sk-parallel-item:only-child::after {width: 0;}#sk-container-id-1 div.sk-dashed-wrapped {border: 1px dashed gray;margin: 0 0.4em 0.5em 0.4em;box-sizing: border-box;padding-bottom: 0.4em;background-color: white;}#sk-container-id-1 div.sk-label label {font-family: monospace;font-weight: bold;display: inline-block;line-height: 1.2em;}#sk-container-id-1 div.sk-label-container {text-align: center;}#sk-container-id-1 div.sk-container {/* jupyter's `normalize.less` sets `[hidden] { display: none; }` but bootstrap.min.css set `[hidden] { display: none !important; }` so we also need the `!important` here to be able to override the default hidden behavior on the sphinx rendered scikit-learn.org. See: https://github.com/scikit-learn/scikit-learn/issues/21755 */display: inline-block !important;position: relative;}#sk-container-id-1 div.sk-text-repr-fallback {display: none;}</style><div id=\"sk-container-id-1\" class=\"sk-top-container\"><div class=\"sk-text-repr-fallback\"><pre>KMeans(max_iter=50, n_clusters=4)</pre><b>In a Jupyter environment, please rerun this cell to show the HTML representation or trust the notebook. <br />On GitHub, the HTML representation is unable to render, please try loading this page with nbviewer.org.</b></div><div class=\"sk-container\" hidden><div class=\"sk-item\"><div class=\"sk-estimator sk-toggleable\"><input class=\"sk-toggleable__control sk-hidden--visually\" id=\"sk-estimator-id-1\" type=\"checkbox\" checked><label for=\"sk-estimator-id-1\" class=\"sk-toggleable__label sk-toggleable__label-arrow\">KMeans</label><div class=\"sk-toggleable__content\"><pre>KMeans(max_iter=50, n_clusters=4)</pre></div></div></div></div></div>"
      ],
      "text/plain": [
       "KMeans(max_iter=50, n_clusters=4)"
      ]
     },
     "execution_count": 16,
     "metadata": {},
     "output_type": "execute_result"
    }
   ],
   "source": [
    "kmeans = KMeans(n_clusters=4, max_iter=50)\n",
    "kmeans.fit(rfm)"
   ]
  },
  {
   "attachments": {},
   "cell_type": "markdown",
   "metadata": {},
   "source": [
    "Now the model is trained we can view the list of labels it chose for each data point:"
   ]
  },
  {
   "cell_type": "code",
   "execution_count": 17,
   "metadata": {},
   "outputs": [
    {
     "data": {
      "text/plain": [
       "array([2, 3, 3, 2, 3, 2, 1, 3, 3, 3, 3, 3, 2, 0, 3, 2, 3, 3, 0, 3, 3, 3,\n",
       "       0, 3, 0, 3, 0, 3, 0, 3, 3, 2, 0, 3, 2, 0, 2, 0, 3, 3, 3, 2, 3, 3,\n",
       "       0, 3, 0, 3, 2, 3, 0, 0, 0, 3, 0, 3, 0, 3, 3, 0, 3, 0, 3, 3, 3, 2,\n",
       "       0, 2, 0, 3, 0, 3, 3, 3, 3, 0, 0, 3, 3, 3, 0, 3, 2, 3, 3, 0, 3, 3,\n",
       "       2, 3, 1, 3, 2, 3, 3, 3, 0, 3, 3, 0, 3, 0, 3, 0, 1, 0, 0, 0, 0, 3,\n",
       "       0, 0, 3, 3, 0, 0, 3, 3, 0, 3, 0, 3, 0, 3, 0, 2, 3, 0, 3, 0, 0, 1,\n",
       "       0, 3, 3, 0, 0, 0, 3, 3, 3, 3, 3, 3, 3, 3, 1, 0, 0, 0, 3, 3, 1, 0,\n",
       "       3, 3, 3, 0, 3, 0, 2, 3, 2, 0, 2, 2, 0, 3, 3, 3, 3, 3, 0, 3, 3, 0,\n",
       "       0, 0, 3, 3, 2, 0, 0, 0, 3, 0, 3, 3, 0, 0, 0, 0, 0, 0, 3, 3, 0, 3,\n",
       "       3, 0, 3, 3, 0, 0, 0, 2, 3, 3, 0, 0, 0, 0, 3, 0, 3, 2, 0, 3, 0, 3,\n",
       "       3, 0, 3, 2, 0, 3, 0, 3, 3, 3, 0, 3, 2, 2, 2, 3, 0, 3, 0, 3, 2, 3,\n",
       "       3, 3, 2, 0, 0, 0, 0, 0, 3, 3, 0, 3, 3, 0, 3, 1, 3, 3, 3, 0, 3, 0,\n",
       "       0, 3, 3, 0, 0, 3, 3, 3, 0, 3, 0, 2, 3, 0, 0, 0, 0, 0, 3, 0, 0, 2,\n",
       "       0, 0, 0, 0, 0, 3, 0, 3, 3, 0, 3, 0, 0, 0, 3, 3, 2, 0, 0, 3, 0, 2,\n",
       "       3, 3, 2, 1, 3, 0, 0, 0, 0, 0, 3, 3, 0, 3, 0, 0, 3, 3, 2, 1, 2, 3,\n",
       "       3, 3, 2, 2, 3, 3, 2, 0, 2, 2, 3, 3, 3, 0, 3, 3, 0, 3, 0, 2, 3, 3,\n",
       "       2, 3, 2, 2, 2, 0, 0, 3, 3, 0, 3, 0, 0, 2, 0, 3, 3, 3, 3, 2, 0, 3,\n",
       "       3, 0, 3, 0, 0, 0, 2, 0, 0, 3, 3, 0, 0, 1, 0, 0, 3, 3, 3, 3, 2, 0,\n",
       "       0, 3, 3, 3, 0, 3, 3, 3, 0, 3, 3, 0, 3, 0, 2, 3, 3, 3, 0, 3, 3, 0,\n",
       "       3, 0, 0, 3, 2, 3, 2, 0, 3, 1, 0, 0, 2, 0, 2, 2, 1, 0, 2, 3, 2, 0,\n",
       "       0, 0, 3, 0, 0, 0, 3, 2, 3, 2, 0, 2, 0, 0, 0, 0, 3, 3, 3, 0, 3, 0,\n",
       "       3, 3, 0, 3, 3, 3, 0, 2, 3, 0, 0, 3, 3, 3, 3, 0, 0, 0, 3, 2, 0, 0,\n",
       "       3, 3, 0, 0, 3, 0, 0, 3, 0, 0, 3, 0, 3, 1, 3, 3, 3, 3, 0, 0, 3, 3,\n",
       "       3, 0, 3, 0, 3, 0, 3, 0, 0, 2, 2, 0, 3, 0, 0, 3, 3, 3, 3, 0, 0, 3,\n",
       "       0, 3, 3, 3, 0, 0, 2, 3, 2, 3, 3, 0, 3, 3, 0, 3, 3, 3, 2, 2, 0, 0,\n",
       "       3, 0, 3, 3, 0, 0, 2, 3, 0, 0, 2, 3, 3, 3, 3, 0, 3, 3, 2, 0, 2, 0,\n",
       "       3, 2, 0, 0, 0, 2, 0, 3, 0, 3, 3, 3, 3, 3, 3, 3, 2, 0, 0, 0, 3, 3,\n",
       "       3, 3, 3, 2, 3, 3, 0, 3, 2, 0, 2, 3, 2, 3, 0, 3, 2, 3, 0, 0, 0, 2,\n",
       "       0, 0, 2, 3, 3, 1, 0, 0, 3, 3, 3, 2, 3, 3, 0, 0, 0, 3, 3, 0, 3, 3,\n",
       "       3, 0, 0, 3, 0, 2, 3, 3, 3, 2, 3, 2, 3, 0, 3, 2, 0, 3, 0, 0, 0, 3,\n",
       "       2, 0, 0, 0, 3, 2, 2, 0, 0, 1, 0, 0, 0, 2, 3, 3, 3, 0, 2, 0, 3, 3,\n",
       "       2, 1, 3, 0, 0, 0, 3, 0, 3, 0, 0, 3, 0, 3, 3, 3, 0, 3, 1, 3, 2, 3,\n",
       "       0, 0, 3, 2, 3, 0, 0, 0, 0, 3, 0, 3, 3, 3, 3, 0, 1, 0, 3, 3, 3, 3,\n",
       "       3, 0, 3, 0, 1, 3, 0, 3, 3, 0, 3, 2, 0, 3, 0, 1, 3, 0, 3, 3, 3, 0,\n",
       "       3, 0, 0, 3, 0, 0, 3, 0, 0, 2, 3, 3, 3, 0, 2, 3, 1, 3, 0, 0, 0, 2,\n",
       "       3, 3, 2, 2, 3, 3, 2, 3, 3, 3, 0, 3, 3, 0, 3, 3, 2, 2, 0, 2, 2, 2,\n",
       "       3], dtype=int32)"
      ]
     },
     "execution_count": 17,
     "metadata": {},
     "output_type": "execute_result"
    }
   ],
   "source": [
    "label_list=kmeans.labels_\n",
    "label_list"
   ]
  },
  {
   "attachments": {},
   "cell_type": "markdown",
   "metadata": {},
   "source": [
    "We can then apply the cluster numbers to our customers as a new column in the `rfm` dataframe:"
   ]
  },
  {
   "cell_type": "code",
   "execution_count": null,
   "metadata": {},
   "outputs": [],
   "source": [
    "rfm['cluster_id'] = kmeans.labels_\n",
    "rfm.head()"
   ]
  },
  {
   "attachments": {},
   "cell_type": "markdown",
   "metadata": {},
   "source": [
    "### Evaluating first results:"
   ]
  },
  {
   "cell_type": "code",
   "execution_count": null,
   "metadata": {},
   "outputs": [],
   "source": [
    "#store labels list and unique labels\n",
    "labels = kmeans.labels_\n",
    "u_labels = np.unique(labels) \n",
    " \n",
    "#plotting the result:\n"
   ]
  },
  {
   "cell_type": "code",
   "execution_count": null,
   "metadata": {},
   "outputs": [],
   "source": [
    "#silhouette"
   ]
  },
  {
   "attachments": {},
   "cell_type": "markdown",
   "metadata": {},
   "source": [
    "## 2. Clean/preprocess data"
   ]
  },
  {
   "attachments": {},
   "cell_type": "markdown",
   "metadata": {},
   "source": [
    "### Outliers"
   ]
  },
  {
   "cell_type": "code",
   "execution_count": null,
   "metadata": {},
   "outputs": [],
   "source": [
    "#use IQR"
   ]
  },
  {
   "attachments": {},
   "cell_type": "markdown",
   "metadata": {},
   "source": [
    "### Feature scaling: Z-Score Standardisation\n",
    "Standardisation allows us to compare features' values on a similar scale. This is done typically so that mean of all data types becomes 0, and the scale is based on the unit variance from this new mean. \n",
    "\n",
    "StandardScaler() requires a normal gaussian distribution."
   ]
  },
  {
   "cell_type": "code",
   "execution_count": null,
   "metadata": {},
   "outputs": [],
   "source": [
    "# Rescaling the attributes\n",
    "rfm_df = rfm[['Expenditure', 'Frequency', 'Recency']]\n",
    "\n",
    "# Instantiate\n",
    "scaler = StandardScaler()\n",
    "\n",
    "# fit_transform\n",
    "rfm_df_scaled = pd.DataFrame(scaler.fit_transform(rfm_df)) #change back if doesn't work\n",
    "rfm_df_scaled.columns = ['Expenditure', 'Frequency', 'Recency']\n",
    "rfm_df_scaled.head()"
   ]
  },
  {
   "attachments": {},
   "cell_type": "markdown",
   "metadata": {},
   "source": [
    "###  Later: "
   ]
  },
  {
   "attachments": {},
   "cell_type": "markdown",
   "metadata": {},
   "source": [
    "#### pick out better scalers here? \n",
    "https://scikit-learn.org/stable/auto_examples/preprocessing/plot_all_scaling.html#sphx-glr-auto-examples-preprocessing-plot-all-scaling-py"
   ]
  },
  {
   "attachments": {},
   "cell_type": "markdown",
   "metadata": {},
   "source": [
    "#### Principal component analysis (PCA)\n",
    "if using more dimensions"
   ]
  },
  {
   "attachments": {},
   "cell_type": "markdown",
   "metadata": {},
   "source": [
    "#### more steps: \n",
    "polynomial (preprocessing) https://scikit-learn.org/stable/modules/preprocessing.html#polynomial-features\n",
    "\n"
   ]
  },
  {
   "cell_type": "code",
   "execution_count": null,
   "metadata": {},
   "outputs": [],
   "source": [
    "#maybe for further cleaning before agg\n",
    "# rfm = rfm[(rfm['monetary'] > 0)]\n",
    "# rfm = rfm.reset_index()"
   ]
  },
  {
   "attachments": {},
   "cell_type": "markdown",
   "metadata": {},
   "source": [
    "## 3. Run K-Means model on normalised data"
   ]
  },
  {
   "attachments": {},
   "cell_type": "markdown",
   "metadata": {},
   "source": [
    "### Initialise K-Means model"
   ]
  },
  {
   "cell_type": "code",
   "execution_count": null,
   "metadata": {},
   "outputs": [],
   "source": [
    "kmeans = KMeans(n_clusters=4, max_iter=50)\n",
    "\n",
    "kmeans.fit(rfm_df_scaled)"
   ]
  },
  {
   "cell_type": "code",
   "execution_count": null,
   "metadata": {},
   "outputs": [],
   "source": [
    "# Assign the labels to each data point, and execute the following script.\n",
    "kmeans.labels_\n",
    "label_list=kmeans.labels_\n",
    "sorted(Counter(label_list).items())"
   ]
  },
  {
   "attachments": {},
   "cell_type": "markdown",
   "metadata": {},
   "source": [
    "## 4. Optimise the number of clusters (k)\n",
    "K-means is sensitive not only to the placement but also to the number of clusters. The Elbow Method and Silhouette Score can help us find the best number to fit the data well but without overfitting."
   ]
  },
  {
   "attachments": {},
   "cell_type": "markdown",
   "metadata": {},
   "source": [
    "### Elbow method"
   ]
  },
  {
   "cell_type": "code",
   "execution_count": null,
   "metadata": {},
   "outputs": [],
   "source": [
    "kmeans_data = rfm.loc[:,['recency_score','frequency_score']]\n",
    "\n",
    "inertia = []\n",
    "\n",
    "k = [1,2,3,4,5,6,7,8,9]\n",
    "\n",
    "for i in k:\n",
    "    \n",
    "    kmean = KMeans(n_clusters = i)\n",
    "    kmean.fit(kmeans_data)\n",
    "    inertia.append(kmean.inertia_)\n",
    "    \n",
    "data = go.Scatter(x = k, y = inertia, mode = 'lines + markers', marker = dict(size= 10))\n",
    "\n",
    "layout = go.Layout(title = {'text' : 'Elbow Method',\n",
    "                            'y' : 0.9,\n",
    "                            'x' : 0.5,\n",
    "                            'xanchor' : 'center',\n",
    "                            'yanchor' : 'top'},\n",
    "                   width = 650,\n",
    "                   height = 470,\n",
    "                   xaxis = dict(title = 'Number Of Clusters'),\n",
    "                   yaxis = dict(title = 'Sum of Squared Distance'),\n",
    "                   template = 'plotly_white')\n",
    "\n",
    "fig = go.Figure(data = data, layout = layout)\n",
    "iplot(fig)                            "
   ]
  },
  {
   "attachments": {},
   "cell_type": "markdown",
   "metadata": {},
   "source": [
    "### Silhouette score"
   ]
  },
  {
   "cell_type": "code",
   "execution_count": null,
   "metadata": {},
   "outputs": [],
   "source": [
    "kmeans = KMeans(n_clusters = 3, random_state = 42)\n",
    "kmeans.fit(kmeans_data)\n",
    "print('Silhoutte Score : {}'.format(round(metrics.silhouette_score(kmeans_data, kmeans.labels_), 3))) "
   ]
  },
  {
   "attachments": {},
   "cell_type": "markdown",
   "metadata": {},
   "source": [
    "### Compare performance of base model to model using `k-means++` \n",
    "\n",
    "K-means is sensitive not only to the number of clusters but also their initial placement. We already accounted for this by repeating the clustering with new random starting points each time. Scikit learn also provides a method to try to deal with this problem. Setting the k-means++ hyperparameter in scikit-learn will initialise centroids that are spread-out rather than random. \n",
    "\n",
    "As the silhouette score measures the separation between clusters, we can measure the impact of the method's attempt to spread the initial centroids."
   ]
  },
  {
   "attachments": {},
   "cell_type": "markdown",
   "metadata": {},
   "source": [
    "## 5. Run k-optimised K-Means model and visualise results"
   ]
  },
  {
   "cell_type": "code",
   "execution_count": null,
   "metadata": {},
   "outputs": [],
   "source": [
    "#run"
   ]
  },
  {
   "cell_type": "code",
   "execution_count": null,
   "metadata": {},
   "outputs": [],
   "source": [
    "# Box plot to visualize Cluster Id vs Amount\n",
    "sns.boxplot(x='Cluster_Id', y='Amount', data=rfm)\n",
    "\n",
    "# Box plot to visualize Cluster Id vs Frequency\n",
    "sns.boxplot(x='Cluster_Id', y='Frequency', data=rfm)\n",
    "\n",
    "# Box plot to visualize Cluster Id vs Recency\n",
    "sns.boxplot(x='Cluster_Id', y='Recency', data=rfm)"
   ]
  },
  {
   "attachments": {},
   "cell_type": "markdown",
   "metadata": {},
   "source": [
    "## Last: also try:\n",
    "\n",
    "K-Medoids\n",
    "https://medium.com/@ali.soleymani.co/beyond-scikit-learn-is-it-time-to-retire-k-means-and-use-this-method-instead-b8eb9ca9079a\n",
    "\n",
    "Affinity propogation https://scikit-learn.org/stable/modules/clustering.html#affinity-propagation"
   ]
  }
 ],
 "metadata": {
  "kernelspec": {
   "display_name": "stats_env",
   "language": "python",
   "name": "python3"
  },
  "language_info": {
   "codemirror_mode": {
    "name": "ipython",
    "version": 3
   },
   "file_extension": ".py",
   "mimetype": "text/x-python",
   "name": "python",
   "nbconvert_exporter": "python",
   "pygments_lexer": "ipython3",
   "version": "3.9.16"
  },
  "orig_nbformat": 4
 },
 "nbformat": 4,
 "nbformat_minor": 2
}
