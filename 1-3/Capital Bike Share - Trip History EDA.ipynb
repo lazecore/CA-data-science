{
 "cells": [
  {
   "attachments": {},
   "cell_type": "markdown",
   "metadata": {},
   "source": [
    "Import modules and data"
   ]
  },
  {
   "cell_type": "code",
   "execution_count": 1,
   "metadata": {},
   "outputs": [],
   "source": [
    "import numpy as np\n",
    "import pandas as pd\n",
    "import seaborn as sns\n",
    "import matplotlib as mpl\n",
    "import matplotlib.pyplot as plt\n",
    "\n",
    "import datetime\n",
    "\n",
    "%matplotlib inline\n",
    "#%matplotlib ipympl\n",
    "%config InlineBackend.figure_format = 'retina'\n",
    "\n",
    "from sklearn import preprocessing"
   ]
  },
  {
   "attachments": {},
   "cell_type": "markdown",
   "metadata": {},
   "source": [
    "Dataset info\n",
    "Trip History Data from https://capitalbikeshare.com/system-data\n",
    "\n",
    "Quarterly Capital Bikeshare trip data. The data includes:\n",
    "\n",
    "    Duration – Duration of trip\n",
    "    Start Date – Includes start date and time\n",
    "    End Date – Includes end date and time\n",
    "    Start Station – Includes starting station name and number\n",
    "    End Station – Includes ending station name and number\n",
    "    Bike Number – Includes ID number of bike used for the trip\n",
    "    Member Type – Indicates whether user was a \"registered\" member (Annual Member, 30-Day Member or Day Key Member) or a \"casual\" rider (Single Trip, 24-Hour Pass, 3-Day Pass or 5-Day Pass)\n",
    "\n",
    "This data has been processed to remove trips that are taken by staff as they service and inspect the system, trips that are taken to/from any of our “test” stations at our warehouses and any trips lasting less than 60 seconds (potentially false starts or users trying to re-dock a bike to ensure it's secure).\n",
    "NOTE: The 3-Day Membership replaced the 5-Day Membership in Fall 2011\n",
    "\n",
    "Beware inclusion of dockless bikes and e-scooters after a certain point.\n",
    "\n",
    "Working towards KPIs for inclusivity\n",
    "\n",
    "Decide which timeframe and dataset to use"
   ]
  },
  {
   "cell_type": "code",
   "execution_count": 2,
   "metadata": {},
   "outputs": [],
   "source": [
    "df_2023_04 = pd.read_csv('202304-capitalbikeshare-tripdata.csv')"
   ]
  },
  {
   "attachments": {},
   "cell_type": "markdown",
   "metadata": {},
   "source": [
    "# First steps"
   ]
  },
  {
   "attachments": {},
   "cell_type": "markdown",
   "metadata": {},
   "source": [
    "check shape and column names"
   ]
  },
  {
   "cell_type": "code",
   "execution_count": 3,
   "metadata": {},
   "outputs": [
    {
     "name": "stdout",
     "output_type": "stream",
     "text": [
      "<class 'pandas.core.frame.DataFrame'>\n",
      "RangeIndex: 389243 entries, 0 to 389242\n",
      "Data columns (total 13 columns):\n",
      " #   Column              Non-Null Count   Dtype  \n",
      "---  ------              --------------   -----  \n",
      " 0   ride_id             389243 non-null  object \n",
      " 1   rideable_type       389243 non-null  object \n",
      " 2   started_at          389243 non-null  object \n",
      " 3   ended_at            389243 non-null  object \n",
      " 4   start_station_name  360858 non-null  object \n",
      " 5   start_station_id    360858 non-null  float64\n",
      " 6   end_station_name    358630 non-null  object \n",
      " 7   end_station_id      358630 non-null  float64\n",
      " 8   start_lat           389243 non-null  float64\n",
      " 9   start_lng           389243 non-null  float64\n",
      " 10  end_lat             388555 non-null  float64\n",
      " 11  end_lng             388555 non-null  float64\n",
      " 12  member_casual       389243 non-null  object \n",
      "dtypes: float64(6), object(7)\n",
      "memory usage: 38.6+ MB\n"
     ]
    },
    {
     "data": {
      "text/plain": [
       "None"
      ]
     },
     "metadata": {},
     "output_type": "display_data"
    }
   ],
   "source": [
    "display(df_2023_04.info())\n"
   ]
  },
  {
   "cell_type": "code",
   "execution_count": 4,
   "metadata": {},
   "outputs": [
    {
     "data": {
      "text/html": [
       "<div>\n",
       "<style scoped>\n",
       "    .dataframe tbody tr th:only-of-type {\n",
       "        vertical-align: middle;\n",
       "    }\n",
       "\n",
       "    .dataframe tbody tr th {\n",
       "        vertical-align: top;\n",
       "    }\n",
       "\n",
       "    .dataframe thead th {\n",
       "        text-align: right;\n",
       "    }\n",
       "</style>\n",
       "<table border=\"1\" class=\"dataframe\">\n",
       "  <thead>\n",
       "    <tr style=\"text-align: right;\">\n",
       "      <th></th>\n",
       "      <th>ride_id</th>\n",
       "      <th>rideable_type</th>\n",
       "      <th>started_at</th>\n",
       "      <th>ended_at</th>\n",
       "      <th>start_station_name</th>\n",
       "      <th>start_station_id</th>\n",
       "      <th>end_station_name</th>\n",
       "      <th>end_station_id</th>\n",
       "      <th>start_lat</th>\n",
       "      <th>start_lng</th>\n",
       "      <th>end_lat</th>\n",
       "      <th>end_lng</th>\n",
       "      <th>member_casual</th>\n",
       "    </tr>\n",
       "  </thead>\n",
       "  <tbody>\n",
       "    <tr>\n",
       "      <th>0</th>\n",
       "      <td>7D89911108C4305F</td>\n",
       "      <td>classic_bike</td>\n",
       "      <td>2023-04-15 12:51:45</td>\n",
       "      <td>2023-04-15 12:57:14</td>\n",
       "      <td>16th &amp; Harvard St NW</td>\n",
       "      <td>31135.0</td>\n",
       "      <td>Lamont &amp; Mt Pleasant NW</td>\n",
       "      <td>31107.0</td>\n",
       "      <td>38.926102</td>\n",
       "      <td>-77.036650</td>\n",
       "      <td>38.931900</td>\n",
       "      <td>-77.038800</td>\n",
       "      <td>member</td>\n",
       "    </tr>\n",
       "    <tr>\n",
       "      <th>1</th>\n",
       "      <td>FF47021098DE06BD</td>\n",
       "      <td>electric_bike</td>\n",
       "      <td>2023-04-11 18:21:35</td>\n",
       "      <td>2023-04-11 18:37:47</td>\n",
       "      <td>Rosedale Rec Center</td>\n",
       "      <td>31658.0</td>\n",
       "      <td>6th St &amp; Indiana Ave NW</td>\n",
       "      <td>31264.0</td>\n",
       "      <td>38.897897</td>\n",
       "      <td>-76.979721</td>\n",
       "      <td>38.894573</td>\n",
       "      <td>-77.019940</td>\n",
       "      <td>member</td>\n",
       "    </tr>\n",
       "    <tr>\n",
       "      <th>2</th>\n",
       "      <td>BB41905DB8DE1CC7</td>\n",
       "      <td>classic_bike</td>\n",
       "      <td>2023-04-16 18:09:23</td>\n",
       "      <td>2023-04-16 18:26:10</td>\n",
       "      <td>2nd St &amp; Seaton Pl NE</td>\n",
       "      <td>31522.0</td>\n",
       "      <td>15th &amp; W St NW</td>\n",
       "      <td>31125.0</td>\n",
       "      <td>38.914751</td>\n",
       "      <td>-77.003560</td>\n",
       "      <td>38.919018</td>\n",
       "      <td>-77.034449</td>\n",
       "      <td>member</td>\n",
       "    </tr>\n",
       "    <tr>\n",
       "      <th>3</th>\n",
       "      <td>0B1CB1A1E2380DD9</td>\n",
       "      <td>electric_bike</td>\n",
       "      <td>2023-04-29 17:13:36</td>\n",
       "      <td>2023-04-29 17:17:37</td>\n",
       "      <td>2nd St &amp; Seaton Pl NE</td>\n",
       "      <td>31522.0</td>\n",
       "      <td>MBT &amp; Bryant St NE</td>\n",
       "      <td>31531.0</td>\n",
       "      <td>38.914697</td>\n",
       "      <td>-77.003593</td>\n",
       "      <td>38.922404</td>\n",
       "      <td>-76.996023</td>\n",
       "      <td>member</td>\n",
       "    </tr>\n",
       "    <tr>\n",
       "      <th>4</th>\n",
       "      <td>D321DE32CAFDDD51</td>\n",
       "      <td>classic_bike</td>\n",
       "      <td>2023-04-29 17:53:46</td>\n",
       "      <td>2023-04-29 18:02:10</td>\n",
       "      <td>23rd &amp; E St NW</td>\n",
       "      <td>31260.0</td>\n",
       "      <td>15th &amp; M St NW</td>\n",
       "      <td>31298.0</td>\n",
       "      <td>38.896104</td>\n",
       "      <td>-77.049882</td>\n",
       "      <td>38.905424</td>\n",
       "      <td>-77.034674</td>\n",
       "      <td>member</td>\n",
       "    </tr>\n",
       "  </tbody>\n",
       "</table>\n",
       "</div>"
      ],
      "text/plain": [
       "            ride_id  rideable_type           started_at             ended_at  \\\n",
       "0  7D89911108C4305F   classic_bike  2023-04-15 12:51:45  2023-04-15 12:57:14   \n",
       "1  FF47021098DE06BD  electric_bike  2023-04-11 18:21:35  2023-04-11 18:37:47   \n",
       "2  BB41905DB8DE1CC7   classic_bike  2023-04-16 18:09:23  2023-04-16 18:26:10   \n",
       "3  0B1CB1A1E2380DD9  electric_bike  2023-04-29 17:13:36  2023-04-29 17:17:37   \n",
       "4  D321DE32CAFDDD51   classic_bike  2023-04-29 17:53:46  2023-04-29 18:02:10   \n",
       "\n",
       "      start_station_name  start_station_id         end_station_name  \\\n",
       "0   16th & Harvard St NW           31135.0  Lamont & Mt Pleasant NW   \n",
       "1    Rosedale Rec Center           31658.0  6th St & Indiana Ave NW   \n",
       "2  2nd St & Seaton Pl NE           31522.0           15th & W St NW   \n",
       "3  2nd St & Seaton Pl NE           31522.0       MBT & Bryant St NE   \n",
       "4        23rd & E St NW            31260.0           15th & M St NW   \n",
       "\n",
       "   end_station_id  start_lat  start_lng    end_lat    end_lng member_casual  \n",
       "0         31107.0  38.926102 -77.036650  38.931900 -77.038800        member  \n",
       "1         31264.0  38.897897 -76.979721  38.894573 -77.019940        member  \n",
       "2         31125.0  38.914751 -77.003560  38.919018 -77.034449        member  \n",
       "3         31531.0  38.914697 -77.003593  38.922404 -76.996023        member  \n",
       "4         31298.0  38.896104 -77.049882  38.905424 -77.034674        member  "
      ]
     },
     "metadata": {},
     "output_type": "display_data"
    }
   ],
   "source": [
    "display(df_2023_04.head())"
   ]
  },
  {
   "cell_type": "code",
   "execution_count": 5,
   "metadata": {},
   "outputs": [],
   "source": [
    "#set ride_id as index\n",
    "#TODO: find out if this is a bad idea\n",
    "#df_2023_04.set_index('ride_id')"
   ]
  },
  {
   "attachments": {},
   "cell_type": "markdown",
   "metadata": {},
   "source": [
    "check for missing values"
   ]
  },
  {
   "cell_type": "code",
   "execution_count": 6,
   "metadata": {},
   "outputs": [
    {
     "data": {
      "text/plain": [
       "'Empty fields:'"
      ]
     },
     "metadata": {},
     "output_type": "display_data"
    },
    {
     "data": {
      "text/plain": [
       "ride_id                   0\n",
       "rideable_type             0\n",
       "started_at                0\n",
       "ended_at                  0\n",
       "start_station_name    28385\n",
       "start_station_id      28385\n",
       "end_station_name      30613\n",
       "end_station_id        30613\n",
       "start_lat                 0\n",
       "start_lng                 0\n",
       "end_lat                 688\n",
       "end_lng                 688\n",
       "member_casual             0\n",
       "dtype: int64"
      ]
     },
     "metadata": {},
     "output_type": "display_data"
    },
    {
     "data": {
      "text/plain": [
       "ride_id                   0\n",
       "rideable_type             0\n",
       "started_at                0\n",
       "ended_at                  0\n",
       "start_station_name    28385\n",
       "start_station_id      28385\n",
       "end_station_name      30613\n",
       "end_station_id        30613\n",
       "start_lat                 0\n",
       "start_lng                 0\n",
       "end_lat                 688\n",
       "end_lng                 688\n",
       "member_casual             0\n",
       "dtype: int64"
      ]
     },
     "metadata": {},
     "output_type": "display_data"
    }
   ],
   "source": [
    "display(\"Empty fields:\",df_2023_04.isnull().sum(), df_2023_04.isna().sum())"
   ]
  },
  {
   "attachments": {},
   "cell_type": "markdown",
   "metadata": {},
   "source": [
    "check for duplicated values"
   ]
  },
  {
   "cell_type": "code",
   "execution_count": 7,
   "metadata": {},
   "outputs": [
    {
     "data": {
      "text/plain": [
       "'Counts of duplicated items:'"
      ]
     },
     "metadata": {},
     "output_type": "display_data"
    },
    {
     "data": {
      "text/plain": [
       "False    389225\n",
       "True         18\n",
       "dtype: int64"
      ]
     },
     "metadata": {},
     "output_type": "display_data"
    }
   ],
   "source": [
    "display('Counts of duplicated items:', df_2023_04.drop('ride_id', axis = 1).duplicated().value_counts()) #why do i have to trop ride_id if it is the index? \n",
    "# also why did i get loads more results first time?"
   ]
  },
  {
   "attachments": {},
   "cell_type": "markdown",
   "metadata": {},
   "source": [
    "There are 581 (or 18 ?? got two different results) duplicate records, once the unique ride ID is ignored."
   ]
  },
  {
   "cell_type": "code",
   "execution_count": 8,
   "metadata": {},
   "outputs": [
    {
     "data": {
      "text/html": [
       "<div>\n",
       "<style scoped>\n",
       "    .dataframe tbody tr th:only-of-type {\n",
       "        vertical-align: middle;\n",
       "    }\n",
       "\n",
       "    .dataframe tbody tr th {\n",
       "        vertical-align: top;\n",
       "    }\n",
       "\n",
       "    .dataframe thead th {\n",
       "        text-align: right;\n",
       "    }\n",
       "</style>\n",
       "<table border=\"1\" class=\"dataframe\">\n",
       "  <thead>\n",
       "    <tr style=\"text-align: right;\">\n",
       "      <th></th>\n",
       "      <th>ride_id</th>\n",
       "      <th>rideable_type</th>\n",
       "      <th>started_at</th>\n",
       "      <th>ended_at</th>\n",
       "      <th>start_station_name</th>\n",
       "      <th>start_station_id</th>\n",
       "      <th>end_station_name</th>\n",
       "      <th>end_station_id</th>\n",
       "      <th>start_lat</th>\n",
       "      <th>start_lng</th>\n",
       "      <th>end_lat</th>\n",
       "      <th>end_lng</th>\n",
       "      <th>member_casual</th>\n",
       "    </tr>\n",
       "  </thead>\n",
       "  <tbody>\n",
       "    <tr>\n",
       "      <th>229411</th>\n",
       "      <td>EC87487562C28E93</td>\n",
       "      <td>classic_bike</td>\n",
       "      <td>2023-04-02 21:31:44</td>\n",
       "      <td>2023-04-02 21:54:18</td>\n",
       "      <td>USDA / 12th &amp; C St SW</td>\n",
       "      <td>31217.0</td>\n",
       "      <td>20th &amp; E St NW</td>\n",
       "      <td>31204.0</td>\n",
       "      <td>38.886277</td>\n",
       "      <td>-77.028242</td>\n",
       "      <td>38.896300</td>\n",
       "      <td>-77.045000</td>\n",
       "      <td>casual</td>\n",
       "    </tr>\n",
       "    <tr>\n",
       "      <th>229409</th>\n",
       "      <td>1845562C28A56D03</td>\n",
       "      <td>classic_bike</td>\n",
       "      <td>2023-04-02 21:31:44</td>\n",
       "      <td>2023-04-02 21:54:18</td>\n",
       "      <td>USDA / 12th &amp; C St SW</td>\n",
       "      <td>31217.0</td>\n",
       "      <td>20th &amp; E St NW</td>\n",
       "      <td>31204.0</td>\n",
       "      <td>38.886277</td>\n",
       "      <td>-77.028242</td>\n",
       "      <td>38.896300</td>\n",
       "      <td>-77.045000</td>\n",
       "      <td>casual</td>\n",
       "    </tr>\n",
       "    <tr>\n",
       "      <th>274578</th>\n",
       "      <td>02BAEE25CE7889D9</td>\n",
       "      <td>classic_bike</td>\n",
       "      <td>2023-04-07 12:37:35</td>\n",
       "      <td>2023-04-07 13:21:06</td>\n",
       "      <td>19th St &amp; Constitution Ave NW</td>\n",
       "      <td>31235.0</td>\n",
       "      <td>1st &amp; D St SE</td>\n",
       "      <td>31643.0</td>\n",
       "      <td>38.892212</td>\n",
       "      <td>-77.043074</td>\n",
       "      <td>38.884916</td>\n",
       "      <td>-77.005965</td>\n",
       "      <td>casual</td>\n",
       "    </tr>\n",
       "    <tr>\n",
       "      <th>274552</th>\n",
       "      <td>82BFA6942C47AC08</td>\n",
       "      <td>classic_bike</td>\n",
       "      <td>2023-04-07 12:37:35</td>\n",
       "      <td>2023-04-07 13:21:06</td>\n",
       "      <td>19th St &amp; Constitution Ave NW</td>\n",
       "      <td>31235.0</td>\n",
       "      <td>1st &amp; D St SE</td>\n",
       "      <td>31643.0</td>\n",
       "      <td>38.892212</td>\n",
       "      <td>-77.043074</td>\n",
       "      <td>38.884916</td>\n",
       "      <td>-77.005965</td>\n",
       "      <td>casual</td>\n",
       "    </tr>\n",
       "    <tr>\n",
       "      <th>185277</th>\n",
       "      <td>FD1FBFC11353FC0A</td>\n",
       "      <td>classic_bike</td>\n",
       "      <td>2023-04-09 13:53:40</td>\n",
       "      <td>2023-04-09 14:20:30</td>\n",
       "      <td>3000 Connecticut Ave NW / National Zoo</td>\n",
       "      <td>31307.0</td>\n",
       "      <td>1st &amp; O St NW</td>\n",
       "      <td>31519.0</td>\n",
       "      <td>38.930282</td>\n",
       "      <td>-77.055599</td>\n",
       "      <td>38.908643</td>\n",
       "      <td>-77.012365</td>\n",
       "      <td>member</td>\n",
       "    </tr>\n",
       "    <tr>\n",
       "      <th>81569</th>\n",
       "      <td>08052F97EFABD88E</td>\n",
       "      <td>classic_bike</td>\n",
       "      <td>2023-04-09 13:53:40</td>\n",
       "      <td>2023-04-09 14:20:30</td>\n",
       "      <td>3000 Connecticut Ave NW / National Zoo</td>\n",
       "      <td>31307.0</td>\n",
       "      <td>1st &amp; O St NW</td>\n",
       "      <td>31519.0</td>\n",
       "      <td>38.930282</td>\n",
       "      <td>-77.055599</td>\n",
       "      <td>38.908643</td>\n",
       "      <td>-77.012365</td>\n",
       "      <td>member</td>\n",
       "    </tr>\n",
       "    <tr>\n",
       "      <th>105108</th>\n",
       "      <td>9F691C5E28AF6256</td>\n",
       "      <td>classic_bike</td>\n",
       "      <td>2023-04-12 14:34:55</td>\n",
       "      <td>2023-04-12 15:18:48</td>\n",
       "      <td>Smithsonian-National Mall / Jefferson Dr &amp; 12t...</td>\n",
       "      <td>31248.0</td>\n",
       "      <td>Henry Bacon Dr &amp; Lincoln Memorial Circle NW</td>\n",
       "      <td>31289.0</td>\n",
       "      <td>38.888774</td>\n",
       "      <td>-77.028694</td>\n",
       "      <td>38.890539</td>\n",
       "      <td>-77.049383</td>\n",
       "      <td>casual</td>\n",
       "    </tr>\n",
       "    <tr>\n",
       "      <th>180957</th>\n",
       "      <td>DCEB1FEFC85ACBF0</td>\n",
       "      <td>classic_bike</td>\n",
       "      <td>2023-04-12 14:34:55</td>\n",
       "      <td>2023-04-12 15:18:48</td>\n",
       "      <td>Smithsonian-National Mall / Jefferson Dr &amp; 12t...</td>\n",
       "      <td>31248.0</td>\n",
       "      <td>Henry Bacon Dr &amp; Lincoln Memorial Circle NW</td>\n",
       "      <td>31289.0</td>\n",
       "      <td>38.888774</td>\n",
       "      <td>-77.028694</td>\n",
       "      <td>38.890539</td>\n",
       "      <td>-77.049383</td>\n",
       "      <td>casual</td>\n",
       "    </tr>\n",
       "    <tr>\n",
       "      <th>103669</th>\n",
       "      <td>BA2F8DE3F38F4CF2</td>\n",
       "      <td>classic_bike</td>\n",
       "      <td>2023-04-13 11:34:51</td>\n",
       "      <td>2023-04-13 12:13:33</td>\n",
       "      <td>Harvard St &amp; Adams Mill Rd NW</td>\n",
       "      <td>31112.0</td>\n",
       "      <td>10th St &amp; Constitution Ave NW</td>\n",
       "      <td>31219.0</td>\n",
       "      <td>38.927872</td>\n",
       "      <td>-77.043358</td>\n",
       "      <td>38.893028</td>\n",
       "      <td>-77.026013</td>\n",
       "      <td>member</td>\n",
       "    </tr>\n",
       "    <tr>\n",
       "      <th>116824</th>\n",
       "      <td>5DDB384604B22FF3</td>\n",
       "      <td>classic_bike</td>\n",
       "      <td>2023-04-13 11:34:51</td>\n",
       "      <td>2023-04-13 12:13:33</td>\n",
       "      <td>Harvard St &amp; Adams Mill Rd NW</td>\n",
       "      <td>31112.0</td>\n",
       "      <td>10th St &amp; Constitution Ave NW</td>\n",
       "      <td>31219.0</td>\n",
       "      <td>38.927872</td>\n",
       "      <td>-77.043358</td>\n",
       "      <td>38.893028</td>\n",
       "      <td>-77.026013</td>\n",
       "      <td>member</td>\n",
       "    </tr>\n",
       "    <tr>\n",
       "      <th>270438</th>\n",
       "      <td>1ED5A9D2E56238AF</td>\n",
       "      <td>classic_bike</td>\n",
       "      <td>2023-04-14 10:44:23</td>\n",
       "      <td>2023-04-14 10:56:30</td>\n",
       "      <td>11th &amp; Kenyon St NW</td>\n",
       "      <td>31102.0</td>\n",
       "      <td>1st &amp; Rhode Island Ave NW</td>\n",
       "      <td>31506.0</td>\n",
       "      <td>38.929464</td>\n",
       "      <td>-77.027822</td>\n",
       "      <td>38.915417</td>\n",
       "      <td>-77.012289</td>\n",
       "      <td>casual</td>\n",
       "    </tr>\n",
       "    <tr>\n",
       "      <th>268447</th>\n",
       "      <td>E5500FA88AF92AB9</td>\n",
       "      <td>classic_bike</td>\n",
       "      <td>2023-04-14 10:44:23</td>\n",
       "      <td>2023-04-14 10:56:30</td>\n",
       "      <td>11th &amp; Kenyon St NW</td>\n",
       "      <td>31102.0</td>\n",
       "      <td>1st &amp; Rhode Island Ave NW</td>\n",
       "      <td>31506.0</td>\n",
       "      <td>38.929464</td>\n",
       "      <td>-77.027822</td>\n",
       "      <td>38.915417</td>\n",
       "      <td>-77.012289</td>\n",
       "      <td>casual</td>\n",
       "    </tr>\n",
       "    <tr>\n",
       "      <th>181250</th>\n",
       "      <td>5F79A85B3875DE36</td>\n",
       "      <td>classic_bike</td>\n",
       "      <td>2023-04-14 14:26:21</td>\n",
       "      <td>2023-04-14 14:40:23</td>\n",
       "      <td>Massachusetts Ave &amp; Dupont Circle NW</td>\n",
       "      <td>31200.0</td>\n",
       "      <td>Henry Bacon Dr &amp; Lincoln Memorial Circle NW</td>\n",
       "      <td>31289.0</td>\n",
       "      <td>38.910100</td>\n",
       "      <td>-77.044400</td>\n",
       "      <td>38.890539</td>\n",
       "      <td>-77.049383</td>\n",
       "      <td>member</td>\n",
       "    </tr>\n",
       "    <tr>\n",
       "      <th>181246</th>\n",
       "      <td>D4A51E5B0A5AACAC</td>\n",
       "      <td>classic_bike</td>\n",
       "      <td>2023-04-14 14:26:21</td>\n",
       "      <td>2023-04-14 14:40:23</td>\n",
       "      <td>Massachusetts Ave &amp; Dupont Circle NW</td>\n",
       "      <td>31200.0</td>\n",
       "      <td>Henry Bacon Dr &amp; Lincoln Memorial Circle NW</td>\n",
       "      <td>31289.0</td>\n",
       "      <td>38.910100</td>\n",
       "      <td>-77.044400</td>\n",
       "      <td>38.890539</td>\n",
       "      <td>-77.049383</td>\n",
       "      <td>member</td>\n",
       "    </tr>\n",
       "    <tr>\n",
       "      <th>375265</th>\n",
       "      <td>E9FD0F0438D2D516</td>\n",
       "      <td>classic_bike</td>\n",
       "      <td>2023-04-16 18:43:42</td>\n",
       "      <td>2023-04-16 18:49:01</td>\n",
       "      <td>14th &amp; V St NW</td>\n",
       "      <td>31101.0</td>\n",
       "      <td>18th St &amp; Wyoming Ave NW</td>\n",
       "      <td>31114.0</td>\n",
       "      <td>38.917764</td>\n",
       "      <td>-77.032096</td>\n",
       "      <td>38.918809</td>\n",
       "      <td>-77.041571</td>\n",
       "      <td>member</td>\n",
       "    </tr>\n",
       "    <tr>\n",
       "      <th>382438</th>\n",
       "      <td>F1F9DE2C4D89E580</td>\n",
       "      <td>classic_bike</td>\n",
       "      <td>2023-04-16 18:43:42</td>\n",
       "      <td>2023-04-16 18:49:01</td>\n",
       "      <td>14th &amp; V St NW</td>\n",
       "      <td>31101.0</td>\n",
       "      <td>18th St &amp; Wyoming Ave NW</td>\n",
       "      <td>31114.0</td>\n",
       "      <td>38.917764</td>\n",
       "      <td>-77.032096</td>\n",
       "      <td>38.918809</td>\n",
       "      <td>-77.041571</td>\n",
       "      <td>member</td>\n",
       "    </tr>\n",
       "    <tr>\n",
       "      <th>32747</th>\n",
       "      <td>68F8EB5300667D15</td>\n",
       "      <td>classic_bike</td>\n",
       "      <td>2023-04-17 21:09:05</td>\n",
       "      <td>2023-04-17 21:29:36</td>\n",
       "      <td>15th St &amp; Pennsylvania Ave NW</td>\n",
       "      <td>31129.0</td>\n",
       "      <td>Independence Ave &amp; L'Enfant Plaza SW/DOE</td>\n",
       "      <td>31633.0</td>\n",
       "      <td>38.896465</td>\n",
       "      <td>-77.033381</td>\n",
       "      <td>38.887312</td>\n",
       "      <td>-77.025762</td>\n",
       "      <td>casual</td>\n",
       "    </tr>\n",
       "    <tr>\n",
       "      <th>32754</th>\n",
       "      <td>0493F8BAFBA455AE</td>\n",
       "      <td>classic_bike</td>\n",
       "      <td>2023-04-17 21:09:05</td>\n",
       "      <td>2023-04-17 21:29:36</td>\n",
       "      <td>15th St &amp; Pennsylvania Ave NW</td>\n",
       "      <td>31129.0</td>\n",
       "      <td>Independence Ave &amp; L'Enfant Plaza SW/DOE</td>\n",
       "      <td>31633.0</td>\n",
       "      <td>38.896465</td>\n",
       "      <td>-77.033381</td>\n",
       "      <td>38.887312</td>\n",
       "      <td>-77.025762</td>\n",
       "      <td>casual</td>\n",
       "    </tr>\n",
       "    <tr>\n",
       "      <th>376598</th>\n",
       "      <td>BACC3B4ED02D59C3</td>\n",
       "      <td>classic_bike</td>\n",
       "      <td>2023-04-18 00:30:50</td>\n",
       "      <td>2023-04-18 00:36:29</td>\n",
       "      <td>Eastern Market / 7th &amp; North Carolina Ave SE</td>\n",
       "      <td>31610.0</td>\n",
       "      <td>Lincoln Park / 13th &amp; East Capitol St NE</td>\n",
       "      <td>31619.0</td>\n",
       "      <td>38.886952</td>\n",
       "      <td>-76.996806</td>\n",
       "      <td>38.890461</td>\n",
       "      <td>-76.988355</td>\n",
       "      <td>member</td>\n",
       "    </tr>\n",
       "    <tr>\n",
       "      <th>370034</th>\n",
       "      <td>1AE0FB40EB75CB09</td>\n",
       "      <td>classic_bike</td>\n",
       "      <td>2023-04-18 00:30:50</td>\n",
       "      <td>2023-04-18 00:36:29</td>\n",
       "      <td>Eastern Market / 7th &amp; North Carolina Ave SE</td>\n",
       "      <td>31610.0</td>\n",
       "      <td>Lincoln Park / 13th &amp; East Capitol St NE</td>\n",
       "      <td>31619.0</td>\n",
       "      <td>38.886952</td>\n",
       "      <td>-76.996806</td>\n",
       "      <td>38.890461</td>\n",
       "      <td>-76.988355</td>\n",
       "      <td>member</td>\n",
       "    </tr>\n",
       "    <tr>\n",
       "      <th>185598</th>\n",
       "      <td>644654AABDE9CE43</td>\n",
       "      <td>classic_bike</td>\n",
       "      <td>2023-04-19 23:16:41</td>\n",
       "      <td>2023-04-19 23:24:13</td>\n",
       "      <td>8th &amp; V St NW</td>\n",
       "      <td>31134.0</td>\n",
       "      <td>1st &amp; O St NW</td>\n",
       "      <td>31519.0</td>\n",
       "      <td>38.917716</td>\n",
       "      <td>-77.022684</td>\n",
       "      <td>38.908643</td>\n",
       "      <td>-77.012365</td>\n",
       "      <td>casual</td>\n",
       "    </tr>\n",
       "    <tr>\n",
       "      <th>185605</th>\n",
       "      <td>AD07B36FA638DD7D</td>\n",
       "      <td>classic_bike</td>\n",
       "      <td>2023-04-19 23:16:41</td>\n",
       "      <td>2023-04-19 23:24:13</td>\n",
       "      <td>8th &amp; V St NW</td>\n",
       "      <td>31134.0</td>\n",
       "      <td>1st &amp; O St NW</td>\n",
       "      <td>31519.0</td>\n",
       "      <td>38.917716</td>\n",
       "      <td>-77.022684</td>\n",
       "      <td>38.908643</td>\n",
       "      <td>-77.012365</td>\n",
       "      <td>casual</td>\n",
       "    </tr>\n",
       "    <tr>\n",
       "      <th>166893</th>\n",
       "      <td>88E6A4E1335A67F9</td>\n",
       "      <td>classic_bike</td>\n",
       "      <td>2023-04-21 21:28:06</td>\n",
       "      <td>2023-04-21 21:35:46</td>\n",
       "      <td>Park Rd &amp; Holmead Pl NW</td>\n",
       "      <td>31602.0</td>\n",
       "      <td>15th &amp; Euclid St NW</td>\n",
       "      <td>31117.0</td>\n",
       "      <td>38.930800</td>\n",
       "      <td>-77.031500</td>\n",
       "      <td>38.923330</td>\n",
       "      <td>-77.035200</td>\n",
       "      <td>casual</td>\n",
       "    </tr>\n",
       "    <tr>\n",
       "      <th>171023</th>\n",
       "      <td>1D468823B851D1C0</td>\n",
       "      <td>classic_bike</td>\n",
       "      <td>2023-04-21 21:28:06</td>\n",
       "      <td>2023-04-21 21:35:46</td>\n",
       "      <td>Park Rd &amp; Holmead Pl NW</td>\n",
       "      <td>31602.0</td>\n",
       "      <td>15th &amp; Euclid St NW</td>\n",
       "      <td>31117.0</td>\n",
       "      <td>38.930800</td>\n",
       "      <td>-77.031500</td>\n",
       "      <td>38.923330</td>\n",
       "      <td>-77.035200</td>\n",
       "      <td>casual</td>\n",
       "    </tr>\n",
       "    <tr>\n",
       "      <th>28723</th>\n",
       "      <td>881D52ACEB8E23A6</td>\n",
       "      <td>classic_bike</td>\n",
       "      <td>2023-04-24 19:15:08</td>\n",
       "      <td>2023-04-24 19:26:00</td>\n",
       "      <td>Lincoln Park / 13th &amp; East Capitol St NE</td>\n",
       "      <td>31619.0</td>\n",
       "      <td>North Capitol St &amp; F St NW</td>\n",
       "      <td>31624.0</td>\n",
       "      <td>38.890461</td>\n",
       "      <td>-76.988355</td>\n",
       "      <td>38.897446</td>\n",
       "      <td>-77.009888</td>\n",
       "      <td>member</td>\n",
       "    </tr>\n",
       "    <tr>\n",
       "      <th>318444</th>\n",
       "      <td>25C2A6E11F083524</td>\n",
       "      <td>classic_bike</td>\n",
       "      <td>2023-04-24 19:15:08</td>\n",
       "      <td>2023-04-24 19:26:00</td>\n",
       "      <td>Lincoln Park / 13th &amp; East Capitol St NE</td>\n",
       "      <td>31619.0</td>\n",
       "      <td>North Capitol St &amp; F St NW</td>\n",
       "      <td>31624.0</td>\n",
       "      <td>38.890461</td>\n",
       "      <td>-76.988355</td>\n",
       "      <td>38.897446</td>\n",
       "      <td>-77.009888</td>\n",
       "      <td>member</td>\n",
       "    </tr>\n",
       "    <tr>\n",
       "      <th>109375</th>\n",
       "      <td>94B5409ACCF59DC1</td>\n",
       "      <td>classic_bike</td>\n",
       "      <td>2023-04-25 18:07:25</td>\n",
       "      <td>2023-04-25 18:13:00</td>\n",
       "      <td>7th St &amp; Florida Ave NW</td>\n",
       "      <td>31109.0</td>\n",
       "      <td>8th &amp; O St NW</td>\n",
       "      <td>31281.0</td>\n",
       "      <td>38.916137</td>\n",
       "      <td>-77.022003</td>\n",
       "      <td>38.908640</td>\n",
       "      <td>-77.022770</td>\n",
       "      <td>member</td>\n",
       "    </tr>\n",
       "    <tr>\n",
       "      <th>49231</th>\n",
       "      <td>59F4E23E35E30FDA</td>\n",
       "      <td>classic_bike</td>\n",
       "      <td>2023-04-25 18:07:25</td>\n",
       "      <td>2023-04-25 18:13:00</td>\n",
       "      <td>7th St &amp; Florida Ave NW</td>\n",
       "      <td>31109.0</td>\n",
       "      <td>8th &amp; O St NW</td>\n",
       "      <td>31281.0</td>\n",
       "      <td>38.916137</td>\n",
       "      <td>-77.022003</td>\n",
       "      <td>38.908640</td>\n",
       "      <td>-77.022770</td>\n",
       "      <td>member</td>\n",
       "    </tr>\n",
       "    <tr>\n",
       "      <th>376028</th>\n",
       "      <td>90F96FCE93916BC8</td>\n",
       "      <td>classic_bike</td>\n",
       "      <td>2023-04-29 16:13:05</td>\n",
       "      <td>2023-04-29 16:35:06</td>\n",
       "      <td>1st &amp; M St SE</td>\n",
       "      <td>31650.0</td>\n",
       "      <td>1st &amp; M St NE</td>\n",
       "      <td>31603.0</td>\n",
       "      <td>38.876893</td>\n",
       "      <td>-77.006072</td>\n",
       "      <td>38.905697</td>\n",
       "      <td>-77.005483</td>\n",
       "      <td>casual</td>\n",
       "    </tr>\n",
       "    <tr>\n",
       "      <th>61275</th>\n",
       "      <td>D5A8560B87994C09</td>\n",
       "      <td>classic_bike</td>\n",
       "      <td>2023-04-29 16:13:05</td>\n",
       "      <td>2023-04-29 16:35:06</td>\n",
       "      <td>1st &amp; M St SE</td>\n",
       "      <td>31650.0</td>\n",
       "      <td>1st &amp; M St NE</td>\n",
       "      <td>31603.0</td>\n",
       "      <td>38.876893</td>\n",
       "      <td>-77.006072</td>\n",
       "      <td>38.905697</td>\n",
       "      <td>-77.005483</td>\n",
       "      <td>casual</td>\n",
       "    </tr>\n",
       "    <tr>\n",
       "      <th>193465</th>\n",
       "      <td>D39B6ED682DE351F</td>\n",
       "      <td>classic_bike</td>\n",
       "      <td>2023-04-29 18:20:06</td>\n",
       "      <td>2023-04-29 18:32:46</td>\n",
       "      <td>Woodley Park Metro / Calvert St &amp; Connecticut ...</td>\n",
       "      <td>31323.0</td>\n",
       "      <td>16th &amp; Irving St NW</td>\n",
       "      <td>31122.0</td>\n",
       "      <td>38.923389</td>\n",
       "      <td>-77.051833</td>\n",
       "      <td>38.928893</td>\n",
       "      <td>-77.036250</td>\n",
       "      <td>casual</td>\n",
       "    </tr>\n",
       "    <tr>\n",
       "      <th>8774</th>\n",
       "      <td>270B87D3473E0079</td>\n",
       "      <td>classic_bike</td>\n",
       "      <td>2023-04-29 18:20:06</td>\n",
       "      <td>2023-04-29 18:32:46</td>\n",
       "      <td>Woodley Park Metro / Calvert St &amp; Connecticut ...</td>\n",
       "      <td>31323.0</td>\n",
       "      <td>16th &amp; Irving St NW</td>\n",
       "      <td>31122.0</td>\n",
       "      <td>38.923389</td>\n",
       "      <td>-77.051833</td>\n",
       "      <td>38.928893</td>\n",
       "      <td>-77.036250</td>\n",
       "      <td>casual</td>\n",
       "    </tr>\n",
       "    <tr>\n",
       "      <th>205867</th>\n",
       "      <td>C53DD47A4C219021</td>\n",
       "      <td>classic_bike</td>\n",
       "      <td>2023-04-29 23:47:50</td>\n",
       "      <td>2023-04-30 00:04:47</td>\n",
       "      <td>Adams Mill &amp; Columbia Rd NW</td>\n",
       "      <td>31104.0</td>\n",
       "      <td>14th &amp; Upshur St NW</td>\n",
       "      <td>31406.0</td>\n",
       "      <td>38.922849</td>\n",
       "      <td>-77.042525</td>\n",
       "      <td>38.942475</td>\n",
       "      <td>-77.032678</td>\n",
       "      <td>casual</td>\n",
       "    </tr>\n",
       "    <tr>\n",
       "      <th>205866</th>\n",
       "      <td>AAD87B342E97DB3E</td>\n",
       "      <td>classic_bike</td>\n",
       "      <td>2023-04-29 23:47:50</td>\n",
       "      <td>2023-04-30 00:04:47</td>\n",
       "      <td>Adams Mill &amp; Columbia Rd NW</td>\n",
       "      <td>31104.0</td>\n",
       "      <td>14th &amp; Upshur St NW</td>\n",
       "      <td>31406.0</td>\n",
       "      <td>38.922849</td>\n",
       "      <td>-77.042525</td>\n",
       "      <td>38.942475</td>\n",
       "      <td>-77.032678</td>\n",
       "      <td>casual</td>\n",
       "    </tr>\n",
       "    <tr>\n",
       "      <th>223272</th>\n",
       "      <td>00B691C7E957E5FE</td>\n",
       "      <td>classic_bike</td>\n",
       "      <td>2023-04-30 00:15:01</td>\n",
       "      <td>2023-04-30 00:22:25</td>\n",
       "      <td>Columbia &amp; Ontario Rd NW</td>\n",
       "      <td>31296.0</td>\n",
       "      <td>15th &amp; W St NW</td>\n",
       "      <td>31125.0</td>\n",
       "      <td>38.924088</td>\n",
       "      <td>-77.040787</td>\n",
       "      <td>38.919018</td>\n",
       "      <td>-77.034449</td>\n",
       "      <td>member</td>\n",
       "    </tr>\n",
       "    <tr>\n",
       "      <th>32803</th>\n",
       "      <td>C3B401B1C8A93F2B</td>\n",
       "      <td>classic_bike</td>\n",
       "      <td>2023-04-30 00:15:01</td>\n",
       "      <td>2023-04-30 00:22:25</td>\n",
       "      <td>Columbia &amp; Ontario Rd NW</td>\n",
       "      <td>31296.0</td>\n",
       "      <td>15th &amp; W St NW</td>\n",
       "      <td>31125.0</td>\n",
       "      <td>38.924088</td>\n",
       "      <td>-77.040787</td>\n",
       "      <td>38.919018</td>\n",
       "      <td>-77.034449</td>\n",
       "      <td>member</td>\n",
       "    </tr>\n",
       "  </tbody>\n",
       "</table>\n",
       "</div>"
      ],
      "text/plain": [
       "                 ride_id rideable_type           started_at  \\\n",
       "229411  EC87487562C28E93  classic_bike  2023-04-02 21:31:44   \n",
       "229409  1845562C28A56D03  classic_bike  2023-04-02 21:31:44   \n",
       "274578  02BAEE25CE7889D9  classic_bike  2023-04-07 12:37:35   \n",
       "274552  82BFA6942C47AC08  classic_bike  2023-04-07 12:37:35   \n",
       "185277  FD1FBFC11353FC0A  classic_bike  2023-04-09 13:53:40   \n",
       "81569   08052F97EFABD88E  classic_bike  2023-04-09 13:53:40   \n",
       "105108  9F691C5E28AF6256  classic_bike  2023-04-12 14:34:55   \n",
       "180957  DCEB1FEFC85ACBF0  classic_bike  2023-04-12 14:34:55   \n",
       "103669  BA2F8DE3F38F4CF2  classic_bike  2023-04-13 11:34:51   \n",
       "116824  5DDB384604B22FF3  classic_bike  2023-04-13 11:34:51   \n",
       "270438  1ED5A9D2E56238AF  classic_bike  2023-04-14 10:44:23   \n",
       "268447  E5500FA88AF92AB9  classic_bike  2023-04-14 10:44:23   \n",
       "181250  5F79A85B3875DE36  classic_bike  2023-04-14 14:26:21   \n",
       "181246  D4A51E5B0A5AACAC  classic_bike  2023-04-14 14:26:21   \n",
       "375265  E9FD0F0438D2D516  classic_bike  2023-04-16 18:43:42   \n",
       "382438  F1F9DE2C4D89E580  classic_bike  2023-04-16 18:43:42   \n",
       "32747   68F8EB5300667D15  classic_bike  2023-04-17 21:09:05   \n",
       "32754   0493F8BAFBA455AE  classic_bike  2023-04-17 21:09:05   \n",
       "376598  BACC3B4ED02D59C3  classic_bike  2023-04-18 00:30:50   \n",
       "370034  1AE0FB40EB75CB09  classic_bike  2023-04-18 00:30:50   \n",
       "185598  644654AABDE9CE43  classic_bike  2023-04-19 23:16:41   \n",
       "185605  AD07B36FA638DD7D  classic_bike  2023-04-19 23:16:41   \n",
       "166893  88E6A4E1335A67F9  classic_bike  2023-04-21 21:28:06   \n",
       "171023  1D468823B851D1C0  classic_bike  2023-04-21 21:28:06   \n",
       "28723   881D52ACEB8E23A6  classic_bike  2023-04-24 19:15:08   \n",
       "318444  25C2A6E11F083524  classic_bike  2023-04-24 19:15:08   \n",
       "109375  94B5409ACCF59DC1  classic_bike  2023-04-25 18:07:25   \n",
       "49231   59F4E23E35E30FDA  classic_bike  2023-04-25 18:07:25   \n",
       "376028  90F96FCE93916BC8  classic_bike  2023-04-29 16:13:05   \n",
       "61275   D5A8560B87994C09  classic_bike  2023-04-29 16:13:05   \n",
       "193465  D39B6ED682DE351F  classic_bike  2023-04-29 18:20:06   \n",
       "8774    270B87D3473E0079  classic_bike  2023-04-29 18:20:06   \n",
       "205867  C53DD47A4C219021  classic_bike  2023-04-29 23:47:50   \n",
       "205866  AAD87B342E97DB3E  classic_bike  2023-04-29 23:47:50   \n",
       "223272  00B691C7E957E5FE  classic_bike  2023-04-30 00:15:01   \n",
       "32803   C3B401B1C8A93F2B  classic_bike  2023-04-30 00:15:01   \n",
       "\n",
       "                   ended_at  \\\n",
       "229411  2023-04-02 21:54:18   \n",
       "229409  2023-04-02 21:54:18   \n",
       "274578  2023-04-07 13:21:06   \n",
       "274552  2023-04-07 13:21:06   \n",
       "185277  2023-04-09 14:20:30   \n",
       "81569   2023-04-09 14:20:30   \n",
       "105108  2023-04-12 15:18:48   \n",
       "180957  2023-04-12 15:18:48   \n",
       "103669  2023-04-13 12:13:33   \n",
       "116824  2023-04-13 12:13:33   \n",
       "270438  2023-04-14 10:56:30   \n",
       "268447  2023-04-14 10:56:30   \n",
       "181250  2023-04-14 14:40:23   \n",
       "181246  2023-04-14 14:40:23   \n",
       "375265  2023-04-16 18:49:01   \n",
       "382438  2023-04-16 18:49:01   \n",
       "32747   2023-04-17 21:29:36   \n",
       "32754   2023-04-17 21:29:36   \n",
       "376598  2023-04-18 00:36:29   \n",
       "370034  2023-04-18 00:36:29   \n",
       "185598  2023-04-19 23:24:13   \n",
       "185605  2023-04-19 23:24:13   \n",
       "166893  2023-04-21 21:35:46   \n",
       "171023  2023-04-21 21:35:46   \n",
       "28723   2023-04-24 19:26:00   \n",
       "318444  2023-04-24 19:26:00   \n",
       "109375  2023-04-25 18:13:00   \n",
       "49231   2023-04-25 18:13:00   \n",
       "376028  2023-04-29 16:35:06   \n",
       "61275   2023-04-29 16:35:06   \n",
       "193465  2023-04-29 18:32:46   \n",
       "8774    2023-04-29 18:32:46   \n",
       "205867  2023-04-30 00:04:47   \n",
       "205866  2023-04-30 00:04:47   \n",
       "223272  2023-04-30 00:22:25   \n",
       "32803   2023-04-30 00:22:25   \n",
       "\n",
       "                                       start_station_name  start_station_id  \\\n",
       "229411                              USDA / 12th & C St SW           31217.0   \n",
       "229409                              USDA / 12th & C St SW           31217.0   \n",
       "274578                      19th St & Constitution Ave NW           31235.0   \n",
       "274552                      19th St & Constitution Ave NW           31235.0   \n",
       "185277             3000 Connecticut Ave NW / National Zoo           31307.0   \n",
       "81569              3000 Connecticut Ave NW / National Zoo           31307.0   \n",
       "105108  Smithsonian-National Mall / Jefferson Dr & 12t...           31248.0   \n",
       "180957  Smithsonian-National Mall / Jefferson Dr & 12t...           31248.0   \n",
       "103669                      Harvard St & Adams Mill Rd NW           31112.0   \n",
       "116824                      Harvard St & Adams Mill Rd NW           31112.0   \n",
       "270438                                11th & Kenyon St NW           31102.0   \n",
       "268447                                11th & Kenyon St NW           31102.0   \n",
       "181250               Massachusetts Ave & Dupont Circle NW           31200.0   \n",
       "181246               Massachusetts Ave & Dupont Circle NW           31200.0   \n",
       "375265                                     14th & V St NW           31101.0   \n",
       "382438                                     14th & V St NW           31101.0   \n",
       "32747                       15th St & Pennsylvania Ave NW           31129.0   \n",
       "32754                       15th St & Pennsylvania Ave NW           31129.0   \n",
       "376598       Eastern Market / 7th & North Carolina Ave SE           31610.0   \n",
       "370034       Eastern Market / 7th & North Carolina Ave SE           31610.0   \n",
       "185598                                      8th & V St NW           31134.0   \n",
       "185605                                      8th & V St NW           31134.0   \n",
       "166893                            Park Rd & Holmead Pl NW           31602.0   \n",
       "171023                            Park Rd & Holmead Pl NW           31602.0   \n",
       "28723           Lincoln Park / 13th & East Capitol St NE            31619.0   \n",
       "318444          Lincoln Park / 13th & East Capitol St NE            31619.0   \n",
       "109375                            7th St & Florida Ave NW           31109.0   \n",
       "49231                             7th St & Florida Ave NW           31109.0   \n",
       "376028                                      1st & M St SE           31650.0   \n",
       "61275                                       1st & M St SE           31650.0   \n",
       "193465  Woodley Park Metro / Calvert St & Connecticut ...           31323.0   \n",
       "8774    Woodley Park Metro / Calvert St & Connecticut ...           31323.0   \n",
       "205867                        Adams Mill & Columbia Rd NW           31104.0   \n",
       "205866                        Adams Mill & Columbia Rd NW           31104.0   \n",
       "223272                           Columbia & Ontario Rd NW           31296.0   \n",
       "32803                            Columbia & Ontario Rd NW           31296.0   \n",
       "\n",
       "                                   end_station_name  end_station_id  \\\n",
       "229411                               20th & E St NW         31204.0   \n",
       "229409                               20th & E St NW         31204.0   \n",
       "274578                                1st & D St SE         31643.0   \n",
       "274552                                1st & D St SE         31643.0   \n",
       "185277                                1st & O St NW         31519.0   \n",
       "81569                                 1st & O St NW         31519.0   \n",
       "105108  Henry Bacon Dr & Lincoln Memorial Circle NW         31289.0   \n",
       "180957  Henry Bacon Dr & Lincoln Memorial Circle NW         31289.0   \n",
       "103669                10th St & Constitution Ave NW         31219.0   \n",
       "116824                10th St & Constitution Ave NW         31219.0   \n",
       "270438                    1st & Rhode Island Ave NW         31506.0   \n",
       "268447                    1st & Rhode Island Ave NW         31506.0   \n",
       "181250  Henry Bacon Dr & Lincoln Memorial Circle NW         31289.0   \n",
       "181246  Henry Bacon Dr & Lincoln Memorial Circle NW         31289.0   \n",
       "375265                     18th St & Wyoming Ave NW         31114.0   \n",
       "382438                     18th St & Wyoming Ave NW         31114.0   \n",
       "32747      Independence Ave & L'Enfant Plaza SW/DOE         31633.0   \n",
       "32754      Independence Ave & L'Enfant Plaza SW/DOE         31633.0   \n",
       "376598    Lincoln Park / 13th & East Capitol St NE          31619.0   \n",
       "370034    Lincoln Park / 13th & East Capitol St NE          31619.0   \n",
       "185598                                1st & O St NW         31519.0   \n",
       "185605                                1st & O St NW         31519.0   \n",
       "166893                          15th & Euclid St NW         31117.0   \n",
       "171023                          15th & Euclid St NW         31117.0   \n",
       "28723                    North Capitol St & F St NW         31624.0   \n",
       "318444                   North Capitol St & F St NW         31624.0   \n",
       "109375                                8th & O St NW         31281.0   \n",
       "49231                                 8th & O St NW         31281.0   \n",
       "376028                                1st & M St NE         31603.0   \n",
       "61275                                 1st & M St NE         31603.0   \n",
       "193465                          16th & Irving St NW         31122.0   \n",
       "8774                            16th & Irving St NW         31122.0   \n",
       "205867                          14th & Upshur St NW         31406.0   \n",
       "205866                          14th & Upshur St NW         31406.0   \n",
       "223272                               15th & W St NW         31125.0   \n",
       "32803                                15th & W St NW         31125.0   \n",
       "\n",
       "        start_lat  start_lng    end_lat    end_lng member_casual  \n",
       "229411  38.886277 -77.028242  38.896300 -77.045000        casual  \n",
       "229409  38.886277 -77.028242  38.896300 -77.045000        casual  \n",
       "274578  38.892212 -77.043074  38.884916 -77.005965        casual  \n",
       "274552  38.892212 -77.043074  38.884916 -77.005965        casual  \n",
       "185277  38.930282 -77.055599  38.908643 -77.012365        member  \n",
       "81569   38.930282 -77.055599  38.908643 -77.012365        member  \n",
       "105108  38.888774 -77.028694  38.890539 -77.049383        casual  \n",
       "180957  38.888774 -77.028694  38.890539 -77.049383        casual  \n",
       "103669  38.927872 -77.043358  38.893028 -77.026013        member  \n",
       "116824  38.927872 -77.043358  38.893028 -77.026013        member  \n",
       "270438  38.929464 -77.027822  38.915417 -77.012289        casual  \n",
       "268447  38.929464 -77.027822  38.915417 -77.012289        casual  \n",
       "181250  38.910100 -77.044400  38.890539 -77.049383        member  \n",
       "181246  38.910100 -77.044400  38.890539 -77.049383        member  \n",
       "375265  38.917764 -77.032096  38.918809 -77.041571        member  \n",
       "382438  38.917764 -77.032096  38.918809 -77.041571        member  \n",
       "32747   38.896465 -77.033381  38.887312 -77.025762        casual  \n",
       "32754   38.896465 -77.033381  38.887312 -77.025762        casual  \n",
       "376598  38.886952 -76.996806  38.890461 -76.988355        member  \n",
       "370034  38.886952 -76.996806  38.890461 -76.988355        member  \n",
       "185598  38.917716 -77.022684  38.908643 -77.012365        casual  \n",
       "185605  38.917716 -77.022684  38.908643 -77.012365        casual  \n",
       "166893  38.930800 -77.031500  38.923330 -77.035200        casual  \n",
       "171023  38.930800 -77.031500  38.923330 -77.035200        casual  \n",
       "28723   38.890461 -76.988355  38.897446 -77.009888        member  \n",
       "318444  38.890461 -76.988355  38.897446 -77.009888        member  \n",
       "109375  38.916137 -77.022003  38.908640 -77.022770        member  \n",
       "49231   38.916137 -77.022003  38.908640 -77.022770        member  \n",
       "376028  38.876893 -77.006072  38.905697 -77.005483        casual  \n",
       "61275   38.876893 -77.006072  38.905697 -77.005483        casual  \n",
       "193465  38.923389 -77.051833  38.928893 -77.036250        casual  \n",
       "8774    38.923389 -77.051833  38.928893 -77.036250        casual  \n",
       "205867  38.922849 -77.042525  38.942475 -77.032678        casual  \n",
       "205866  38.922849 -77.042525  38.942475 -77.032678        casual  \n",
       "223272  38.924088 -77.040787  38.919018 -77.034449        member  \n",
       "32803   38.924088 -77.040787  38.919018 -77.034449        member  "
      ]
     },
     "execution_count": 8,
     "metadata": {},
     "output_type": "execute_result"
    }
   ],
   "source": [
    "df_2023_04[df_2023_04.drop('ride_id', axis = 1).duplicated(keep=False)].sort_values(by=['started_at'])"
   ]
  },
  {
   "attachments": {},
   "cell_type": "markdown",
   "metadata": {},
   "source": [
    "drop duplicates"
   ]
  },
  {
   "cell_type": "code",
   "execution_count": 9,
   "metadata": {},
   "outputs": [],
   "source": [
    "#TODO"
   ]
  },
  {
   "attachments": {},
   "cell_type": "markdown",
   "metadata": {},
   "source": [
    "check and change data types"
   ]
  },
  {
   "cell_type": "code",
   "execution_count": 10,
   "metadata": {},
   "outputs": [
    {
     "data": {
      "text/plain": [
       "ride_id                object\n",
       "rideable_type          object\n",
       "started_at             object\n",
       "ended_at               object\n",
       "start_station_name     object\n",
       "start_station_id      float64\n",
       "end_station_name       object\n",
       "end_station_id        float64\n",
       "start_lat             float64\n",
       "start_lng             float64\n",
       "end_lat               float64\n",
       "end_lng               float64\n",
       "member_casual          object\n",
       "dtype: object"
      ]
     },
     "execution_count": 10,
     "metadata": {},
     "output_type": "execute_result"
    }
   ],
   "source": [
    "df_2023_04.dtypes"
   ]
  },
  {
   "cell_type": "code",
   "execution_count": 11,
   "metadata": {},
   "outputs": [
    {
     "data": {
      "text/plain": [
       "ride_id                       object\n",
       "rideable_type               category\n",
       "started_at            datetime64[ns]\n",
       "ended_at              datetime64[ns]\n",
       "start_station_name            object\n",
       "start_station_id             float64\n",
       "end_station_name              object\n",
       "end_station_id               float64\n",
       "start_lat                    float64\n",
       "start_lng                    float64\n",
       "end_lat                      float64\n",
       "end_lng                      float64\n",
       "member_casual               category\n",
       "dtype: object"
      ]
     },
     "execution_count": 11,
     "metadata": {},
     "output_type": "execute_result"
    }
   ],
   "source": [
    "# cast 'started_at' and 'ended_at' columns to pandas 'datetime' object dtype https://pandas.pydata.org/pandas-docs/stable/reference/api/pandas.to_datetime.html\n",
    "df_2023_04['started_at'] = pd.to_datetime(df_2023_04['started_at'])\n",
    "df_2023_04['ended_at'] = pd.to_datetime(df_2023_04['started_at'])\n",
    "\n",
    "#cast rideable_type and member_casual to categorical\n",
    "df_2023_04['rideable_type'] = pd.Categorical(df_2023_04['rideable_type'], ordered=False)\n",
    "df_2023_04['member_casual'] = pd.Categorical(df_2023_04['member_casual'], ordered=False)\n",
    "\n",
    "df_2023_04.dtypes"
   ]
  },
  {
   "cell_type": "code",
   "execution_count": null,
   "metadata": {},
   "outputs": [],
   "source": []
  },
  {
   "attachments": {},
   "cell_type": "markdown",
   "metadata": {},
   "source": [
    "check how many unique values are in each variable"
   ]
  },
  {
   "cell_type": "code",
   "execution_count": 12,
   "metadata": {},
   "outputs": [
    {
     "data": {
      "text/plain": [
       "ride_id               389243\n",
       "rideable_type              3\n",
       "started_at            343635\n",
       "ended_at              343635\n",
       "start_station_name       728\n",
       "start_station_id         727\n",
       "end_station_name         730\n",
       "end_station_id           729\n",
       "start_lat              76943\n",
       "start_lng              77423\n",
       "end_lat                  908\n",
       "end_lng                  920\n",
       "member_casual              2\n",
       "dtype: int64"
      ]
     },
     "metadata": {},
     "output_type": "display_data"
    }
   ],
   "source": [
    "display(df_2023_04.nunique())"
   ]
  },
  {
   "attachments": {},
   "cell_type": "markdown",
   "metadata": {},
   "source": [
    "Note: there are more ride IDs than unique times"
   ]
  },
  {
   "attachments": {},
   "cell_type": "markdown",
   "metadata": {},
   "source": [
    "check unique vehicle types in this dataset and number of journeys using each"
   ]
  },
  {
   "cell_type": "code",
   "execution_count": 13,
   "metadata": {},
   "outputs": [
    {
     "name": "stdout",
     "output_type": "stream",
     "text": [
      "classic_bike     257729\n",
      "electric_bike    113718\n",
      "docked_bike       17796\n",
      "Name: rideable_type, dtype: int64\n"
     ]
    },
    {
     "data": {
      "text/plain": [
       "<Axes: xlabel='rideable_type', ylabel='Count'>"
      ]
     },
     "execution_count": 13,
     "metadata": {},
     "output_type": "execute_result"
    },
    {
     "data": {
      "image/png": "[encoded data removed]",
      "text/plain": [
       "<Figure size 640x480 with 1 Axes>"
      ]
     },
     "metadata": {
      "image/png": {
       "height": 433,
       "width": 598
      }
     },
     "output_type": "display_data"
    }
   ],
   "source": [
    "print(df_2023_04.rideable_type.value_counts())\n",
    "sns.histplot(df_2023_04.rideable_type)"
   ]
  },
  {
   "attachments": {},
   "cell_type": "markdown",
   "metadata": {},
   "source": [
    "what is the difference between classic and docked bike? and do scooters not appear on the list?"
   ]
  },
  {
   "cell_type": "code",
   "execution_count": 14,
   "metadata": {},
   "outputs": [],
   "source": [
    "#TODO: graph by type in time series (extract date from datetime for graph"
   ]
  },
  {
   "cell_type": "code",
   "execution_count": 56,
   "metadata": {},
   "outputs": [
    {
     "ename": "ValueError",
     "evalue": "cannot insert started_at, already exists",
     "output_type": "error",
     "traceback": [
      "\u001b[0;31m---------------------------------------------------------------------------\u001b[0m",
      "\u001b[0;31mValueError\u001b[0m                                Traceback (most recent call last)",
      "Cell \u001b[0;32mIn[56], line 3\u001b[0m\n\u001b[1;32m      1\u001b[0m \u001b[39m#attempt: double grouping does not work well with any of the graphs I tried\u001b[39;00m\n\u001b[1;32m      2\u001b[0m df_date_r_t \u001b[39m=\u001b[39m df_2023_04\u001b[39m.\u001b[39mgroupby([\u001b[39m\"\u001b[39m\u001b[39mrideable_type\u001b[39m\u001b[39m\"\u001b[39m, df_2023_04[\u001b[39m\"\u001b[39m\u001b[39mstarted_at\u001b[39m\u001b[39m\"\u001b[39m]\u001b[39m.\u001b[39mdt\u001b[39m.\u001b[39mdate])\u001b[39m.\u001b[39mcount()\n\u001b[0;32m----> 3\u001b[0m df_date_r_t \u001b[39m=\u001b[39m df_date_r_t\u001b[39m.\u001b[39;49mreset_index()\n",
      "File \u001b[0;32m~/anaconda3/envs/stats_env/lib/python3.9/site-packages/pandas/util/_decorators.py:331\u001b[0m, in \u001b[0;36mdeprecate_nonkeyword_arguments.<locals>.decorate.<locals>.wrapper\u001b[0;34m(*args, **kwargs)\u001b[0m\n\u001b[1;32m    325\u001b[0m \u001b[39mif\u001b[39;00m \u001b[39mlen\u001b[39m(args) \u001b[39m>\u001b[39m num_allow_args:\n\u001b[1;32m    326\u001b[0m     warnings\u001b[39m.\u001b[39mwarn(\n\u001b[1;32m    327\u001b[0m         msg\u001b[39m.\u001b[39mformat(arguments\u001b[39m=\u001b[39m_format_argument_list(allow_args)),\n\u001b[1;32m    328\u001b[0m         \u001b[39mFutureWarning\u001b[39;00m,\n\u001b[1;32m    329\u001b[0m         stacklevel\u001b[39m=\u001b[39mfind_stack_level(),\n\u001b[1;32m    330\u001b[0m     )\n\u001b[0;32m--> 331\u001b[0m \u001b[39mreturn\u001b[39;00m func(\u001b[39m*\u001b[39;49margs, \u001b[39m*\u001b[39;49m\u001b[39m*\u001b[39;49mkwargs)\n",
      "File \u001b[0;32m~/anaconda3/envs/stats_env/lib/python3.9/site-packages/pandas/core/frame.py:6361\u001b[0m, in \u001b[0;36mDataFrame.reset_index\u001b[0;34m(self, level, drop, inplace, col_level, col_fill, allow_duplicates, names)\u001b[0m\n\u001b[1;32m   6355\u001b[0m         \u001b[39mif\u001b[39;00m lab \u001b[39mis\u001b[39;00m \u001b[39mnot\u001b[39;00m \u001b[39mNone\u001b[39;00m:\n\u001b[1;32m   6356\u001b[0m             \u001b[39m# if we have the codes, extract the values with a mask\u001b[39;00m\n\u001b[1;32m   6357\u001b[0m             level_values \u001b[39m=\u001b[39m algorithms\u001b[39m.\u001b[39mtake(\n\u001b[1;32m   6358\u001b[0m                 level_values, lab, allow_fill\u001b[39m=\u001b[39m\u001b[39mTrue\u001b[39;00m, fill_value\u001b[39m=\u001b[39mlev\u001b[39m.\u001b[39m_na_value\n\u001b[1;32m   6359\u001b[0m             )\n\u001b[0;32m-> 6361\u001b[0m         new_obj\u001b[39m.\u001b[39;49minsert(\n\u001b[1;32m   6362\u001b[0m             \u001b[39m0\u001b[39;49m,\n\u001b[1;32m   6363\u001b[0m             name,\n\u001b[1;32m   6364\u001b[0m             level_values,\n\u001b[1;32m   6365\u001b[0m             allow_duplicates\u001b[39m=\u001b[39;49mallow_duplicates,\n\u001b[1;32m   6366\u001b[0m         )\n\u001b[1;32m   6368\u001b[0m new_obj\u001b[39m.\u001b[39mindex \u001b[39m=\u001b[39m new_index\n\u001b[1;32m   6369\u001b[0m \u001b[39mif\u001b[39;00m \u001b[39mnot\u001b[39;00m inplace:\n",
      "File \u001b[0;32m~/anaconda3/envs/stats_env/lib/python3.9/site-packages/pandas/core/frame.py:4817\u001b[0m, in \u001b[0;36mDataFrame.insert\u001b[0;34m(self, loc, column, value, allow_duplicates)\u001b[0m\n\u001b[1;32m   4811\u001b[0m     \u001b[39mraise\u001b[39;00m \u001b[39mValueError\u001b[39;00m(\n\u001b[1;32m   4812\u001b[0m         \u001b[39m\"\u001b[39m\u001b[39mCannot specify \u001b[39m\u001b[39m'\u001b[39m\u001b[39mallow_duplicates=True\u001b[39m\u001b[39m'\u001b[39m\u001b[39m when \u001b[39m\u001b[39m\"\u001b[39m\n\u001b[1;32m   4813\u001b[0m         \u001b[39m\"\u001b[39m\u001b[39m'\u001b[39m\u001b[39mself.flags.allows_duplicate_labels\u001b[39m\u001b[39m'\u001b[39m\u001b[39m is False.\u001b[39m\u001b[39m\"\u001b[39m\n\u001b[1;32m   4814\u001b[0m     )\n\u001b[1;32m   4815\u001b[0m \u001b[39mif\u001b[39;00m \u001b[39mnot\u001b[39;00m allow_duplicates \u001b[39mand\u001b[39;00m column \u001b[39min\u001b[39;00m \u001b[39mself\u001b[39m\u001b[39m.\u001b[39mcolumns:\n\u001b[1;32m   4816\u001b[0m     \u001b[39m# Should this be a different kind of error??\u001b[39;00m\n\u001b[0;32m-> 4817\u001b[0m     \u001b[39mraise\u001b[39;00m \u001b[39mValueError\u001b[39;00m(\u001b[39mf\u001b[39m\u001b[39m\"\u001b[39m\u001b[39mcannot insert \u001b[39m\u001b[39m{\u001b[39;00mcolumn\u001b[39m}\u001b[39;00m\u001b[39m, already exists\u001b[39m\u001b[39m\"\u001b[39m)\n\u001b[1;32m   4818\u001b[0m \u001b[39mif\u001b[39;00m \u001b[39mnot\u001b[39;00m \u001b[39misinstance\u001b[39m(loc, \u001b[39mint\u001b[39m):\n\u001b[1;32m   4819\u001b[0m     \u001b[39mraise\u001b[39;00m \u001b[39mTypeError\u001b[39;00m(\u001b[39m\"\u001b[39m\u001b[39mloc must be int\u001b[39m\u001b[39m\"\u001b[39m)\n",
      "\u001b[0;31mValueError\u001b[0m: cannot insert started_at, already exists"
     ]
    }
   ],
   "source": [
    "#attempt: double grouping does not work well with any of the graphs I tried\n",
    "df_date_r_t = df_2023_04.groupby([\"rideable_type\", df_2023_04[\"started_at\"].dt.date]).count()\n",
    "df_date_r_t = df_date_r_t.reset_index()"
   ]
  },
  {
   "cell_type": "code",
   "execution_count": 46,
   "metadata": {},
   "outputs": [
    {
     "ename": "ValueError",
     "evalue": "cannot insert started_at, already exists",
     "output_type": "error",
     "traceback": [
      "\u001b[0;31m---------------------------------------------------------------------------\u001b[0m",
      "\u001b[0;31mValueError\u001b[0m                                Traceback (most recent call last)",
      "Cell \u001b[0;32mIn[46], line 6\u001b[0m\n\u001b[1;32m      1\u001b[0m \u001b[39m#first, plot all journeys' counts by date\u001b[39;00m\n\u001b[1;32m      2\u001b[0m \u001b[39m#begin with a series of counts grouped by date \u001b[39;00m\n\u001b[1;32m      3\u001b[0m \u001b[39m#df_per_date = df_2023_04[\"started_at\"].groupby(df_2023_04[\"started_at\"].dt.date).count()\u001b[39;00m\n\u001b[1;32m      4\u001b[0m \u001b[39m#df_per_date\u001b[39;00m\n\u001b[0;32m----> 6\u001b[0m df_per_date2 \u001b[39m=\u001b[39m df_2023_04\u001b[39m.\u001b[39;49mgroupby([(df_2023_04[\u001b[39m\"\u001b[39;49m\u001b[39mstarted_at\u001b[39;49m\u001b[39m\"\u001b[39;49m]\u001b[39m.\u001b[39;49mdt\u001b[39m.\u001b[39;49mdate), \u001b[39m\"\u001b[39;49m\u001b[39mrideable_type\u001b[39;49m\u001b[39m\"\u001b[39;49m])\u001b[39m.\u001b[39;49mcount()\u001b[39m.\u001b[39;49mreset_index()\n\u001b[1;32m      7\u001b[0m df_per_date2\n",
      "File \u001b[0;32m~/anaconda3/envs/stats_env/lib/python3.9/site-packages/pandas/util/_decorators.py:331\u001b[0m, in \u001b[0;36mdeprecate_nonkeyword_arguments.<locals>.decorate.<locals>.wrapper\u001b[0;34m(*args, **kwargs)\u001b[0m\n\u001b[1;32m    325\u001b[0m \u001b[39mif\u001b[39;00m \u001b[39mlen\u001b[39m(args) \u001b[39m>\u001b[39m num_allow_args:\n\u001b[1;32m    326\u001b[0m     warnings\u001b[39m.\u001b[39mwarn(\n\u001b[1;32m    327\u001b[0m         msg\u001b[39m.\u001b[39mformat(arguments\u001b[39m=\u001b[39m_format_argument_list(allow_args)),\n\u001b[1;32m    328\u001b[0m         \u001b[39mFutureWarning\u001b[39;00m,\n\u001b[1;32m    329\u001b[0m         stacklevel\u001b[39m=\u001b[39mfind_stack_level(),\n\u001b[1;32m    330\u001b[0m     )\n\u001b[0;32m--> 331\u001b[0m \u001b[39mreturn\u001b[39;00m func(\u001b[39m*\u001b[39;49margs, \u001b[39m*\u001b[39;49m\u001b[39m*\u001b[39;49mkwargs)\n",
      "File \u001b[0;32m~/anaconda3/envs/stats_env/lib/python3.9/site-packages/pandas/core/frame.py:6361\u001b[0m, in \u001b[0;36mDataFrame.reset_index\u001b[0;34m(self, level, drop, inplace, col_level, col_fill, allow_duplicates, names)\u001b[0m\n\u001b[1;32m   6355\u001b[0m         \u001b[39mif\u001b[39;00m lab \u001b[39mis\u001b[39;00m \u001b[39mnot\u001b[39;00m \u001b[39mNone\u001b[39;00m:\n\u001b[1;32m   6356\u001b[0m             \u001b[39m# if we have the codes, extract the values with a mask\u001b[39;00m\n\u001b[1;32m   6357\u001b[0m             level_values \u001b[39m=\u001b[39m algorithms\u001b[39m.\u001b[39mtake(\n\u001b[1;32m   6358\u001b[0m                 level_values, lab, allow_fill\u001b[39m=\u001b[39m\u001b[39mTrue\u001b[39;00m, fill_value\u001b[39m=\u001b[39mlev\u001b[39m.\u001b[39m_na_value\n\u001b[1;32m   6359\u001b[0m             )\n\u001b[0;32m-> 6361\u001b[0m         new_obj\u001b[39m.\u001b[39;49minsert(\n\u001b[1;32m   6362\u001b[0m             \u001b[39m0\u001b[39;49m,\n\u001b[1;32m   6363\u001b[0m             name,\n\u001b[1;32m   6364\u001b[0m             level_values,\n\u001b[1;32m   6365\u001b[0m             allow_duplicates\u001b[39m=\u001b[39;49mallow_duplicates,\n\u001b[1;32m   6366\u001b[0m         )\n\u001b[1;32m   6368\u001b[0m new_obj\u001b[39m.\u001b[39mindex \u001b[39m=\u001b[39m new_index\n\u001b[1;32m   6369\u001b[0m \u001b[39mif\u001b[39;00m \u001b[39mnot\u001b[39;00m inplace:\n",
      "File \u001b[0;32m~/anaconda3/envs/stats_env/lib/python3.9/site-packages/pandas/core/frame.py:4817\u001b[0m, in \u001b[0;36mDataFrame.insert\u001b[0;34m(self, loc, column, value, allow_duplicates)\u001b[0m\n\u001b[1;32m   4811\u001b[0m     \u001b[39mraise\u001b[39;00m \u001b[39mValueError\u001b[39;00m(\n\u001b[1;32m   4812\u001b[0m         \u001b[39m\"\u001b[39m\u001b[39mCannot specify \u001b[39m\u001b[39m'\u001b[39m\u001b[39mallow_duplicates=True\u001b[39m\u001b[39m'\u001b[39m\u001b[39m when \u001b[39m\u001b[39m\"\u001b[39m\n\u001b[1;32m   4813\u001b[0m         \u001b[39m\"\u001b[39m\u001b[39m'\u001b[39m\u001b[39mself.flags.allows_duplicate_labels\u001b[39m\u001b[39m'\u001b[39m\u001b[39m is False.\u001b[39m\u001b[39m\"\u001b[39m\n\u001b[1;32m   4814\u001b[0m     )\n\u001b[1;32m   4815\u001b[0m \u001b[39mif\u001b[39;00m \u001b[39mnot\u001b[39;00m allow_duplicates \u001b[39mand\u001b[39;00m column \u001b[39min\u001b[39;00m \u001b[39mself\u001b[39m\u001b[39m.\u001b[39mcolumns:\n\u001b[1;32m   4816\u001b[0m     \u001b[39m# Should this be a different kind of error??\u001b[39;00m\n\u001b[0;32m-> 4817\u001b[0m     \u001b[39mraise\u001b[39;00m \u001b[39mValueError\u001b[39;00m(\u001b[39mf\u001b[39m\u001b[39m\"\u001b[39m\u001b[39mcannot insert \u001b[39m\u001b[39m{\u001b[39;00mcolumn\u001b[39m}\u001b[39;00m\u001b[39m, already exists\u001b[39m\u001b[39m\"\u001b[39m)\n\u001b[1;32m   4818\u001b[0m \u001b[39mif\u001b[39;00m \u001b[39mnot\u001b[39;00m \u001b[39misinstance\u001b[39m(loc, \u001b[39mint\u001b[39m):\n\u001b[1;32m   4819\u001b[0m     \u001b[39mraise\u001b[39;00m \u001b[39mTypeError\u001b[39;00m(\u001b[39m\"\u001b[39m\u001b[39mloc must be int\u001b[39m\u001b[39m\"\u001b[39m)\n",
      "\u001b[0;31mValueError\u001b[0m: cannot insert started_at, already exists"
     ]
    }
   ],
   "source": [
    "#first, plot all journeys' counts by date\n",
    "#begin with a series of counts grouped by date \n",
    "#df_per_date = df_2023_04[\"started_at\"].groupby(df_2023_04[\"started_at\"].dt.date).count()\n",
    "#df_per_date\n",
    "\n",
    "df_per_date2 = df_2023_04.groupby([(df_2023_04[\"started_at\"].dt.date), \"rideable_type\"]).count()\n",
    "df_per_date2\n",
    "\n",
    "\n",
    "# df_per_date_m_c = df_2023_04[\"rideable_type\"].groupby(df_2023_04[\"started_at\"].dt.date).count()\n",
    "# df_per_date_m_c = pd.DataFrame(df_per_date_m_c).reset_index()\n",
    "# df_per_date_m_c"
   ]
  },
  {
   "cell_type": "code",
   "execution_count": 38,
   "metadata": {},
   "outputs": [
    {
     "data": {
      "image/png": "[encoded data removed]",
      "text/plain": [
       "<Figure size 640x480 with 1 Axes>"
      ]
     },
     "metadata": {
      "image/png": {
       "height": 460,
       "width": 623
      }
     },
     "output_type": "display_data"
    }
   ],
   "source": [
    "# make a line plot with three lines for daily counts of vehicle types\n",
    "\n",
    "sns.lineplot(x=\"started_at\", y=\"rideable_type\", data=df_per_date_m_c)\n",
    "\n",
    "plt.xticks(rotation=20)\n",
    "\n",
    "plt.show()"
   ]
  },
  {
   "cell_type": "code",
   "execution_count": 26,
   "metadata": {},
   "outputs": [
    {
     "ename": "ValueError",
     "evalue": "The following variable cannot be assigned with wide-form data: `hue`",
     "output_type": "error",
     "traceback": [
      "\u001b[0;31m---------------------------------------------------------------------------\u001b[0m",
      "\u001b[0;31mValueError\u001b[0m                                Traceback (most recent call last)",
      "Cell \u001b[0;32mIn[26], line 3\u001b[0m\n\u001b[1;32m      1\u001b[0m \u001b[39m#TODO: problem: all rides on one day are now grouped, and vehicle type is lost. maybe better to stack 2 graphs after all.\u001b[39;00m\n\u001b[1;32m      2\u001b[0m \u001b[39m#TODO: include or otherwise filter. merge 2 graphs into 1 plot? use seaborn hue?\u001b[39;00m\n\u001b[0;32m----> 3\u001b[0m sns\u001b[39m.\u001b[39;49mlineplot(data\u001b[39m=\u001b[39;49m df_2023_04[\u001b[39m\"\u001b[39;49m\u001b[39mstarted_at\u001b[39;49m\u001b[39m\"\u001b[39;49m]\u001b[39m.\u001b[39;49mdt\u001b[39m.\u001b[39;49mdate, hue\u001b[39m=\u001b[39;49m\u001b[39m\"\u001b[39;49m\u001b[39mrideable_type\u001b[39;49m\u001b[39m\"\u001b[39;49m)\n",
      "File \u001b[0;32m~/anaconda3/envs/stats_env/lib/python3.9/site-packages/seaborn/relational.py:618\u001b[0m, in \u001b[0;36mlineplot\u001b[0;34m(data, x, y, hue, size, style, units, palette, hue_order, hue_norm, sizes, size_order, size_norm, dashes, markers, style_order, estimator, errorbar, n_boot, seed, orient, sort, err_style, err_kws, legend, ci, ax, **kwargs)\u001b[0m\n\u001b[1;32m    615\u001b[0m errorbar \u001b[39m=\u001b[39m _deprecate_ci(errorbar, ci)\n\u001b[1;32m    617\u001b[0m variables \u001b[39m=\u001b[39m _LinePlotter\u001b[39m.\u001b[39mget_semantics(\u001b[39mlocals\u001b[39m())\n\u001b[0;32m--> 618\u001b[0m p \u001b[39m=\u001b[39m _LinePlotter(\n\u001b[1;32m    619\u001b[0m     data\u001b[39m=\u001b[39;49mdata, variables\u001b[39m=\u001b[39;49mvariables,\n\u001b[1;32m    620\u001b[0m     estimator\u001b[39m=\u001b[39;49mestimator, n_boot\u001b[39m=\u001b[39;49mn_boot, seed\u001b[39m=\u001b[39;49mseed, errorbar\u001b[39m=\u001b[39;49merrorbar,\n\u001b[1;32m    621\u001b[0m     sort\u001b[39m=\u001b[39;49msort, orient\u001b[39m=\u001b[39;49morient, err_style\u001b[39m=\u001b[39;49merr_style, err_kws\u001b[39m=\u001b[39;49merr_kws,\n\u001b[1;32m    622\u001b[0m     legend\u001b[39m=\u001b[39;49mlegend,\n\u001b[1;32m    623\u001b[0m )\n\u001b[1;32m    625\u001b[0m p\u001b[39m.\u001b[39mmap_hue(palette\u001b[39m=\u001b[39mpalette, order\u001b[39m=\u001b[39mhue_order, norm\u001b[39m=\u001b[39mhue_norm)\n\u001b[1;32m    626\u001b[0m p\u001b[39m.\u001b[39mmap_size(sizes\u001b[39m=\u001b[39msizes, order\u001b[39m=\u001b[39msize_order, norm\u001b[39m=\u001b[39msize_norm)\n",
      "File \u001b[0;32m~/anaconda3/envs/stats_env/lib/python3.9/site-packages/seaborn/relational.py:365\u001b[0m, in \u001b[0;36m_LinePlotter.__init__\u001b[0;34m(self, data, variables, estimator, n_boot, seed, errorbar, sort, orient, err_style, err_kws, legend)\u001b[0m\n\u001b[1;32m    351\u001b[0m \u001b[39mdef\u001b[39;00m \u001b[39m__init__\u001b[39m(\n\u001b[1;32m    352\u001b[0m     \u001b[39mself\u001b[39m, \u001b[39m*\u001b[39m,\n\u001b[1;32m    353\u001b[0m     data\u001b[39m=\u001b[39m\u001b[39mNone\u001b[39;00m, variables\u001b[39m=\u001b[39m{},\n\u001b[0;32m   (...)\u001b[0m\n\u001b[1;32m    359\u001b[0m     \u001b[39m# the kind of plot to draw, but for the time being we need to set\u001b[39;00m\n\u001b[1;32m    360\u001b[0m     \u001b[39m# this information so the SizeMapping can use it\u001b[39;00m\n\u001b[1;32m    361\u001b[0m     \u001b[39mself\u001b[39m\u001b[39m.\u001b[39m_default_size_range \u001b[39m=\u001b[39m (\n\u001b[1;32m    362\u001b[0m         np\u001b[39m.\u001b[39mr_[\u001b[39m.5\u001b[39m, \u001b[39m2\u001b[39m] \u001b[39m*\u001b[39m mpl\u001b[39m.\u001b[39mrcParams[\u001b[39m\"\u001b[39m\u001b[39mlines.linewidth\u001b[39m\u001b[39m\"\u001b[39m]\n\u001b[1;32m    363\u001b[0m     )\n\u001b[0;32m--> 365\u001b[0m     \u001b[39msuper\u001b[39;49m()\u001b[39m.\u001b[39;49m\u001b[39m__init__\u001b[39;49m(data\u001b[39m=\u001b[39;49mdata, variables\u001b[39m=\u001b[39;49mvariables)\n\u001b[1;32m    367\u001b[0m     \u001b[39mself\u001b[39m\u001b[39m.\u001b[39mestimator \u001b[39m=\u001b[39m estimator\n\u001b[1;32m    368\u001b[0m     \u001b[39mself\u001b[39m\u001b[39m.\u001b[39merrorbar \u001b[39m=\u001b[39m errorbar\n",
      "File \u001b[0;32m~/anaconda3/envs/stats_env/lib/python3.9/site-packages/seaborn/_oldcore.py:640\u001b[0m, in \u001b[0;36mVectorPlotter.__init__\u001b[0;34m(self, data, variables)\u001b[0m\n\u001b[1;32m    635\u001b[0m \u001b[39m# var_ordered is relevant only for categorical axis variables, and may\u001b[39;00m\n\u001b[1;32m    636\u001b[0m \u001b[39m# be better handled by an internal axis information object that tracks\u001b[39;00m\n\u001b[1;32m    637\u001b[0m \u001b[39m# such information and is set up by the scale_* methods. The analogous\u001b[39;00m\n\u001b[1;32m    638\u001b[0m \u001b[39m# information for numeric axes would be information about log scales.\u001b[39;00m\n\u001b[1;32m    639\u001b[0m \u001b[39mself\u001b[39m\u001b[39m.\u001b[39m_var_ordered \u001b[39m=\u001b[39m {\u001b[39m\"\u001b[39m\u001b[39mx\u001b[39m\u001b[39m\"\u001b[39m: \u001b[39mFalse\u001b[39;00m, \u001b[39m\"\u001b[39m\u001b[39my\u001b[39m\u001b[39m\"\u001b[39m: \u001b[39mFalse\u001b[39;00m}  \u001b[39m# alt., used DefaultDict\u001b[39;00m\n\u001b[0;32m--> 640\u001b[0m \u001b[39mself\u001b[39;49m\u001b[39m.\u001b[39;49massign_variables(data, variables)\n\u001b[1;32m    642\u001b[0m \u001b[39mfor\u001b[39;00m var, \u001b[39mcls\u001b[39m \u001b[39min\u001b[39;00m \u001b[39mself\u001b[39m\u001b[39m.\u001b[39m_semantic_mappings\u001b[39m.\u001b[39mitems():\n\u001b[1;32m    643\u001b[0m \n\u001b[1;32m    644\u001b[0m     \u001b[39m# Create the mapping function\u001b[39;00m\n\u001b[1;32m    645\u001b[0m     map_func \u001b[39m=\u001b[39m partial(\u001b[39mcls\u001b[39m\u001b[39m.\u001b[39mmap, plotter\u001b[39m=\u001b[39m\u001b[39mself\u001b[39m)\n",
      "File \u001b[0;32m~/anaconda3/envs/stats_env/lib/python3.9/site-packages/seaborn/_oldcore.py:696\u001b[0m, in \u001b[0;36mVectorPlotter.assign_variables\u001b[0;34m(self, data, variables)\u001b[0m\n\u001b[1;32m    694\u001b[0m \u001b[39mif\u001b[39;00m x \u001b[39mis\u001b[39;00m \u001b[39mNone\u001b[39;00m \u001b[39mand\u001b[39;00m y \u001b[39mis\u001b[39;00m \u001b[39mNone\u001b[39;00m:\n\u001b[1;32m    695\u001b[0m     \u001b[39mself\u001b[39m\u001b[39m.\u001b[39minput_format \u001b[39m=\u001b[39m \u001b[39m\"\u001b[39m\u001b[39mwide\u001b[39m\u001b[39m\"\u001b[39m\n\u001b[0;32m--> 696\u001b[0m     plot_data, variables \u001b[39m=\u001b[39m \u001b[39mself\u001b[39;49m\u001b[39m.\u001b[39;49m_assign_variables_wideform(\n\u001b[1;32m    697\u001b[0m         data, \u001b[39m*\u001b[39;49m\u001b[39m*\u001b[39;49mvariables,\n\u001b[1;32m    698\u001b[0m     )\n\u001b[1;32m    699\u001b[0m \u001b[39melse\u001b[39;00m:\n\u001b[1;32m    700\u001b[0m     \u001b[39mself\u001b[39m\u001b[39m.\u001b[39minput_format \u001b[39m=\u001b[39m \u001b[39m\"\u001b[39m\u001b[39mlong\u001b[39m\u001b[39m\"\u001b[39m\n",
      "File \u001b[0;32m~/anaconda3/envs/stats_env/lib/python3.9/site-packages/seaborn/_oldcore.py:745\u001b[0m, in \u001b[0;36mVectorPlotter._assign_variables_wideform\u001b[0;34m(self, data, **kwargs)\u001b[0m\n\u001b[1;32m    743\u001b[0m     err \u001b[39m=\u001b[39m \u001b[39mf\u001b[39m\u001b[39m\"\u001b[39m\u001b[39mThe following variable\u001b[39m\u001b[39m{\u001b[39;00ms\u001b[39m}\u001b[39;00m\u001b[39m cannot be assigned with wide-form data: \u001b[39m\u001b[39m\"\u001b[39m\n\u001b[1;32m    744\u001b[0m     err \u001b[39m+\u001b[39m\u001b[39m=\u001b[39m \u001b[39m\"\u001b[39m\u001b[39m, \u001b[39m\u001b[39m\"\u001b[39m\u001b[39m.\u001b[39mjoin(\u001b[39mf\u001b[39m\u001b[39m\"\u001b[39m\u001b[39m`\u001b[39m\u001b[39m{\u001b[39;00mv\u001b[39m}\u001b[39;00m\u001b[39m`\u001b[39m\u001b[39m\"\u001b[39m \u001b[39mfor\u001b[39;00m v \u001b[39min\u001b[39;00m assigned)\n\u001b[0;32m--> 745\u001b[0m     \u001b[39mraise\u001b[39;00m \u001b[39mValueError\u001b[39;00m(err)\n\u001b[1;32m    747\u001b[0m \u001b[39m# Determine if the data object actually has any data in it\u001b[39;00m\n\u001b[1;32m    748\u001b[0m empty \u001b[39m=\u001b[39m data \u001b[39mis\u001b[39;00m \u001b[39mNone\u001b[39;00m \u001b[39mor\u001b[39;00m \u001b[39mnot\u001b[39;00m \u001b[39mlen\u001b[39m(data)\n",
      "\u001b[0;31mValueError\u001b[0m: The following variable cannot be assigned with wide-form data: `hue`"
     ]
    }
   ],
   "source": [
    "\n",
    "#TODO: problem: all rides on one day are now grouped, and vehicle type is lost. maybe better to stack 2 graphs after all.\n",
    "#TODO: include or otherwise filter. merge 2 graphs into 1 plot? use seaborn hue?\n",
    "sns.lineplot(data= df_2023_04[\"started_at\"].dt.date, hue=\"rideable_type\")\n"
   ]
  },
  {
   "cell_type": "code",
   "execution_count": null,
   "metadata": {},
   "outputs": [],
   "source": []
  },
  {
   "attachments": {},
   "cell_type": "markdown",
   "metadata": {},
   "source": [
    "# Histplot/univariate plots"
   ]
  },
  {
   "cell_type": "code",
   "execution_count": null,
   "metadata": {},
   "outputs": [],
   "source": [
    "sns.set_theme(style=\"whitegrid\", palette=\"pastel\")\n",
    "\n",
    "sns.pairplot(df_2023_04.drop(columns = ['start_station_id', 'end_station_id'], axis = 1))\n",
    "plt.suptitle('Univariate plots April 2023')"
   ]
  },
  {
   "cell_type": "code",
   "execution_count": null,
   "metadata": {},
   "outputs": [],
   "source": [
    "sns.displot(data=df_2023_04.started_at.dt.hour)\n",
    "#TODO next: extract day, hour, month from datetime object"
   ]
  },
  {
   "attachments": {},
   "cell_type": "markdown",
   "metadata": {},
   "source": [
    "# Scatterplots: Do registered riders ride further?"
   ]
  },
  {
   "cell_type": "code",
   "execution_count": null,
   "metadata": {},
   "outputs": [],
   "source": [
    "#TODO"
   ]
  },
  {
   "cell_type": "code",
   "execution_count": null,
   "metadata": {},
   "outputs": [],
   "source": [
    "# fig, axes=plt.subplots(1,2)\n",
    "\n",
    "# sns.set_style('darkgrid')\n",
    "# sns.scatterplot(ax=axes[0], data=df_hour, y=df_hour.cnt, x=df_hour.windspeed, hue='registered_proportion')\n",
    "# axes[0].set_title('Windspeed')\n",
    "\n",
    "# sns.scatterplot(ax=axes[1],data=df_hour, y=df_hour.cnt, x=df_hour.temp, hue='registered_proportion')\n",
    "# axes[1].set_title('Temperature (Normalized)')\n",
    "\n",
    "# fig.suptitle('Count of rides by windspeed and temperature')\n",
    "\n",
    "# plt.tight_layout()"
   ]
  },
  {
   "attachments": {},
   "cell_type": "markdown",
   "metadata": {},
   "source": [
    "## Boxplot of day-wise Distribution"
   ]
  },
  {
   "cell_type": "code",
   "execution_count": null,
   "metadata": {},
   "outputs": [],
   "source": [
    "#TODO: sns.boxplot(data=df_2023_04, x='', y='')"
   ]
  },
  {
   "attachments": {},
   "cell_type": "markdown",
   "metadata": {},
   "source": [
    "# Trips per day per bicycle (TDB)\n",
    "This is a metric proposed for the success of a bike sharing scheme bye Médard de Chardon et al. (2017)"
   ]
  },
  {
   "cell_type": "code",
   "execution_count": null,
   "metadata": {},
   "outputs": [],
   "source": []
  },
  {
   "attachments": {},
   "cell_type": "markdown",
   "metadata": {},
   "source": [
    "# Multivariate analysis: heatmap"
   ]
  },
  {
   "cell_type": "code",
   "execution_count": null,
   "metadata": {},
   "outputs": [],
   "source": [
    "#TODO"
   ]
  },
  {
   "attachments": {},
   "cell_type": "markdown",
   "metadata": {},
   "source": [
    "# Time Series Analysis"
   ]
  },
  {
   "attachments": {},
   "cell_type": "markdown",
   "metadata": {},
   "source": [
    "# Time Series line graphs"
   ]
  },
  {
   "cell_type": "code",
   "execution_count": null,
   "metadata": {},
   "outputs": [],
   "source": [
    "# x = df_day['dteday']\n",
    "# y = df_day['cnt']\n",
    "\n",
    "# plt.plot(x, y)\n",
    "\n",
    "# plt.title('Rides per day')\n",
    "# plt.xlabel('Date')\n",
    "# plt.ylabel('Rides')"
   ]
  },
  {
   "attachments": {},
   "cell_type": "markdown",
   "metadata": {},
   "source": [
    "Linear regression with time series"
   ]
  },
  {
   "cell_type": "code",
   "execution_count": null,
   "metadata": {},
   "outputs": [],
   "source": [
    "#TODO"
   ]
  },
  {
   "cell_type": "code",
   "execution_count": 54,
   "metadata": {},
   "outputs": [
    {
     "name": "stdout",
     "output_type": "stream",
     "text": [
      "            Gasoline      Electric     \n",
      "              Toyoto Ford    Tesla  Nio\n",
      "Courses Fee                            \n",
      "r0      rA       100  300      900  400\n",
      "r1      rB       200  500      300  600\n"
     ]
    }
   ],
   "source": [
    "import pandas as pd\n",
    "multi_index = pd.MultiIndex.from_tuples([(\"r0\", \"rA\"),\n",
    "                                       (\"r1\", \"rB\")],\n",
    "                                       names=['Courses','Fee'])\n",
    "cols = pd.MultiIndex.from_tuples([(\"Gasoline\", \"Toyoto\"), \n",
    "                                  (\"Gasoline\", \"Ford\"), \n",
    "                                  (\"Electric\", \"Tesla\"),\n",
    "                                  (\"Electric\", \"Nio\")])\n",
    "\n",
    "data=[[100,300, 900,400 ], [200,500, 300,600]]\n",
    "\n",
    "df = pd.DataFrame(data, columns=cols,index=multi_index)\n",
    "print(df)"
   ]
  },
  {
   "cell_type": "code",
   "execution_count": null,
   "metadata": {},
   "outputs": [],
   "source": [
    "\n",
    "# MultiIndex to Single Index\n",
    "df2 = df.reset_index(level=[1])\n",
    "print(df2)\n"
   ]
  },
  {
   "cell_type": "code",
   "execution_count": 55,
   "metadata": {},
   "outputs": [
    {
     "name": "stdout",
     "output_type": "stream",
     "text": [
      "  Courses Fee Gasoline      Electric     \n",
      "                Toyoto Ford    Tesla  Nio\n",
      "0      r0  rA      100  300      900  400\n",
      "1      r1  rB      200  500      300  600\n"
     ]
    }
   ],
   "source": [
    "\n",
    "# Convert Multi-index to Columns\n",
    "df2=df.reset_index()\n",
    "print(df2)\n"
   ]
  }
 ],
 "metadata": {
  "kernelspec": {
   "display_name": "stats_env",
   "language": "python",
   "name": "python3"
  },
  "language_info": {
   "codemirror_mode": {
    "name": "ipython",
    "version": 3
   },
   "file_extension": ".py",
   "mimetype": "text/x-python",
   "name": "python",
   "nbconvert_exporter": "python",
   "pygments_lexer": "ipython3",
   "version": "3.9.16"
  },
  "orig_nbformat": 4
 },
 "nbformat": 4,
 "nbformat_minor": 2
}
